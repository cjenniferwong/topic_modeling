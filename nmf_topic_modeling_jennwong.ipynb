{
 "cells": [
  {
   "cell_type": "markdown",
   "metadata": {},
   "source": [
    "# Topic Modeling and Recommending Similar Stories"
   ]
  },
  {
   "cell_type": "code",
   "execution_count": 1,
   "metadata": {
    "ExecuteTime": {
     "end_time": "2020-03-10T05:00:20.040833Z",
     "start_time": "2020-03-10T05:00:19.008676Z"
    }
   },
   "outputs": [
    {
     "data": {
      "text/plain": [
       "['../../data/stories_2019.csv', '../../data/reactions_2019.csv']"
      ]
     },
     "execution_count": 1,
     "metadata": {},
     "output_type": "execute_result"
    }
   ],
   "source": [
    "import pandas as pd\n",
    "import numpy as np\n",
    "import seaborn as sns\n",
    "import matplotlib.pyplot as plt\n",
    "%matplotlib inline\n",
    "\n",
    "random_state=42 # to make sure its reproducible\n",
    "\n",
    "from glob import glob\n",
    "datafiles = glob('../../data/*')\n",
    "datafiles"
   ]
  },
  {
   "cell_type": "code",
   "execution_count": 2,
   "metadata": {
    "ExecuteTime": {
     "end_time": "2020-03-10T05:00:21.053839Z",
     "start_time": "2020-03-10T05:00:20.045604Z"
    }
   },
   "outputs": [],
   "source": [
    "from nltk.tokenize import word_tokenize\n",
    "from nltk import pos_tag\n",
    "from nltk.stem import WordNetLemmatizer\n",
    "import string\n",
    "\n",
    "from sklearn.feature_extraction.text import CountVectorizer, TfidfVectorizer\n",
    "from nltk.corpus import stopwords\n",
    "from gensim.matutils import Sparse2Corpus\n",
    "from gensim.models import LdaMulticore\n",
    "from sklearn.decomposition import NMF, TruncatedSVD, LatentDirichletAllocation\n",
    "from sklearn.metrics.pairwise import cosine_similarity"
   ]
  },
  {
   "cell_type": "code",
   "execution_count": 3,
   "metadata": {
    "ExecuteTime": {
     "end_time": "2020-03-10T05:00:21.141051Z",
     "start_time": "2020-03-10T05:00:21.056681Z"
    }
   },
   "outputs": [
    {
     "name": "stdout",
     "output_type": "stream",
     "text": [
      "Index(['Id', 'Perspective', 'Age', 'Lgbtq', 'Race', 'Phone', 'Topic', 'Title',\n",
      "       'Lede', 'Published at', 'Like', 'Cringey', 'Haha', 'Me too',\n",
      "       'Interesting', 'Story texts', 'Link url', 'Link photo url',\n",
      "       'Link title', 'Link site name', 'Link body'],\n",
      "      dtype='object')\n"
     ]
    },
    {
     "data": {
      "text/html": [
       "<div>\n",
       "<style scoped>\n",
       "    .dataframe tbody tr th:only-of-type {\n",
       "        vertical-align: middle;\n",
       "    }\n",
       "\n",
       "    .dataframe tbody tr th {\n",
       "        vertical-align: top;\n",
       "    }\n",
       "\n",
       "    .dataframe thead th {\n",
       "        text-align: right;\n",
       "    }\n",
       "</style>\n",
       "<table border=\"1\" class=\"dataframe\">\n",
       "  <thead>\n",
       "    <tr style=\"text-align: right;\">\n",
       "      <th></th>\n",
       "      <th>Id</th>\n",
       "      <th>Perspective</th>\n",
       "      <th>Age</th>\n",
       "      <th>Lgbtq</th>\n",
       "      <th>Race</th>\n",
       "      <th>Phone</th>\n",
       "      <th>Topic</th>\n",
       "      <th>Title</th>\n",
       "      <th>Lede</th>\n",
       "      <th>Published at</th>\n",
       "      <th>...</th>\n",
       "      <th>Cringey</th>\n",
       "      <th>Haha</th>\n",
       "      <th>Me too</th>\n",
       "      <th>Interesting</th>\n",
       "      <th>Story texts</th>\n",
       "      <th>Link url</th>\n",
       "      <th>Link photo url</th>\n",
       "      <th>Link title</th>\n",
       "      <th>Link site name</th>\n",
       "      <th>Link body</th>\n",
       "    </tr>\n",
       "  </thead>\n",
       "  <tbody>\n",
       "    <tr>\n",
       "      <th>0</th>\n",
       "      <td>2269</td>\n",
       "      <td>female</td>\n",
       "      <td>19.0</td>\n",
       "      <td>no</td>\n",
       "      <td>white</td>\n",
       "      <td>870</td>\n",
       "      <td>relationships</td>\n",
       "      <td>NaN</td>\n",
       "      <td>NaN</td>\n",
       "      <td>NaN</td>\n",
       "      <td>...</td>\n",
       "      <td>0</td>\n",
       "      <td>0</td>\n",
       "      <td>0</td>\n",
       "      <td>0</td>\n",
       "      <td>Well I was in my house and when I asked my eye...</td>\n",
       "      <td>NaN</td>\n",
       "      <td>NaN</td>\n",
       "      <td>NaN</td>\n",
       "      <td>NaN</td>\n",
       "      <td>NaN</td>\n",
       "    </tr>\n",
       "    <tr>\n",
       "      <th>1</th>\n",
       "      <td>2268</td>\n",
       "      <td>female</td>\n",
       "      <td>18.0</td>\n",
       "      <td>no</td>\n",
       "      <td>white</td>\n",
       "      <td>3253073887</td>\n",
       "      <td>bullying</td>\n",
       "      <td>NaN</td>\n",
       "      <td>I just need to work on my confidence</td>\n",
       "      <td>2020-01-06 00:00:00 UTC</td>\n",
       "      <td>...</td>\n",
       "      <td>1</td>\n",
       "      <td>1</td>\n",
       "      <td>1</td>\n",
       "      <td>1</td>\n",
       "      <td>My confident isnt the best. Its not with the w...</td>\n",
       "      <td>https://kidshealth.org/en/teens/self-esteem.html</td>\n",
       "      <td>NaN</td>\n",
       "      <td>How can I improve my self-esteem?</td>\n",
       "      <td>Teens Health</td>\n",
       "      <td>NaN</td>\n",
       "    </tr>\n",
       "    <tr>\n",
       "      <th>2</th>\n",
       "      <td>2267</td>\n",
       "      <td>female</td>\n",
       "      <td>18.0</td>\n",
       "      <td>yes</td>\n",
       "      <td>other</td>\n",
       "      <td>(304) 691-3740</td>\n",
       "      <td>puberty</td>\n",
       "      <td>NaN</td>\n",
       "      <td>NaN</td>\n",
       "      <td>NaN</td>\n",
       "      <td>...</td>\n",
       "      <td>0</td>\n",
       "      <td>0</td>\n",
       "      <td>0</td>\n",
       "      <td>0</td>\n",
       "      <td>His name is Jeffery but we call him jeff💖; I a...</td>\n",
       "      <td>NaN</td>\n",
       "      <td>NaN</td>\n",
       "      <td>NaN</td>\n",
       "      <td>NaN</td>\n",
       "      <td>NaN</td>\n",
       "    </tr>\n",
       "    <tr>\n",
       "      <th>3</th>\n",
       "      <td>2266</td>\n",
       "      <td>female</td>\n",
       "      <td>22.0</td>\n",
       "      <td>yes</td>\n",
       "      <td>white</td>\n",
       "      <td>0575809857</td>\n",
       "      <td>bullying</td>\n",
       "      <td>NaN</td>\n",
       "      <td>NaN</td>\n",
       "      <td>NaN</td>\n",
       "      <td>...</td>\n",
       "      <td>0</td>\n",
       "      <td>0</td>\n",
       "      <td>0</td>\n",
       "      <td>0</td>\n",
       "      <td>The was Robert My boyfriend ; Nothing really. ...</td>\n",
       "      <td>NaN</td>\n",
       "      <td>NaN</td>\n",
       "      <td>NaN</td>\n",
       "      <td>NaN</td>\n",
       "      <td>NaN</td>\n",
       "    </tr>\n",
       "    <tr>\n",
       "      <th>4</th>\n",
       "      <td>2265</td>\n",
       "      <td>female</td>\n",
       "      <td>15.0</td>\n",
       "      <td>yes</td>\n",
       "      <td>Latina</td>\n",
       "      <td>9793642515</td>\n",
       "      <td>puberty</td>\n",
       "      <td>NaN</td>\n",
       "      <td>NaN</td>\n",
       "      <td>NaN</td>\n",
       "      <td>...</td>\n",
       "      <td>0</td>\n",
       "      <td>0</td>\n",
       "      <td>0</td>\n",
       "      <td>0</td>\n",
       "      <td>They were my ex and I still loved him.💘But the...</td>\n",
       "      <td>NaN</td>\n",
       "      <td>NaN</td>\n",
       "      <td>NaN</td>\n",
       "      <td>NaN</td>\n",
       "      <td>NaN</td>\n",
       "    </tr>\n",
       "  </tbody>\n",
       "</table>\n",
       "<p>5 rows × 21 columns</p>\n",
       "</div>"
      ],
      "text/plain": [
       "     Id Perspective   Age Lgbtq    Race           Phone          Topic Title  \\\n",
       "0  2269      female  19.0    no   white             870  relationships   NaN   \n",
       "1  2268      female  18.0    no   white      3253073887       bullying   NaN   \n",
       "2  2267      female  18.0   yes   other  (304) 691-3740        puberty   NaN   \n",
       "3  2266      female  22.0   yes   white      0575809857       bullying   NaN   \n",
       "4  2265      female  15.0   yes  Latina      9793642515        puberty   NaN   \n",
       "\n",
       "                                   Lede             Published at  ...  \\\n",
       "0                                   NaN                      NaN  ...   \n",
       "1  I just need to work on my confidence  2020-01-06 00:00:00 UTC  ...   \n",
       "2                                   NaN                      NaN  ...   \n",
       "3                                   NaN                      NaN  ...   \n",
       "4                                   NaN                      NaN  ...   \n",
       "\n",
       "   Cringey  Haha  Me too  Interesting  \\\n",
       "0        0     0       0            0   \n",
       "1        1     1       1            1   \n",
       "2        0     0       0            0   \n",
       "3        0     0       0            0   \n",
       "4        0     0       0            0   \n",
       "\n",
       "                                         Story texts  \\\n",
       "0  Well I was in my house and when I asked my eye...   \n",
       "1  My confident isnt the best. Its not with the w...   \n",
       "2  His name is Jeffery but we call him jeff💖; I a...   \n",
       "3  The was Robert My boyfriend ; Nothing really. ...   \n",
       "4  They were my ex and I still loved him.💘But the...   \n",
       "\n",
       "                                           Link url Link photo url  \\\n",
       "0                                               NaN            NaN   \n",
       "1  https://kidshealth.org/en/teens/self-esteem.html            NaN   \n",
       "2                                               NaN            NaN   \n",
       "3                                               NaN            NaN   \n",
       "4                                               NaN            NaN   \n",
       "\n",
       "                          Link title Link site name Link body  \n",
       "0                                NaN            NaN       NaN  \n",
       "1  How can I improve my self-esteem?   Teens Health       NaN  \n",
       "2                                NaN            NaN       NaN  \n",
       "3                                NaN            NaN       NaN  \n",
       "4                                NaN            NaN       NaN  \n",
       "\n",
       "[5 rows x 21 columns]"
      ]
     },
     "execution_count": 3,
     "metadata": {},
     "output_type": "execute_result"
    }
   ],
   "source": [
    "# loading the data\n",
    "stories_data = pd.read_csv(datafiles[0])\n",
    "print(stories_data.columns)\n",
    "stories_data.head()"
   ]
  },
  {
   "cell_type": "markdown",
   "metadata": {},
   "source": [
    "## Cleaning the column names to make it easier to work with"
   ]
  },
  {
   "cell_type": "code",
   "execution_count": 4,
   "metadata": {
    "ExecuteTime": {
     "end_time": "2020-03-10T05:00:21.171387Z",
     "start_time": "2020-03-10T05:00:21.146377Z"
    }
   },
   "outputs": [
    {
     "name": "stdout",
     "output_type": "stream",
     "text": [
      "Index(['story_id', 'perspective', 'age', 'lgbtq', 'race', 'topic',\n",
      "       'published_at', 'story_texts'],\n",
      "      dtype='object')\n",
      "<class 'pandas.core.frame.DataFrame'>\n",
      "Int64Index: 2014 entries, 0 to 2060\n",
      "Data columns (total 8 columns):\n",
      "story_id        2014 non-null int64\n",
      "perspective     2014 non-null object\n",
      "age             1548 non-null float64\n",
      "lgbtq           1548 non-null object\n",
      "race            1548 non-null object\n",
      "topic           2014 non-null object\n",
      "published_at    819 non-null object\n",
      "story_texts     2013 non-null object\n",
      "dtypes: float64(1), int64(1), object(6)\n",
      "memory usage: 141.6+ KB\n"
     ]
    }
   ],
   "source": [
    "# dropping duplicates if the text are the same\n",
    "stories_data.drop_duplicates(subset=['Story texts'], inplace=True)\n",
    "\n",
    "# renaming columns to make them easier to work with\n",
    "drop_columns = [column for column in stories_data.columns if 'link' in column.lower()]\n",
    "drop_columns.extend([ 'Title', 'Lede', 'Cringey', 'Haha', 'Me too', 'Interesting', 'Phone', 'Like'])\n",
    "stories_data.drop(columns=drop_columns, inplace=True, errors='ignore')\n",
    "\n",
    "stories_data.columns = [column.lower().replace(' ', '_') for column in stories_data.columns]\n",
    "stories_data.rename(columns={\n",
    "    'id':'story_id'\n",
    "}, inplace=True)\n",
    "\n",
    "print(stories_data.columns)\n",
    "stories_data.info()"
   ]
  },
  {
   "cell_type": "code",
   "execution_count": 5,
   "metadata": {
    "ExecuteTime": {
     "end_time": "2020-03-10T05:00:21.189524Z",
     "start_time": "2020-03-10T05:00:21.179648Z"
    }
   },
   "outputs": [
    {
     "data": {
      "text/plain": [
       "story_id           0\n",
       "perspective        0\n",
       "age              466\n",
       "lgbtq            466\n",
       "race             466\n",
       "topic              0\n",
       "published_at    1195\n",
       "story_texts        1\n",
       "dtype: int64"
      ]
     },
     "execution_count": 5,
     "metadata": {},
     "output_type": "execute_result"
    }
   ],
   "source": [
    "# how many are missing data\n",
    "stories_data.isna().sum()"
   ]
  },
  {
   "cell_type": "code",
   "execution_count": 6,
   "metadata": {
    "ExecuteTime": {
     "end_time": "2020-03-10T05:00:21.206518Z",
     "start_time": "2020-03-10T05:00:21.195378Z"
    }
   },
   "outputs": [],
   "source": [
    "# dropping the row that doenst have data for the text column since we're using the text column heavily\n",
    "stories_data.dropna(subset=['story_texts'], inplace=True)\n",
    "\n",
    "# resetting index since i dropped rows earlier\n",
    "stories_data.reset_index(inplace=True)\n",
    "stories_data.drop('index', axis=1, inplace=True)"
   ]
  },
  {
   "cell_type": "markdown",
   "metadata": {},
   "source": [
    "## Cleaning the Text\n",
    "\n",
    "1. lemmatizing the text\n",
    "2. removing stop words\n",
    "4. create n_grams\n",
    "3. vectorizing the words to feed to the algorithm"
   ]
  },
  {
   "cell_type": "code",
   "execution_count": 7,
   "metadata": {
    "ExecuteTime": {
     "end_time": "2020-03-10T05:00:27.852320Z",
     "start_time": "2020-03-10T05:00:21.210864Z"
    },
    "scrolled": true
   },
   "outputs": [],
   "source": [
    "stories_data['cleaned'] = stories_data.story_texts.str.replace('[^\\w\\s]','')\n",
    "\n",
    "# getting the POS tags to feed to the lem\n",
    "stories_data['pos_tagged'] = stories_data.cleaned.map(word_tokenize).map(pos_tag)"
   ]
  },
  {
   "cell_type": "code",
   "execution_count": 8,
   "metadata": {
    "ExecuteTime": {
     "end_time": "2020-03-10T05:00:27.906082Z",
     "start_time": "2020-03-10T05:00:27.854762Z"
    }
   },
   "outputs": [],
   "source": [
    "# sometimes topic modeling on the nouns only makes it easier to identify topics in documents\n",
    "stories_data['nouns_only'] = stories_data['pos_tagged'].map(lambda x: [(word, tag[0].lower()) for word, tag in x if tag[0].lower() in ['n']])"
   ]
  },
  {
   "cell_type": "code",
   "execution_count": 9,
   "metadata": {
    "ExecuteTime": {
     "end_time": "2020-03-10T05:00:27.943985Z",
     "start_time": "2020-03-10T05:00:27.923138Z"
    }
   },
   "outputs": [],
   "source": [
    "lem = WordNetLemmatizer()"
   ]
  },
  {
   "cell_type": "code",
   "execution_count": 10,
   "metadata": {
    "ExecuteTime": {
     "end_time": "2020-03-10T05:00:29.751412Z",
     "start_time": "2020-03-10T05:00:27.949427Z"
    }
   },
   "outputs": [],
   "source": [
    "stories_data.nouns_only = stories_data['nouns_only'].map(lambda x: [lem.lemmatize(word, tag) for word, tag in x])\n",
    "stories_data['nouns_only'] = stories_data.nouns_only.map(lambda x: ' '.join(word.lower() for word in x))"
   ]
  },
  {
   "cell_type": "markdown",
   "metadata": {},
   "source": [
    "## Topic Modeling with different algorithms"
   ]
  },
  {
   "cell_type": "code",
   "execution_count": 11,
   "metadata": {
    "ExecuteTime": {
     "end_time": "2020-03-10T05:00:29.770085Z",
     "start_time": "2020-03-10T05:00:29.753745Z"
    }
   },
   "outputs": [],
   "source": [
    "stop_words = stopwords.words('english')\n",
    "stop_words = [s.translate(str.maketrans('', '', string.punctuation)) for s in stop_words]\n",
    "\n",
    "# additional stop words removing from corpus\n",
    "additional_stop_words = ['im', 'idk', 'friend', 'nothing', 'meh', 'ha', 'hey', 'hi', 'ive', 'vjfjfjfc'\n",
    "                        , 'umm']"
   ]
  },
  {
   "cell_type": "code",
   "execution_count": 12,
   "metadata": {
    "ExecuteTime": {
     "end_time": "2020-03-10T05:00:30.007641Z",
     "start_time": "2020-03-10T05:00:29.775665Z"
    }
   },
   "outputs": [],
   "source": [
    "#tfidf vectorizer\n",
    "tfidf = TfidfVectorizer(stop_words=stop_words + additional_stop_words\n",
    "                        , lowercase=True\n",
    "                       , ngram_range=(1,2)\n",
    "                       )\n",
    "\n",
    "tfidf_dtm = tfidf.fit_transform(stories_data.nouns_only)"
   ]
  },
  {
   "cell_type": "code",
   "execution_count": 16,
   "metadata": {
    "ExecuteTime": {
     "end_time": "2020-03-10T05:00:48.473447Z",
     "start_time": "2020-03-10T05:00:48.468057Z"
    }
   },
   "outputs": [],
   "source": [
    "def display_topics(model, feature_names, no_top_words=10, topic_names=None):\n",
    "    for index, topic in enumerate(model.components_):\n",
    "        if not topic_names or not topic_names[index]:\n",
    "            print(\"\\nTopic \", index)\n",
    "        else:\n",
    "            print(\"\\nTopic: '\",topic_names[index],\"'\")\n",
    "        print(\", \".join([feature_names[i] for i in topic.argsort()[:-no_top_words - 1:-1]]))"
   ]
  },
  {
   "cell_type": "code",
   "execution_count": 17,
   "metadata": {
    "ExecuteTime": {
     "end_time": "2020-03-10T05:00:50.477133Z",
     "start_time": "2020-03-10T05:00:50.266981Z"
    }
   },
   "outputs": [],
   "source": [
    "n_components=8\n",
    "tfidf_nmf = NMF(n_components=n_components\n",
    "            , random_state=random_state)\n",
    "tfidf_nmf_data = tfidf_nmf.fit_transform(tfidf_dtm)"
   ]
  },
  {
   "cell_type": "code",
   "execution_count": 18,
   "metadata": {
    "ExecuteTime": {
     "end_time": "2020-03-10T05:00:52.065871Z",
     "start_time": "2020-03-10T05:00:52.019077Z"
    }
   },
   "outputs": [
    {
     "name": "stdout",
     "output_type": "stream",
     "text": [
      "\n",
      "Topic  0\n",
      "time, guy, day, school, relationship, boy, thing, crush, year, feeling\n",
      "\n",
      "Topic  1\n",
      "sex, sex sex, boyfriend, consent, boyfriend sex, condom, sexy, bed, sex nervous, sex time\n",
      "\n",
      "Topic  2\n",
      "girl, girl girl, girl school, boy, gender, crush, school, crush girl, weird, weird girl\n",
      "\n",
      "Topic  3\n",
      "good, act, good act, room good, girl good, room, dick, home good, boyfriend, sex good\n",
      "\n",
      "Topic  4\n",
      "people, everyone, people people, school, person, lot, lot people, way, thing, name\n",
      "\n",
      "Topic  5\n",
      "mom, period, puberty, bathroom, year, home, pad, hair, blood, dad\n",
      "\n",
      "Topic  6\n",
      "sad, boyfriend, home, home sad, school sad, school, sad someone, someone, hit sad, boyfriend sad\n",
      "\n",
      "Topic  7\n",
      "bad, dumb, bitch, bad bad, nobody, yes, puberty bad, yes bad, bitch bad, bad dumb\n"
     ]
    }
   ],
   "source": [
    "display_topics(tfidf_nmf, tfidf.get_feature_names())"
   ]
  },
  {
   "cell_type": "code",
   "execution_count": 19,
   "metadata": {
    "ExecuteTime": {
     "end_time": "2020-03-10T05:00:53.979474Z",
     "start_time": "2020-03-10T05:00:53.975820Z"
    }
   },
   "outputs": [],
   "source": [
    "m, n = tfidf_nmf_data.shape"
   ]
  },
  {
   "cell_type": "code",
   "execution_count": 20,
   "metadata": {
    "ExecuteTime": {
     "end_time": "2020-03-10T05:00:55.623123Z",
     "start_time": "2020-03-10T05:00:55.602203Z"
    }
   },
   "outputs": [
    {
     "data": {
      "text/plain": [
       "0    745\n",
       "5    383\n",
       "4    281\n",
       "2    175\n",
       "1    145\n",
       "6    122\n",
       "3     89\n",
       "7     73\n",
       "Name: max_topic, dtype: int64"
      ]
     },
     "execution_count": 20,
     "metadata": {},
     "output_type": "execute_result"
    }
   ],
   "source": [
    "tfidf_nmf_df = pd.DataFrame(tfidf_nmf_data, columns=[f'topic_{num}' for num in range(n)])\n",
    "tfidf_nmf_df['max_topic'] = tfidf_nmf_data.argmax(axis=1)\n",
    "tfidf_nmf_df['max_topic'].value_counts()"
   ]
  },
  {
   "cell_type": "code",
   "execution_count": 21,
   "metadata": {
    "ExecuteTime": {
     "end_time": "2020-03-10T05:00:57.291359Z",
     "start_time": "2020-03-10T05:00:57.283775Z"
    }
   },
   "outputs": [],
   "source": [
    "combined = pd.merge(stories_data, tfidf_nmf_df, left_index=True, right_index=True)"
   ]
  },
  {
   "cell_type": "markdown",
   "metadata": {},
   "source": [
    "## Figuring out what the topics actually mean by looking at the stories\n",
    "\n",
    "sorting the stories by the highest ranking to figure out what the topics mean"
   ]
  },
  {
   "cell_type": "code",
   "execution_count": 23,
   "metadata": {
    "ExecuteTime": {
     "end_time": "2020-03-10T05:01:04.456706Z",
     "start_time": "2020-03-10T05:01:04.418559Z"
    }
   },
   "outputs": [
    {
     "name": "stdout",
     "output_type": "stream",
     "text": [
      "\n",
      "Topic  0\n",
      "time, guy, day, school, relationship, boy, thing, crush, year, feeling\n",
      "\n",
      "Topic  1\n",
      "sex, sex sex, boyfriend, consent, boyfriend sex, condom, sexy, bed, sex nervous, sex time\n",
      "\n",
      "Topic  2\n",
      "girl, girl girl, girl school, boy, gender, crush, school, crush girl, weird, weird girl\n",
      "\n",
      "Topic  3\n",
      "good, act, good act, room good, girl good, room, dick, home good, boyfriend, sex good\n",
      "\n",
      "Topic  4\n",
      "people, everyone, people people, school, person, lot, lot people, way, thing, name\n",
      "\n",
      "Topic  5\n",
      "mom, period, puberty, bathroom, year, home, pad, hair, blood, dad\n",
      "\n",
      "Topic  6\n",
      "sad, boyfriend, home, home sad, school sad, school, sad someone, someone, hit sad, boyfriend sad\n",
      "\n",
      "Topic  7\n",
      "bad, dumb, bitch, bad bad, nobody, yes, puberty bad, yes bad, bitch bad, bad dumb\n"
     ]
    }
   ],
   "source": [
    "display_topics(tfidf_nmf, tfidf.get_feature_names())"
   ]
  },
  {
   "cell_type": "code",
   "execution_count": 25,
   "metadata": {
    "ExecuteTime": {
     "end_time": "2020-03-10T05:01:44.974460Z",
     "start_time": "2020-03-10T05:01:44.969262Z"
    }
   },
   "outputs": [],
   "source": [
    "topics = {}\n",
    "topics['topic_0'] = 'crushes_on_guys'"
   ]
  },
  {
   "cell_type": "code",
   "execution_count": 26,
   "metadata": {
    "ExecuteTime": {
     "end_time": "2020-03-10T05:01:48.212490Z",
     "start_time": "2020-03-10T05:01:48.197250Z"
    }
   },
   "outputs": [
    {
     "data": {
      "text/plain": [
       "['I forgot ; 8; Can I face time you; Nice',\n",
       " 'I have this one girl in school and she used to date this guy I like and then eventually my feelings kinda faded with my crush and I became more interested in this guy that I’ve liked since the sixth grade; The guy I’ve like for a long time thinks I hate him but when really that’s how I show my feelings; Well eventually the girl broke up with my old crush and then one day I find out she’s dating the guy I’ve always wanted. Now I see her wearing his jacket and holding his hand; Every time I see them together I can feel my heart breaking more and more each time. i just wondering maybe if I was braver he would be with me and not her',\n",
       " 'My first time having sex, the guy I was with was very aware; and checked in with my the entire time. ; It felt very different from what I expected ; and I really appreciated that he took the time to ensure it was enjoyable for the both of us; I loved it; We kept going and both enjoyed it',\n",
       " 'I am a gay guy and I realized this when I had a crush on another guy.; I tried to deny it by going out with a girl, then broke up with her and tried to have a crush on a guy who I know is gay, but I keep coming back to this first guy.; I think that this is the first time that I like someone for real. There is just something about the way his eyes shine when he looks towards me and I think he may like me but I’m not sure; I could just be reading into the little things that don’t matter and maybe he’s not gay, idk',\n",
       " 'I had a thing with this guy and so did my friend but I never knew that because she didn’t open up about these things and he never told me; My friend and I don’t have the best history with guys; she dated my ex after we broke up; The guy and I were getting pretty close and we went on a date. Then she found out about us and flipped out on only me; I told the guy that he basically wasted my time, I could’ve been looking for the right guy instead of talking to him and broke it off; Now him and that girl are dating. I kind of feel bad because I know he’s only dating her because she will do stuff with him and give him pics and he knew that I wouldn’t; I want to tell her that but I don’t wanna cause anymore drama. We’re not really the best of friends anymore']"
      ]
     },
     "execution_count": 26,
     "metadata": {},
     "output_type": "execute_result"
    }
   ],
   "source": [
    "combined.sort_values(by='topic_0', ascending=False).head()['story_texts'].tolist()"
   ]
  },
  {
   "cell_type": "code",
   "execution_count": 27,
   "metadata": {
    "ExecuteTime": {
     "end_time": "2020-03-10T05:01:51.413413Z",
     "start_time": "2020-03-10T05:01:51.399551Z"
    }
   },
   "outputs": [
    {
     "data": {
      "text/plain": [
       "['My friend ; Having sex; Fucking sexy; I just went for it; They fucked me so hard ; They fingered me',\n",
       " 'Hey ; Idk; I forgot ; Idk; I had sex; Good ',\n",
       " 'I don’t know ; I speak Spanish ; Do you like sex; 😰; 🥳👎; ☹️👎🇺🇸😘',\n",
       " 'Me ; Sex ; Sex; Sex',\n",
       " 'Sex; Sex; Sex; Sex; Sex',\n",
       " 'Can we have sex; I want to have sex; I love sex; About sex; Good ; No body ',\n",
       " 'I whated to have sex with them; I just did it; Have you ever had sex and do you what to have sex; He is going to have sex; Good; I asked my crush and I asked my my boyfriend ',\n",
       " 'Idk; Because sex is fun and good; How big is your 🍆; Sex; Good; Keyon',\n",
       " 'How and why sex is created; Well it was weird; I asked; That u should always have sex; Nervous; I fucking asked my boyfriend ',\n",
       " 'does sex hurt when the dick goes in?; i wasnt scared i just went out and asked; i said does sex really hurt?; i learned that it sometimes do but not always; i felt like they didnt know anything; i asked my bestfriend about sex.',\n",
       " 'Can I have sex with you¿; Well; 3,9 ; Nothing; Bad; Can I have sex with you? You are cute',\n",
       " 'My sister ; Laying in bed; Sexy; By saying \" do you think you are ready to have sex \";  She said yes; She asked if I want to have sex. ',\n",
       " 'How do u do sex (👉👌); Wearing a bikini and keeping some condoms in my hand; I asked do u want to try doing sexHe said yesI also asked if sex is a bad thing and if u could still have sex if u were pregnant ; That having or doing sex is very addicting in a way; Fresh I felt weird and sick inside but I also felt freedom and calm; I asked my boyfriend about sex ’cuz I was only 16 and he was 19',\n",
       " 'I had sex with my dog; I sucked a willy; I had sex at school ; I had sex white my mum; Rhv',\n",
       " 'My girlfriend Angel was the person who asked me for consent.; They were asking consent for sex.; She said “ Hey babe I was thinking maybe we should have sex if that is alright with you.; I was shocked. I knew she liked me but this was out of nowhere. ; After that we went to a store for condoms and had sex.; This made me feel like I could trust her beyond anything. I also felt connected to her a lot more.',\n",
       " 'It was a boy but he didn’t ask me for it; Sex but I said no; He said I want to do you so hard that you can’t move; I was nervous and scared ; He try to hump my friend from behind ; I made me even more scared ',\n",
       " 'Noah; Having sex; Nervous; I said we need to have fun; Ok we can have some fun so we had sex; I don’t remember ',\n",
       " 'This person is kind of known for being the “sex master”. He’s my best friend. I had a crush on another guy in my grade, and I had never had sex before. So I went to my best friend for some advice.; I didn’t really do much to prepare, I just sat next to him on the bus, like I always do. I don’t think he was expecting that next conversation, though we talk casually about sex anyways.; This was a little different though, instead of talking about how people think it’s gross, I was asking more personal questions. What do guys like, and how do I mentally, and physically prepare myself.; I didn’t honestly learn anything about sex itself. ; I learned more that me and my best friend are meant to be 😂. The conversation was awkward and I learned that asking people how to have sex isn’t the best option, and instead you just have to experiment. Good luck :); My best friend ended up being my boyfriend. :)',\n",
       " 'I had sex ; My boobs are big want to see them; Wanna have sex; He said yes ; I’m pregnant',\n",
       " 'My boyfriend asked me for consent before having sexual relations.; Sex ; Can we? ; Normal; We had sex ; Good ']"
      ]
     },
     "execution_count": 27,
     "metadata": {},
     "output_type": "execute_result"
    }
   ],
   "source": [
    "# combined.sort_values(by='topic_1', ascending=False).head()['story_texts'].tolist()\n",
    "topics['topic_1'] = 'sex'\n",
    "combined.sort_values(by='topic_1', ascending=False).head(20)['story_texts'].tolist()"
   ]
  },
  {
   "cell_type": "code",
   "execution_count": 28,
   "metadata": {
    "ExecuteTime": {
     "end_time": "2020-03-10T05:01:54.526569Z",
     "start_time": "2020-03-10T05:01:54.503177Z"
    }
   },
   "outputs": [
    {
     "data": {
      "text/plain": [
       "['I don’t know ; I don’t know ; I don’t know ; I would say I’m a female ; Girl',\n",
       " \"Hi; Girl ; I'm ok x; How old are ix; U\",\n",
       " 'I was 7 ; nothing; good; a girl ; umm',\n",
       " '11; My mum; Weird; A girl; I act,look,dress like a bad girl ',\n",
       " \"I questioned my gender identity at 11. i was born a girl some times I wish I was a boy but I'm a girl😔; What made me question my gender was that being a girl is harder then being a boy. Theres so much girlS have to do that boys don't       ; I felt mad and depressed I hated life and I still hate It  ; I identify as a girl. I was born a girl I'm still a girl now ; I don't know what I look like or dress or act\",\n",
       " 'i was 11 when i started to question my sexuality; a girl said she thought i was pretty and i started questioning if it would be possible if i could ever like girls; confused at first but not disgusted; bisexual; all',\n",
       " 'I was born a girl man ; Nothing I was born a girl man; I am a girl ; I am a girl and I was born a girl use your noggin ayy ; I am a girl and I dress like a girl thank you next',\n",
       " 'A girl was being sexually assaulted by an older girl ; The bully was touching the other girls Breast; The person being bullied was embarrassed and crying ; I didn’t know what to do about it ; I decided that it wasn’t any of my business ; I wish I had told somebody now because that girl is traumatised ',\n",
       " 'i was walking with my friends next to this one girl who the 4 of us don’t like. this girl has always been rude and would tease me constantly. however we still have classes with her and talk to her. when the girl left us my 3 friends were mocking her and talking bad about her behind her back.; they kept on mocking her tone of voice and making fun of the girl’s dress and the way she speaks; it was weird since the girl wasn’t there and she couldn’t have known what was going on. ; i felt bad even though she was mean since my friends were acting just like her. ; i didn’t do anything since the girl has been mean to me in the past but i feel like i should’ve done something to stand up for her. ; i wish i had told them to stop or to try to defend her. the way they were acting was wrong and i wish i could stop it but at the time i was scared to lose them. ',\n",
       " '26; I.... i..... likes basketball 🥴; Good because I am a girl and I feel like it and I always have been.🤗; Girl. DURH; Nothing I am a girl']"
      ]
     },
     "execution_count": 28,
     "metadata": {},
     "output_type": "execute_result"
    }
   ],
   "source": [
    "combined.sort_values(by='topic_2', ascending=False).head(10)['story_texts'].tolist()"
   ]
  },
  {
   "cell_type": "code",
   "execution_count": 29,
   "metadata": {
    "ExecuteTime": {
     "end_time": "2020-03-10T05:01:57.694909Z",
     "start_time": "2020-03-10T05:01:57.684130Z"
    }
   },
   "outputs": [
    {
     "data": {
      "text/plain": [
       "['Yea; Good pleased; 13',\n",
       " 'Hey; Who is this; Who is this; My ass; Good ; 💍',\n",
       " 'What?; I don’t know ; Good ; I love you ; I SAID I LIKE YOU ',\n",
       " 'Idk; Idk; Idk; Idk; Idk; Good',\n",
       " 'Because ; 17; Idk; Good ',\n",
       " 'My girlfriend ; Sex; Directly ; Good; We did it; Good',\n",
       " 'H; I am a girl; Good; No; What',\n",
       " 'My room; 😂😂; Good ',\n",
       " 'I like🍆🍆🍆🍆🍆; Idk; Good; Idk; Act',\n",
       " 'I was10; Ok; Good; Idk; Act']"
      ]
     },
     "execution_count": 29,
     "metadata": {},
     "output_type": "execute_result"
    }
   ],
   "source": [
    "topics['topic_3'] = 'female_sexuality'\n",
    "combined.sort_values(by='topic_3', ascending=False).head(10)['story_texts'].tolist()"
   ]
  },
  {
   "cell_type": "code",
   "execution_count": 30,
   "metadata": {
    "ExecuteTime": {
     "end_time": "2020-03-10T05:02:00.756036Z",
     "start_time": "2020-03-10T05:02:00.742977Z"
    },
    "scrolled": true
   },
   "outputs": [
    {
     "data": {
      "text/plain": [
       "['People were judging me; Idk; Idk; Scared ; When I left; Adian',\n",
       " 'I am so much taller than everyone at my school; People always seem to look at me weirdly and so many people say “omg your so tall” and i literally hate it so much ; They are all so much smaller than me and petite and I probably look like an ogre to them. I’m not fat, I’m just so tall and i hate it; I always feel so embarrassed and awkward and hate myself; The thing that makes me feel better is people saying i should model and i want to model; Pretty much everyone judges me',\n",
       " 'I found out what it meant and I was like omg those people are so stupid. But then I thought what if I was bisexual or lesbian and I said to myself no I will never be.; Months later everyone had there boy crush and I didn’t so I wondered and then realised I was into girls and liked a girl in my class. I still haven’t figured out what to do and now a lot of people know and don’t know if I should change just because of what people will think of me; I realise I am who I am and I am a lesbian I continue to like that girl and hope we get somewhere or make up a agreement. Dont be afraid of who you are or what people will think .🏳️\\u200d🌈🏳️\\u200d🌈🏳️\\u200d🌈; Do you what you like; Right now I hope to tell her how I feel and get somewhere ',\n",
       " 'People were calling me a hoe.; Many people had said that i had liked too many guys.; They said this because i was open to liking people. I told them how i felt but always got rejected.; It was never a moment it was all year round.; I have an amazing boyfriend right now but he has moved away but we r in pong relationship so its fine but i still miss him very much; It was some specific people who i didnt know at all ',\n",
       " 'At the start, things were going well for me.; I was making friends with people new to my school.  I felt I was going to have a great year; Eventually, I wasn’t getting along with another person; And just like that, I wasn’t getting along with multiple people; I felt like they were judging me for hanging out with certain people; My chance at a fresh start might have been over.  I still tried to stay positive. I worked hard in school and tried my best to ignore all the negativity thrown toward me.',\n",
       " 'I sas judged by one of my peers in high school. We had a couple classes together. ; I was at a high school end of the year gathering and everyone was talking about their experiences in relationships. I said I had never been in one and people were taken back by what I said. It made me feel bad for having no similar experiences. ; I felt judged because when I said I couldn’t relate to what people were saying, I was laughed at and people were really surprised. ; They felt this way because they couldn’t relate to my experiences. They all had different experience and could nor imagine it any other way. ; I felt embarrassed and ashamed at first. I also felt left out that I couldn’t relate to what people were talking about. ; I remembered that it doesn’t matter what people think about me',\n",
       " \"People are constantly telling me who they like and asking me to get them with that person they like; I love getting people together but it seems like I can find someone for everyone but myself; It's really stressful but I don't tell anyone this\",\n",
       " 'Well I go to a big high school with lots of people, and I just want to fit in with everyone else but the thing is I am very shy and it is very hard for me to start a conversation with people I want to make friends with so that’s how I feel judged by not being like everyone else.; By the way they looked and when they say why am I always quite.; Because I’m not the popular kid; Useless; After talking to my mom; I mean it was a few people but their just in my class.',\n",
       " 'People where being  racist to me because I’m Irish people call me Leprechaun and tell me to find pots of gold and tell me to go back to my Potato farm and tell me to go climb a rainbow ; Other people laughed at me and joined in on the bullying ; The person is two faced they are nice to me in person but when other people are around she is racist and rude ; I felt embarrassed and Mortified ; What made me feel a lot better was that she got bullied her self after and some people stuck up for me and told teachers ; The person who is racist is/was my friend and they are two faced ',\n",
       " 'I feel really judged when Im sitting around people I dont know and two people know eachother so well that they quietly laugh wih eachother after staring at thier phones. It gives me a sense that they are judging me or others around them especially when I happen to be sitting next to them. Its honestly really uncomfortable and disrespectful.; This two people were strangers to me and still are bt it makes me feel uncomfortable.; They were laughing ; Because i felt like I was being looked at certain times; Wierd, uncomfortable; The other noce people sitting near me']"
      ]
     },
     "execution_count": 30,
     "metadata": {},
     "output_type": "execute_result"
    }
   ],
   "source": [
    "topics['topic_4'] = 'social_situations_at_school'\n",
    "combined.sort_values(by='topic_4', ascending=False).head(10)['story_texts'].tolist()"
   ]
  },
  {
   "cell_type": "code",
   "execution_count": 31,
   "metadata": {
    "ExecuteTime": {
     "end_time": "2020-03-10T05:02:03.924981Z",
     "start_time": "2020-03-10T05:02:03.909513Z"
    }
   },
   "outputs": [
    {
     "data": {
      "text/plain": [
       "['I was 13 when I first got my period and I was really excited because my friends already had it and I wanted to relate to them so bad; I was at home and I remember I just woke up and went to the bathroom and I saw it ; I was really excited; I told my mom and she gave me a pad; I told my mom first because she was at home with me',\n",
       " 'I was 15 I think ; I was in the bathroom I noticed and I told my mom she said  that I got my period ; I didn’t like it and I still don’t like it I hate it ; I told my mom and she explained everything ; My mom because she knows everything ',\n",
       " \"I was 12 when I first got my period. ; It was scary because all of my cousins were at my house.; I cried because I didn't know what to do so I stayed in the bathroom until everyone left. ; My mom later came in and told me what to do.; When I told my dad he was shocked because he didn't know what to do.; But now I know how to track my period and know how to track my period, how to use pads, and what to do with cramps.\",\n",
       " \"I came out to my mom; If I get married I want her to see me; I said mom I’m gay; She said well I would still support you ; It's still good\",\n",
       " 'I don’t have my period yet ; I want it a lot; My mom says to be glad I don’t have it; I have maxi pads everywhere ; I’m 15!!!',\n",
       " 'I got my first period when I was 12 years old.; I was at home in bed I think I had just woken up. When I got up I felt like I was peeing so I run to the bathroom and when I Pool down my pants I was scared. No wait I was happy😂 I remember coming out of the bathroom jumping and screaming to my mom that it came🤦\\u200d♀️😂; Excited extremely excited ; Started to learn how to use the pads; I told my mom because who wouldn’t tell their mom',\n",
       " \"When I first got my period, I thought I was bleeding because something was wrong; But it turned out to be my period; My first official period started on the last day of school when I was in 6th grade ; I never had cramps the first couple of years of having my period, but when I got to high school, it started happening occasionally; Eventually I started to get bad cramps every time I have my period and now I'm 15 years old; I have to take pain medicine for my cramps\",\n",
       " 'I was around 15 when I got my first period; I was in the bathroom going pee and suddenly there was blood in the toilet; It was awkward, my mom wasn’t home just my dad and my brothers, I yelled for my dad because I was freaking out, so he called my mom to tell me what to do; I just did what my mom told my dad to tell me what to do, and my brothers wanted to know what was happening, and we didn’t tell them, just said it was girl problems; Obviously my dad was the only adult Around which is why I told him, because I didn’t understand what was going on.',\n",
       " 'I was walking on the streets with my mom; When my mom friend showed and started chatting with her and than said that I am getting really fat; Bc they said it about me to my mom; I was shattered I felt like I need to not eat for a year and just stop eating ; After when my mom took me home she said that “ you are not fat, you are beautiful no matter what anyone else says about you you are the most beautiful and perfect woman “ and than didn’t talk to that friend anymore ; They were my moms friend so she was like a fake aunt to me',\n",
       " 'I was 14 years old when i got my first period. i was the last person in my friend group to get my period. everyone else had gotten there’s in 5th or 6th grade and i felt weird but getting mine until 8th. ; i had just gotten home from the water park after being there in a white swimsuit all day. thankfully, no blood leaked from my suit. when i got home, my mom called all the women in my family. they said i was going to be the tallest in my friend group. i’m 5’7”. my friends are all below 5’6”.; i didn’t really see what the big deal was. i already had boobs and felt fairly ‘womanly’; i told my mom, and proceeded on with my day.; I told my mom first because she always told me to tell her.']"
      ]
     },
     "execution_count": 31,
     "metadata": {},
     "output_type": "execute_result"
    }
   ],
   "source": [
    "topics['topic_5'] = 'puberty_first_period'\n",
    "combined.sort_values(by='topic_5', ascending=False).head(10)['story_texts'].tolist()"
   ]
  },
  {
   "cell_type": "code",
   "execution_count": 32,
   "metadata": {
    "ExecuteTime": {
     "end_time": "2020-03-10T05:02:06.841692Z",
     "start_time": "2020-03-10T05:02:06.831289Z"
    }
   },
   "outputs": [
    {
     "data": {
      "text/plain": [
       "['Idk; I was talking ; Nothing ; Not to do it; Sad; I ask him ',\n",
       " 'My friend ; She said i wish you were dead and called me a thot; Sad and mad ; Nothing ',\n",
       " 'My boyfriend left me after we had ; Doing it; I’m not shee; Stuoidly; Sad; Sad',\n",
       " 'At home ; Sad; Just now',\n",
       " 'I don’t know ; Nothing ; Sad; I was sad ; I did ; I told someone ',\n",
       " 'School; Sad but happy ; Last night ',\n",
       " 'Home ; Sad ; Yesterday',\n",
       " 'I like her; I’m not good ; Hi ; Nothing ; Sad; Molly',\n",
       " 'Nothing ; I was not; Because they hate me; Sad; I need money please ; My boyfriend ',\n",
       " 'School ; Hit me ; Sad; Called 911 ']"
      ]
     },
     "execution_count": 32,
     "metadata": {},
     "output_type": "execute_result"
    }
   ],
   "source": [
    "topics['topic_6'] = 'feeling_sad'\n",
    "combined.sort_values(by='topic_6', ascending=False).head(10)['story_texts'].tolist()"
   ]
  },
  {
   "cell_type": "code",
   "execution_count": 33,
   "metadata": {
    "ExecuteTime": {
     "end_time": "2020-03-10T05:02:09.686723Z",
     "start_time": "2020-03-10T05:02:09.673218Z"
    }
   },
   "outputs": [
    {
     "data": {
      "text/plain": [
       "['I went puberty ; 7; I want boyfriend ; Bad',\n",
       " 'I dint; I didn’t ; I love you; They said I love you back; Bad',\n",
       " \"I was sexually assaulted...; Nothing. He didn't even ask me. ;( ; He didn't ; I didn't know what to do. ; I left. ; Bad. \",\n",
       " 'Don’t know ; Because I like them; Hi; Bad; Bad!!',\n",
       " 'ya ; Yes; No; I am hiding ; It was Tinkling; Bad',\n",
       " 'I never went through puberty; 15; I was at least 16; Bad',\n",
       " 'I wanted to; 😭😭😭 I didn’t ; Bitch; 🤪🤪🤪; Bad',\n",
       " 'Idk; Nothing ; I don’t remember ; Umm ; Bad; Dumb ',\n",
       " 'What is this app?; What is this?; Nothing; They reacted well; Bad',\n",
       " 'Idk; Nothing ; Umm ; Bad; Weird ; Dumb ',\n",
       " 'Bad; Cause they be treating me like I’m a dog ; They treat me bad; Like they are going to throw up 🤢; Better than before ',\n",
       " 'Can I have sex with you¿; Well; 3,9 ; Nothing; Bad; Can I have sex with you? You are cute',\n",
       " 'Huh; Ugh ; Bad; Nothing ',\n",
       " 'I don’t do rude stuff; I don’t know; Nothing ; Nothing; Bad; I have not asked anyone about sex',\n",
       " 'Nobody ; I was just thinking about going to the fair ; Hey now nawl ; In a bad attitude ; Bad ; I react as a mad bitch ',\n",
       " 'Nobody; I don‘t know ; Leave me alone ; Mad af; Bad',\n",
       " 'I love my friend❤️; She said your ugly ❤️; Bad ; 😭😭😭I was crying in the whole class; I said get out my face and I was so brave I told the ; We’re friends now❤️',\n",
       " 'I will cry; Bad words marking fun me ; Laughing at me pushing me ; Sad; I wish I could kill them; I wish I could kill them  but I have crush on one of them ',\n",
       " 'It’s so hard ; Idk its...; Bad; I hate methods; Idk; Ummm by having sex',\n",
       " 'Jordan ; Nobody likes me at all; I’m bi; They said omg; Bad; Ok']"
      ]
     },
     "execution_count": 33,
     "metadata": {},
     "output_type": "execute_result"
    }
   ],
   "source": [
    "topics['topic_7'] = 'random/confusion'\n",
    "combined.sort_values(by='topic_7', ascending=False).head(20)['story_texts'].tolist()"
   ]
  },
  {
   "cell_type": "code",
   "execution_count": 34,
   "metadata": {
    "ExecuteTime": {
     "end_time": "2020-03-10T05:02:12.527431Z",
     "start_time": "2020-03-10T05:02:12.520922Z"
    }
   },
   "outputs": [],
   "source": [
    "combined.rename(columns=topics, inplace=True)"
   ]
  },
  {
   "cell_type": "markdown",
   "metadata": {},
   "source": [
    "## Recommending similar stories based on their topic modeling scores"
   ]
  },
  {
   "cell_type": "code",
   "execution_count": 35,
   "metadata": {
    "ExecuteTime": {
     "end_time": "2020-03-10T05:02:15.613055Z",
     "start_time": "2020-03-10T05:02:15.355965Z"
    }
   },
   "outputs": [],
   "source": [
    "cosine_scores = cosine_similarity(tfidf_nmf_data, tfidf_nmf_data)\n",
    "combined['most_similar_index'] = cosine_scores.argsort()[:, -2] # to get the second most similar bc most similar is iteself"
   ]
  },
  {
   "cell_type": "code",
   "execution_count": 36,
   "metadata": {
    "ExecuteTime": {
     "end_time": "2020-03-10T05:02:18.518225Z",
     "start_time": "2020-03-10T05:02:18.423552Z"
    }
   },
   "outputs": [
    {
     "data": {
      "text/html": [
       "<div>\n",
       "<style scoped>\n",
       "    .dataframe tbody tr th:only-of-type {\n",
       "        vertical-align: middle;\n",
       "    }\n",
       "\n",
       "    .dataframe tbody tr th {\n",
       "        vertical-align: top;\n",
       "    }\n",
       "\n",
       "    .dataframe thead th {\n",
       "        text-align: right;\n",
       "    }\n",
       "</style>\n",
       "<table border=\"1\" class=\"dataframe\">\n",
       "  <thead>\n",
       "    <tr style=\"text-align: right;\">\n",
       "      <th></th>\n",
       "      <th>story_id</th>\n",
       "      <th>perspective</th>\n",
       "      <th>age</th>\n",
       "      <th>lgbtq</th>\n",
       "      <th>race</th>\n",
       "      <th>topic</th>\n",
       "      <th>published_at</th>\n",
       "      <th>story_texts</th>\n",
       "      <th>cleaned</th>\n",
       "      <th>pos_tagged</th>\n",
       "      <th>...</th>\n",
       "      <th>crushes_on_guys</th>\n",
       "      <th>sex</th>\n",
       "      <th>topic_2</th>\n",
       "      <th>female_sexuality</th>\n",
       "      <th>social_situations_at_school</th>\n",
       "      <th>puberty_first_period</th>\n",
       "      <th>feeling_sad</th>\n",
       "      <th>random/confusion</th>\n",
       "      <th>max_topic</th>\n",
       "      <th>most_similar_index</th>\n",
       "    </tr>\n",
       "  </thead>\n",
       "  <tbody>\n",
       "    <tr>\n",
       "      <th>0</th>\n",
       "      <td>2269</td>\n",
       "      <td>female</td>\n",
       "      <td>19.0</td>\n",
       "      <td>no</td>\n",
       "      <td>white</td>\n",
       "      <td>relationships</td>\n",
       "      <td>NaN</td>\n",
       "      <td>Well I was in my house and when I asked my eye...</td>\n",
       "      <td>Well I was in my house and when I asked my eye...</td>\n",
       "      <td>[(Well, RB), (I, PRP), (was, VBD), (in, IN), (...</td>\n",
       "      <td>...</td>\n",
       "      <td>0.019224</td>\n",
       "      <td>0.000680</td>\n",
       "      <td>0.000232</td>\n",
       "      <td>0.000000</td>\n",
       "      <td>0.010026</td>\n",
       "      <td>0.009765</td>\n",
       "      <td>0.001545</td>\n",
       "      <td>0.000000</td>\n",
       "      <td>0</td>\n",
       "      <td>156</td>\n",
       "    </tr>\n",
       "    <tr>\n",
       "      <th>1</th>\n",
       "      <td>2268</td>\n",
       "      <td>female</td>\n",
       "      <td>18.0</td>\n",
       "      <td>no</td>\n",
       "      <td>white</td>\n",
       "      <td>bullying</td>\n",
       "      <td>2020-01-06 00:00:00 UTC</td>\n",
       "      <td>My confident isnt the best. Its not with the w...</td>\n",
       "      <td>My confident isnt the best Its not with the wa...</td>\n",
       "      <td>[(My, PRP$), (confident, JJ), (isnt, VB), (the...</td>\n",
       "      <td>...</td>\n",
       "      <td>0.023919</td>\n",
       "      <td>0.000032</td>\n",
       "      <td>0.031344</td>\n",
       "      <td>0.003168</td>\n",
       "      <td>0.004164</td>\n",
       "      <td>0.000000</td>\n",
       "      <td>0.002654</td>\n",
       "      <td>0.005908</td>\n",
       "      <td>2</td>\n",
       "      <td>1014</td>\n",
       "    </tr>\n",
       "    <tr>\n",
       "      <th>2</th>\n",
       "      <td>2267</td>\n",
       "      <td>female</td>\n",
       "      <td>18.0</td>\n",
       "      <td>yes</td>\n",
       "      <td>other</td>\n",
       "      <td>puberty</td>\n",
       "      <td>NaN</td>\n",
       "      <td>His name is Jeffery but we call him jeff💖; I a...</td>\n",
       "      <td>His name is Jeffery but we call him jeff I act...</td>\n",
       "      <td>[(His, PRP$), (name, NN), (is, VBZ), (Jeffery,...</td>\n",
       "      <td>...</td>\n",
       "      <td>0.014008</td>\n",
       "      <td>0.000000</td>\n",
       "      <td>0.003306</td>\n",
       "      <td>0.000000</td>\n",
       "      <td>0.018248</td>\n",
       "      <td>0.000377</td>\n",
       "      <td>0.003781</td>\n",
       "      <td>0.000000</td>\n",
       "      <td>4</td>\n",
       "      <td>675</td>\n",
       "    </tr>\n",
       "    <tr>\n",
       "      <th>3</th>\n",
       "      <td>2266</td>\n",
       "      <td>female</td>\n",
       "      <td>22.0</td>\n",
       "      <td>yes</td>\n",
       "      <td>white</td>\n",
       "      <td>bullying</td>\n",
       "      <td>NaN</td>\n",
       "      <td>The was Robert My boyfriend ; Nothing really. ...</td>\n",
       "      <td>The was Robert My boyfriend  Nothing really Ju...</td>\n",
       "      <td>[(The, DT), (was, VBD), (Robert, NNP), (My, NN...</td>\n",
       "      <td>...</td>\n",
       "      <td>0.024133</td>\n",
       "      <td>0.006071</td>\n",
       "      <td>0.046019</td>\n",
       "      <td>0.001706</td>\n",
       "      <td>0.003948</td>\n",
       "      <td>0.000000</td>\n",
       "      <td>0.012476</td>\n",
       "      <td>0.000000</td>\n",
       "      <td>2</td>\n",
       "      <td>917</td>\n",
       "    </tr>\n",
       "    <tr>\n",
       "      <th>4</th>\n",
       "      <td>2265</td>\n",
       "      <td>female</td>\n",
       "      <td>15.0</td>\n",
       "      <td>yes</td>\n",
       "      <td>Latina</td>\n",
       "      <td>puberty</td>\n",
       "      <td>NaN</td>\n",
       "      <td>They were my ex and I still loved him.💘But the...</td>\n",
       "      <td>They were my ex and I still loved himBut then ...</td>\n",
       "      <td>[(They, PRP), (were, VBD), (my, PRP$), (ex, NN...</td>\n",
       "      <td>...</td>\n",
       "      <td>0.014986</td>\n",
       "      <td>0.000406</td>\n",
       "      <td>0.000530</td>\n",
       "      <td>0.002650</td>\n",
       "      <td>0.000000</td>\n",
       "      <td>0.004126</td>\n",
       "      <td>0.004170</td>\n",
       "      <td>0.000000</td>\n",
       "      <td>0</td>\n",
       "      <td>1714</td>\n",
       "    </tr>\n",
       "  </tbody>\n",
       "</table>\n",
       "<p>5 rows × 21 columns</p>\n",
       "</div>"
      ],
      "text/plain": [
       "   story_id perspective   age lgbtq    race          topic  \\\n",
       "0      2269      female  19.0    no   white  relationships   \n",
       "1      2268      female  18.0    no   white       bullying   \n",
       "2      2267      female  18.0   yes   other        puberty   \n",
       "3      2266      female  22.0   yes   white       bullying   \n",
       "4      2265      female  15.0   yes  Latina        puberty   \n",
       "\n",
       "              published_at                                        story_texts  \\\n",
       "0                      NaN  Well I was in my house and when I asked my eye...   \n",
       "1  2020-01-06 00:00:00 UTC  My confident isnt the best. Its not with the w...   \n",
       "2                      NaN  His name is Jeffery but we call him jeff💖; I a...   \n",
       "3                      NaN  The was Robert My boyfriend ; Nothing really. ...   \n",
       "4                      NaN  They were my ex and I still loved him.💘But the...   \n",
       "\n",
       "                                             cleaned  \\\n",
       "0  Well I was in my house and when I asked my eye...   \n",
       "1  My confident isnt the best Its not with the wa...   \n",
       "2  His name is Jeffery but we call him jeff I act...   \n",
       "3  The was Robert My boyfriend  Nothing really Ju...   \n",
       "4  They were my ex and I still loved himBut then ...   \n",
       "\n",
       "                                          pos_tagged  ... crushes_on_guys  \\\n",
       "0  [(Well, RB), (I, PRP), (was, VBD), (in, IN), (...  ...        0.019224   \n",
       "1  [(My, PRP$), (confident, JJ), (isnt, VB), (the...  ...        0.023919   \n",
       "2  [(His, PRP$), (name, NN), (is, VBZ), (Jeffery,...  ...        0.014008   \n",
       "3  [(The, DT), (was, VBD), (Robert, NNP), (My, NN...  ...        0.024133   \n",
       "4  [(They, PRP), (were, VBD), (my, PRP$), (ex, NN...  ...        0.014986   \n",
       "\n",
       "        sex   topic_2  female_sexuality  social_situations_at_school  \\\n",
       "0  0.000680  0.000232          0.000000                     0.010026   \n",
       "1  0.000032  0.031344          0.003168                     0.004164   \n",
       "2  0.000000  0.003306          0.000000                     0.018248   \n",
       "3  0.006071  0.046019          0.001706                     0.003948   \n",
       "4  0.000406  0.000530          0.002650                     0.000000   \n",
       "\n",
       "   puberty_first_period  feeling_sad  random/confusion  max_topic  \\\n",
       "0              0.009765     0.001545          0.000000          0   \n",
       "1              0.000000     0.002654          0.005908          2   \n",
       "2              0.000377     0.003781          0.000000          4   \n",
       "3              0.000000     0.012476          0.000000          2   \n",
       "4              0.004126     0.004170          0.000000          0   \n",
       "\n",
       "   most_similar_index  \n",
       "0                 156  \n",
       "1                1014  \n",
       "2                 675  \n",
       "3                 917  \n",
       "4                1714  \n",
       "\n",
       "[5 rows x 21 columns]"
      ]
     },
     "execution_count": 36,
     "metadata": {},
     "output_type": "execute_result"
    }
   ],
   "source": [
    "combined.head()"
   ]
  },
  {
   "cell_type": "code",
   "execution_count": 37,
   "metadata": {
    "ExecuteTime": {
     "end_time": "2020-03-10T05:02:21.428079Z",
     "start_time": "2020-03-10T05:02:21.415119Z"
    }
   },
   "outputs": [],
   "source": [
    "# wow a self join \n",
    "self_joined = pd.merge(combined, combined['story_texts'], left_on='most_similar_index', right_index=True)"
   ]
  },
  {
   "cell_type": "code",
   "execution_count": 38,
   "metadata": {
    "ExecuteTime": {
     "end_time": "2020-03-10T05:02:26.677685Z",
     "start_time": "2020-03-10T05:02:26.302597Z"
    }
   },
   "outputs": [
    {
     "data": {
      "text/plain": [
       "<matplotlib.axes._subplots.AxesSubplot at 0x12bd80c10>"
      ]
     },
     "execution_count": 38,
     "metadata": {},
     "output_type": "execute_result"
    },
    {
     "data": {
      "image/png": "[encoded data removed]",
      "text/plain": [
       "<Figure size 432x288 with 1 Axes>"
      ]
     },
     "metadata": {
      "needs_background": "light"
     },
     "output_type": "display_data"
    }
   ],
   "source": [
    "# there are a few stories that are deemed to be most similar to lots of other stories\n",
    "sns.distplot(combined.most_similar_index.value_counts())"
   ]
  },
  {
   "cell_type": "code",
   "execution_count": 39,
   "metadata": {
    "ExecuteTime": {
     "end_time": "2020-03-10T05:02:31.777002Z",
     "start_time": "2020-03-10T05:02:31.554570Z"
    }
   },
   "outputs": [
    {
     "data": {
      "text/html": [
       "<div>\n",
       "<style scoped>\n",
       "    .dataframe tbody tr th:only-of-type {\n",
       "        vertical-align: middle;\n",
       "    }\n",
       "\n",
       "    .dataframe tbody tr th {\n",
       "        vertical-align: top;\n",
       "    }\n",
       "\n",
       "    .dataframe thead th {\n",
       "        text-align: right;\n",
       "    }\n",
       "</style>\n",
       "<table border=\"1\" class=\"dataframe\">\n",
       "  <thead>\n",
       "    <tr style=\"text-align: right;\">\n",
       "      <th></th>\n",
       "      <th>story_id</th>\n",
       "      <th>perspective</th>\n",
       "      <th>age</th>\n",
       "      <th>lgbtq</th>\n",
       "      <th>race</th>\n",
       "      <th>topic</th>\n",
       "      <th>published_at</th>\n",
       "      <th>story_texts_x</th>\n",
       "      <th>cleaned</th>\n",
       "      <th>pos_tagged</th>\n",
       "      <th>...</th>\n",
       "      <th>sex</th>\n",
       "      <th>topic_2</th>\n",
       "      <th>female_sexuality</th>\n",
       "      <th>social_situations_at_school</th>\n",
       "      <th>puberty_first_period</th>\n",
       "      <th>feeling_sad</th>\n",
       "      <th>random/confusion</th>\n",
       "      <th>max_topic</th>\n",
       "      <th>most_similar_index</th>\n",
       "      <th>story_texts_y</th>\n",
       "    </tr>\n",
       "  </thead>\n",
       "  <tbody>\n",
       "    <tr>\n",
       "      <th>136</th>\n",
       "      <td>2126</td>\n",
       "      <td>female</td>\n",
       "      <td>19.0</td>\n",
       "      <td>no</td>\n",
       "      <td>black</td>\n",
       "      <td>relationships</td>\n",
       "      <td>2019-11-05 00:00:00 UTC</td>\n",
       "      <td>I was with a group of friends at the beach nea...</td>\n",
       "      <td>I was with a group of friends at the beach nea...</td>\n",
       "      <td>[(I, PRP), (was, VBD), (with, IN), (a, DT), (g...</td>\n",
       "      <td>...</td>\n",
       "      <td>0.000000</td>\n",
       "      <td>0.001990</td>\n",
       "      <td>0.000000</td>\n",
       "      <td>0.008386</td>\n",
       "      <td>0.000033</td>\n",
       "      <td>0.002567</td>\n",
       "      <td>0.000959</td>\n",
       "      <td>0</td>\n",
       "      <td>1778</td>\n",
       "      <td>This boy and I started off as friends but like...</td>\n",
       "    </tr>\n",
       "    <tr>\n",
       "      <th>1095</th>\n",
       "      <td>1008</td>\n",
       "      <td>female</td>\n",
       "      <td>15.0</td>\n",
       "      <td>yes</td>\n",
       "      <td>white</td>\n",
       "      <td>relationships</td>\n",
       "      <td>2019-03-06 00:00:00 UTC</td>\n",
       "      <td>I’ve always kinda known I was bisexual.; I fir...</td>\n",
       "      <td>Ive always kinda known I was bisexual I first ...</td>\n",
       "      <td>[(Ive, NNP), (always, RB), (kinda, VBD), (know...</td>\n",
       "      <td>...</td>\n",
       "      <td>0.000000</td>\n",
       "      <td>0.038222</td>\n",
       "      <td>0.000000</td>\n",
       "      <td>0.000000</td>\n",
       "      <td>0.007585</td>\n",
       "      <td>0.000000</td>\n",
       "      <td>0.000000</td>\n",
       "      <td>0</td>\n",
       "      <td>1676</td>\n",
       "      <td>At the time I was dating this girl for almost ...</td>\n",
       "    </tr>\n",
       "    <tr>\n",
       "      <th>1949</th>\n",
       "      <td>71</td>\n",
       "      <td>male</td>\n",
       "      <td>NaN</td>\n",
       "      <td>NaN</td>\n",
       "      <td>NaN</td>\n",
       "      <td>relationships</td>\n",
       "      <td>2017-10-04 00:00:00 UTC</td>\n",
       "      <td>My sister constantly annoys me and when I figh...</td>\n",
       "      <td>My sister constantly annoys me and when I figh...</td>\n",
       "      <td>[(My, PRP$), (sister, NN), (constantly, RB), (...</td>\n",
       "      <td>...</td>\n",
       "      <td>0.000000</td>\n",
       "      <td>0.000000</td>\n",
       "      <td>0.000000</td>\n",
       "      <td>0.000000</td>\n",
       "      <td>0.009266</td>\n",
       "      <td>0.002779</td>\n",
       "      <td>0.000372</td>\n",
       "      <td>0</td>\n",
       "      <td>1587</td>\n",
       "      <td>My boyfriend of two years and I were just hang...</td>\n",
       "    </tr>\n",
       "    <tr>\n",
       "      <th>1021</th>\n",
       "      <td>1084</td>\n",
       "      <td>female</td>\n",
       "      <td>15.0</td>\n",
       "      <td>no</td>\n",
       "      <td>latinx</td>\n",
       "      <td>bullying</td>\n",
       "      <td>2019-05-06 00:00:00 UTC</td>\n",
       "      <td>When I was in middle school I felt disgusting ...</td>\n",
       "      <td>When I was in middle school I felt disgusting ...</td>\n",
       "      <td>[(When, WRB), (I, PRP), (was, VBD), (in, IN), ...</td>\n",
       "      <td>...</td>\n",
       "      <td>0.000000</td>\n",
       "      <td>0.095487</td>\n",
       "      <td>0.000000</td>\n",
       "      <td>0.000000</td>\n",
       "      <td>0.000000</td>\n",
       "      <td>0.002049</td>\n",
       "      <td>0.000000</td>\n",
       "      <td>2</td>\n",
       "      <td>148</td>\n",
       "      <td>I was with a girl I hung out with a few times ...</td>\n",
       "    </tr>\n",
       "    <tr>\n",
       "      <th>1699</th>\n",
       "      <td>323</td>\n",
       "      <td>female</td>\n",
       "      <td>NaN</td>\n",
       "      <td>NaN</td>\n",
       "      <td>NaN</td>\n",
       "      <td>relationships</td>\n",
       "      <td>2019-09-30 00:00:00 UTC</td>\n",
       "      <td>So I had this boyfriend. I started dating him ...</td>\n",
       "      <td>So I had this boyfriend I started dating him i...</td>\n",
       "      <td>[(So, RB), (I, PRP), (had, VBD), (this, DT), (...</td>\n",
       "      <td>...</td>\n",
       "      <td>0.003458</td>\n",
       "      <td>0.000000</td>\n",
       "      <td>0.002144</td>\n",
       "      <td>0.000000</td>\n",
       "      <td>0.001866</td>\n",
       "      <td>0.008465</td>\n",
       "      <td>0.000000</td>\n",
       "      <td>0</td>\n",
       "      <td>1629</td>\n",
       "      <td>So I had this boyfriend. I started dating him ...</td>\n",
       "    </tr>\n",
       "    <tr>\n",
       "      <th>1388</th>\n",
       "      <td>677</td>\n",
       "      <td>not-shared</td>\n",
       "      <td>13.0</td>\n",
       "      <td>no</td>\n",
       "      <td>white</td>\n",
       "      <td>puberty</td>\n",
       "      <td>2019-10-13 00:00:00 UTC</td>\n",
       "      <td>At the time I was in my bathroom ; I felt real...</td>\n",
       "      <td>At the time I was in my bathroom  I felt reall...</td>\n",
       "      <td>[(At, IN), (the, DT), (time, NN), (I, PRP), (w...</td>\n",
       "      <td>...</td>\n",
       "      <td>0.000000</td>\n",
       "      <td>0.000000</td>\n",
       "      <td>0.000000</td>\n",
       "      <td>0.000000</td>\n",
       "      <td>0.037458</td>\n",
       "      <td>0.000000</td>\n",
       "      <td>0.000000</td>\n",
       "      <td>0</td>\n",
       "      <td>1853</td>\n",
       "      <td>I was staying the night at a friends and her b...</td>\n",
       "    </tr>\n",
       "    <tr>\n",
       "      <th>1830</th>\n",
       "      <td>190</td>\n",
       "      <td>female</td>\n",
       "      <td>NaN</td>\n",
       "      <td>NaN</td>\n",
       "      <td>NaN</td>\n",
       "      <td>puberty</td>\n",
       "      <td>2018-10-26 00:00:00 UTC</td>\n",
       "      <td>One day, I was taking my shower; I was washing...</td>\n",
       "      <td>One day I was taking my shower I was washing m...</td>\n",
       "      <td>[(One, CD), (day, NN), (I, PRP), (was, VBD), (...</td>\n",
       "      <td>...</td>\n",
       "      <td>0.000000</td>\n",
       "      <td>0.003269</td>\n",
       "      <td>0.000000</td>\n",
       "      <td>0.004460</td>\n",
       "      <td>0.017086</td>\n",
       "      <td>0.002614</td>\n",
       "      <td>0.002702</td>\n",
       "      <td>0</td>\n",
       "      <td>1550</td>\n",
       "      <td>So this is year I was in 5th grade. I started ...</td>\n",
       "    </tr>\n",
       "    <tr>\n",
       "      <th>1888</th>\n",
       "      <td>132</td>\n",
       "      <td>female</td>\n",
       "      <td>NaN</td>\n",
       "      <td>NaN</td>\n",
       "      <td>NaN</td>\n",
       "      <td>puberty</td>\n",
       "      <td>2018-11-03 00:00:00 UTC</td>\n",
       "      <td>I shaved and it was very itchy and bumpy; I bo...</td>\n",
       "      <td>I shaved and it was very itchy and bumpy I bou...</td>\n",
       "      <td>[(I, PRP), (shaved, VBD), (and, CC), (it, PRP)...</td>\n",
       "      <td>...</td>\n",
       "      <td>0.000239</td>\n",
       "      <td>0.000000</td>\n",
       "      <td>0.000000</td>\n",
       "      <td>0.001157</td>\n",
       "      <td>0.000000</td>\n",
       "      <td>0.000000</td>\n",
       "      <td>0.000000</td>\n",
       "      <td>0</td>\n",
       "      <td>33</td>\n",
       "      <td>They were my guys best friend.; They made me f...</td>\n",
       "    </tr>\n",
       "    <tr>\n",
       "      <th>1410</th>\n",
       "      <td>655</td>\n",
       "      <td>female</td>\n",
       "      <td>16.0</td>\n",
       "      <td>no</td>\n",
       "      <td>native</td>\n",
       "      <td>relationships</td>\n",
       "      <td>2019-09-04 00:00:00 UTC</td>\n",
       "      <td>I thought I was in a healthy relationship when...</td>\n",
       "      <td>I thought I was in a healthy relationship when...</td>\n",
       "      <td>[(I, PRP), (thought, VBD), (I, PRP), (was, VBD...</td>\n",
       "      <td>...</td>\n",
       "      <td>0.000000</td>\n",
       "      <td>0.000000</td>\n",
       "      <td>0.000000</td>\n",
       "      <td>0.000000</td>\n",
       "      <td>0.000000</td>\n",
       "      <td>0.000000</td>\n",
       "      <td>0.000000</td>\n",
       "      <td>0</td>\n",
       "      <td>1823</td>\n",
       "      <td>I met this guy and I really liked him. He alwa...</td>\n",
       "    </tr>\n",
       "    <tr>\n",
       "      <th>1414</th>\n",
       "      <td>651</td>\n",
       "      <td>female</td>\n",
       "      <td>18.0</td>\n",
       "      <td>no</td>\n",
       "      <td>black</td>\n",
       "      <td>relationships</td>\n",
       "      <td>2019-10-13 00:00:00 UTC</td>\n",
       "      <td>I used to date my best friend and I knew from...</td>\n",
       "      <td>I used to date my best friend and I knew from...</td>\n",
       "      <td>[(I, PRP), (used, VBD), (to, TO), (date, NN), ...</td>\n",
       "      <td>...</td>\n",
       "      <td>0.000000</td>\n",
       "      <td>0.057980</td>\n",
       "      <td>0.000000</td>\n",
       "      <td>0.000000</td>\n",
       "      <td>0.000000</td>\n",
       "      <td>0.000000</td>\n",
       "      <td>0.000000</td>\n",
       "      <td>2</td>\n",
       "      <td>1736</td>\n",
       "      <td>So I’m a growing, young boy and lately I've re...</td>\n",
       "    </tr>\n",
       "  </tbody>\n",
       "</table>\n",
       "<p>10 rows × 22 columns</p>\n",
       "</div>"
      ],
      "text/plain": [
       "      story_id perspective   age lgbtq    race          topic  \\\n",
       "136       2126      female  19.0    no   black  relationships   \n",
       "1095      1008      female  15.0   yes   white  relationships   \n",
       "1949        71        male   NaN   NaN     NaN  relationships   \n",
       "1021      1084      female  15.0    no  latinx       bullying   \n",
       "1699       323      female   NaN   NaN     NaN  relationships   \n",
       "1388       677  not-shared  13.0    no   white        puberty   \n",
       "1830       190      female   NaN   NaN     NaN        puberty   \n",
       "1888       132      female   NaN   NaN     NaN        puberty   \n",
       "1410       655      female  16.0    no  native  relationships   \n",
       "1414       651      female  18.0    no   black  relationships   \n",
       "\n",
       "                 published_at  \\\n",
       "136   2019-11-05 00:00:00 UTC   \n",
       "1095  2019-03-06 00:00:00 UTC   \n",
       "1949  2017-10-04 00:00:00 UTC   \n",
       "1021  2019-05-06 00:00:00 UTC   \n",
       "1699  2019-09-30 00:00:00 UTC   \n",
       "1388  2019-10-13 00:00:00 UTC   \n",
       "1830  2018-10-26 00:00:00 UTC   \n",
       "1888  2018-11-03 00:00:00 UTC   \n",
       "1410  2019-09-04 00:00:00 UTC   \n",
       "1414  2019-10-13 00:00:00 UTC   \n",
       "\n",
       "                                          story_texts_x  \\\n",
       "136   I was with a group of friends at the beach nea...   \n",
       "1095  I’ve always kinda known I was bisexual.; I fir...   \n",
       "1949  My sister constantly annoys me and when I figh...   \n",
       "1021  When I was in middle school I felt disgusting ...   \n",
       "1699  So I had this boyfriend. I started dating him ...   \n",
       "1388  At the time I was in my bathroom ; I felt real...   \n",
       "1830  One day, I was taking my shower; I was washing...   \n",
       "1888  I shaved and it was very itchy and bumpy; I bo...   \n",
       "1410  I thought I was in a healthy relationship when...   \n",
       "1414   I used to date my best friend and I knew from...   \n",
       "\n",
       "                                                cleaned  \\\n",
       "136   I was with a group of friends at the beach nea...   \n",
       "1095  Ive always kinda known I was bisexual I first ...   \n",
       "1949  My sister constantly annoys me and when I figh...   \n",
       "1021  When I was in middle school I felt disgusting ...   \n",
       "1699  So I had this boyfriend I started dating him i...   \n",
       "1388  At the time I was in my bathroom  I felt reall...   \n",
       "1830  One day I was taking my shower I was washing m...   \n",
       "1888  I shaved and it was very itchy and bumpy I bou...   \n",
       "1410  I thought I was in a healthy relationship when...   \n",
       "1414   I used to date my best friend and I knew from...   \n",
       "\n",
       "                                             pos_tagged  ...       sex  \\\n",
       "136   [(I, PRP), (was, VBD), (with, IN), (a, DT), (g...  ...  0.000000   \n",
       "1095  [(Ive, NNP), (always, RB), (kinda, VBD), (know...  ...  0.000000   \n",
       "1949  [(My, PRP$), (sister, NN), (constantly, RB), (...  ...  0.000000   \n",
       "1021  [(When, WRB), (I, PRP), (was, VBD), (in, IN), ...  ...  0.000000   \n",
       "1699  [(So, RB), (I, PRP), (had, VBD), (this, DT), (...  ...  0.003458   \n",
       "1388  [(At, IN), (the, DT), (time, NN), (I, PRP), (w...  ...  0.000000   \n",
       "1830  [(One, CD), (day, NN), (I, PRP), (was, VBD), (...  ...  0.000000   \n",
       "1888  [(I, PRP), (shaved, VBD), (and, CC), (it, PRP)...  ...  0.000239   \n",
       "1410  [(I, PRP), (thought, VBD), (I, PRP), (was, VBD...  ...  0.000000   \n",
       "1414  [(I, PRP), (used, VBD), (to, TO), (date, NN), ...  ...  0.000000   \n",
       "\n",
       "       topic_2  female_sexuality  social_situations_at_school  \\\n",
       "136   0.001990          0.000000                     0.008386   \n",
       "1095  0.038222          0.000000                     0.000000   \n",
       "1949  0.000000          0.000000                     0.000000   \n",
       "1021  0.095487          0.000000                     0.000000   \n",
       "1699  0.000000          0.002144                     0.000000   \n",
       "1388  0.000000          0.000000                     0.000000   \n",
       "1830  0.003269          0.000000                     0.004460   \n",
       "1888  0.000000          0.000000                     0.001157   \n",
       "1410  0.000000          0.000000                     0.000000   \n",
       "1414  0.057980          0.000000                     0.000000   \n",
       "\n",
       "      puberty_first_period  feeling_sad  random/confusion  max_topic  \\\n",
       "136               0.000033     0.002567          0.000959          0   \n",
       "1095              0.007585     0.000000          0.000000          0   \n",
       "1949              0.009266     0.002779          0.000372          0   \n",
       "1021              0.000000     0.002049          0.000000          2   \n",
       "1699              0.001866     0.008465          0.000000          0   \n",
       "1388              0.037458     0.000000          0.000000          0   \n",
       "1830              0.017086     0.002614          0.002702          0   \n",
       "1888              0.000000     0.000000          0.000000          0   \n",
       "1410              0.000000     0.000000          0.000000          0   \n",
       "1414              0.000000     0.000000          0.000000          2   \n",
       "\n",
       "      most_similar_index                                      story_texts_y  \n",
       "136                 1778  This boy and I started off as friends but like...  \n",
       "1095                1676  At the time I was dating this girl for almost ...  \n",
       "1949                1587  My boyfriend of two years and I were just hang...  \n",
       "1021                 148  I was with a girl I hung out with a few times ...  \n",
       "1699                1629  So I had this boyfriend. I started dating him ...  \n",
       "1388                1853  I was staying the night at a friends and her b...  \n",
       "1830                1550  So this is year I was in 5th grade. I started ...  \n",
       "1888                  33  They were my guys best friend.; They made me f...  \n",
       "1410                1823  I met this guy and I really liked him. He alwa...  \n",
       "1414                1736  So I’m a growing, young boy and lately I've re...  \n",
       "\n",
       "[10 rows x 22 columns]"
      ]
     },
     "execution_count": 39,
     "metadata": {},
     "output_type": "execute_result"
    }
   ],
   "source": [
    "random_sample = self_joined[~self_joined.published_at.isna()].sample(n=10\n",
    "                   , random_state=random_state)\n",
    "random_sample"
   ]
  },
  {
   "cell_type": "code",
   "execution_count": 40,
   "metadata": {
    "ExecuteTime": {
     "end_time": "2020-03-10T05:02:37.563839Z",
     "start_time": "2020-03-10T05:02:37.533929Z"
    },
    "scrolled": false
   },
   "outputs": [
    {
     "data": {
      "text/plain": [
       "('I was with a group of friends at the beach near our school. ; We’d just finished having a picnic lunch and were laying in the sand until it was time for us to head back to school. ; I asked my friend if it would be alright for me to put my head in her lap.; She apologized and told me that she would prefer if I didn’t.; I wasn’t expecting her to say no, so I was surprised, but I was fine with it. I asked her a question and she answered me honestly.; I said ok and continued laying like I’d been doing before.',\n",
       " \"This boy and I started off as friends but like a month later we started dating; The relationship was weird because we didn't talk to each other at all when we saw each other at school; But, we were always on the phone; I started hearing rumors about him cheating so we broke up be we still texted eachother and flirted; I would get mad whenever he didn't answer my calls or text me back. I was so confused because I didn't know if I wanted him or not.; Even though we texted and FaceTimed, we still never talked in person. So I wonder if he ever liked me at all\")"
      ]
     },
     "execution_count": 40,
     "metadata": {},
     "output_type": "execute_result"
    }
   ],
   "source": [
    "# looking at the recommended stories\n",
    "random_sample.iloc[0]['story_texts_x'], random_sample.iloc[0]['story_texts_y']"
   ]
  },
  {
   "cell_type": "code",
   "execution_count": null,
   "metadata": {},
   "outputs": [],
   "source": []
  },
  {
   "cell_type": "code",
   "execution_count": null,
   "metadata": {},
   "outputs": [],
   "source": []
  },
  {
   "cell_type": "code",
   "execution_count": null,
   "metadata": {},
   "outputs": [],
   "source": []
  },
  {
   "cell_type": "markdown",
   "metadata": {},
   "source": [
    "## Are there patterns with these topics?"
   ]
  },
  {
   "cell_type": "code",
   "execution_count": null,
   "metadata": {
    "ExecuteTime": {
     "end_time": "2020-03-10T00:36:38.122560Z",
     "start_time": "2020-03-10T00:36:37.640246Z"
    }
   },
   "outputs": [],
   "source": [
    "sns.catplot(x='crushes_on_guys', y='perspective', kind='box', data=combined)"
   ]
  },
  {
   "cell_type": "code",
   "execution_count": null,
   "metadata": {
    "ExecuteTime": {
     "end_time": "2020-03-10T00:37:44.746464Z",
     "start_time": "2020-03-10T00:37:44.419171Z"
    }
   },
   "outputs": [],
   "source": [
    "sns.catplot(x='crushes_on_guys', y='topic', kind='box', data=combined) \n",
    "# proves that there are better ways to categorize stories"
   ]
  },
  {
   "cell_type": "code",
   "execution_count": null,
   "metadata": {
    "ExecuteTime": {
     "end_time": "2020-03-10T00:38:37.097444Z",
     "start_time": "2020-03-10T00:38:36.789714Z"
    }
   },
   "outputs": [],
   "source": [
    "sns.catplot(x='crushes_on_guys', y='lgbtq', kind='box', data=combined) "
   ]
  },
  {
   "cell_type": "code",
   "execution_count": null,
   "metadata": {
    "ExecuteTime": {
     "end_time": "2020-03-10T00:44:56.641579Z",
     "start_time": "2020-03-10T00:44:56.358734Z"
    }
   },
   "outputs": [],
   "source": [
    "# are kids talking about sex more than any other topic?\n",
    "# i dont think scatter plot is the best way to visualize this interaction....\n",
    "sns.scatterplot(x='age', y='sex', data=combined[combined.age<100]) # removed the obvious bad answers"
   ]
  },
  {
   "cell_type": "code",
   "execution_count": null,
   "metadata": {
    "ExecuteTime": {
     "end_time": "2020-03-10T00:45:47.929543Z",
     "start_time": "2020-03-10T00:45:47.625527Z"
    }
   },
   "outputs": [],
   "source": [
    "sns.scatterplot(x='age', y='female_sexuality', data=combined[combined.age<100])"
   ]
  },
  {
   "cell_type": "code",
   "execution_count": null,
   "metadata": {
    "ExecuteTime": {
     "end_time": "2020-03-10T02:17:24.339337Z",
     "start_time": "2020-03-10T02:17:24.319826Z"
    }
   },
   "outputs": [],
   "source": [
    "topics.values()"
   ]
  },
  {
   "cell_type": "code",
   "execution_count": null,
   "metadata": {
    "ExecuteTime": {
     "end_time": "2020-03-10T02:17:37.345445Z",
     "start_time": "2020-03-10T02:17:37.034153Z"
    }
   },
   "outputs": [],
   "source": [
    "sns.scatterplot(x='age', y='social_situations_at_school', data=combined[combined.age<100])"
   ]
  },
  {
   "cell_type": "code",
   "execution_count": null,
   "metadata": {
    "ExecuteTime": {
     "end_time": "2020-03-10T02:17:55.817915Z",
     "start_time": "2020-03-10T02:17:55.518372Z"
    }
   },
   "outputs": [],
   "source": [
    "sns.scatterplot(x='age', y='puberty_first_period', data=combined[combined.age<100])"
   ]
  },
  {
   "cell_type": "code",
   "execution_count": null,
   "metadata": {
    "ExecuteTime": {
     "end_time": "2020-03-10T02:17:11.364345Z",
     "start_time": "2020-03-10T02:17:11.031198Z"
    }
   },
   "outputs": [],
   "source": [
    "sns.scatterplot(x='age', y='crushes_on_guys', data=combined[combined.age<100])"
   ]
  },
  {
   "cell_type": "code",
   "execution_count": null,
   "metadata": {
    "ExecuteTime": {
     "end_time": "2020-03-10T00:33:17.369617Z",
     "start_time": "2020-03-10T00:33:17.350353Z"
    },
    "scrolled": true
   },
   "outputs": [],
   "source": [
    "combined.info()"
   ]
  },
  {
   "cell_type": "code",
   "execution_count": null,
   "metadata": {
    "ExecuteTime": {
     "end_time": "2020-03-10T00:33:01.239431Z",
     "start_time": "2020-03-10T00:33:01.003381Z"
    }
   },
   "outputs": [],
   "source": [
    "sns.boxplot(combined.age)"
   ]
  },
  {
   "cell_type": "code",
   "execution_count": null,
   "metadata": {
    "ExecuteTime": {
     "end_time": "2020-03-09T21:44:00.564689Z",
     "start_time": "2020-03-09T21:44:00.546490Z"
    }
   },
   "outputs": [],
   "source": [
    "combined.iloc[0]"
   ]
  },
  {
   "cell_type": "code",
   "execution_count": null,
   "metadata": {
    "ExecuteTime": {
     "end_time": "2020-03-09T21:44:10.778824Z",
     "start_time": "2020-03-09T21:44:10.760233Z"
    }
   },
   "outputs": [],
   "source": [
    "combined.iloc[156]"
   ]
  },
  {
   "cell_type": "code",
   "execution_count": null,
   "metadata": {
    "ExecuteTime": {
     "end_time": "2020-03-09T21:44:38.559872Z",
     "start_time": "2020-03-09T21:44:38.545830Z"
    }
   },
   "outputs": [],
   "source": [
    "combined.iloc[2012]"
   ]
  },
  {
   "cell_type": "code",
   "execution_count": null,
   "metadata": {
    "ExecuteTime": {
     "end_time": "2020-03-09T21:46:39.561264Z",
     "start_time": "2020-03-09T21:46:39.544635Z"
    }
   },
   "outputs": [],
   "source": [
    "combined.iloc[1577]"
   ]
  },
  {
   "cell_type": "code",
   "execution_count": null,
   "metadata": {},
   "outputs": [],
   "source": []
  },
  {
   "cell_type": "code",
   "execution_count": null,
   "metadata": {},
   "outputs": [],
   "source": []
  },
  {
   "cell_type": "code",
   "execution_count": null,
   "metadata": {},
   "outputs": [],
   "source": []
  },
  {
   "cell_type": "code",
   "execution_count": null,
   "metadata": {},
   "outputs": [],
   "source": []
  },
  {
   "cell_type": "code",
   "execution_count": null,
   "metadata": {},
   "outputs": [],
   "source": []
  },
  {
   "cell_type": "code",
   "execution_count": null,
   "metadata": {},
   "outputs": [],
   "source": []
  },
  {
   "cell_type": "code",
   "execution_count": null,
   "metadata": {},
   "outputs": [],
   "source": []
  },
  {
   "cell_type": "code",
   "execution_count": null,
   "metadata": {},
   "outputs": [],
   "source": []
  },
  {
   "cell_type": "code",
   "execution_count": null,
   "metadata": {},
   "outputs": [],
   "source": []
  },
  {
   "cell_type": "code",
   "execution_count": null,
   "metadata": {
    "ExecuteTime": {
     "end_time": "2020-03-09T21:44:27.579486Z",
     "start_time": "2020-03-09T21:44:27.568255Z"
    }
   },
   "outputs": [],
   "source": [
    "combined.shape"
   ]
  },
  {
   "cell_type": "code",
   "execution_count": null,
   "metadata": {
    "ExecuteTime": {
     "end_time": "2020-03-09T21:39:07.389600Z",
     "start_time": "2020-03-09T21:39:07.369462Z"
    }
   },
   "outputs": [],
   "source": [
    "combined.iloc[0]"
   ]
  },
  {
   "cell_type": "code",
   "execution_count": null,
   "metadata": {},
   "outputs": [],
   "source": []
  },
  {
   "cell_type": "code",
   "execution_count": null,
   "metadata": {
    "ExecuteTime": {
     "end_time": "2020-03-09T03:10:32.171017Z",
     "start_time": "2020-03-09T03:10:32.164605Z"
    }
   },
   "outputs": [],
   "source": [
    "from sklearn.manifold import TSNE"
   ]
  },
  {
   "cell_type": "code",
   "execution_count": null,
   "metadata": {
    "ExecuteTime": {
     "end_time": "2020-03-09T03:34:08.401616Z",
     "start_time": "2020-03-09T03:34:08.369251Z"
    }
   },
   "outputs": [],
   "source": [
    "tsne = TSNE(n_components=2\n",
    "            , verbose=1\n",
    "            , perplexity=500\n",
    "            , n_iter=400\n",
    "            , random_state=random_state)"
   ]
  },
  {
   "cell_type": "code",
   "execution_count": null,
   "metadata": {
    "ExecuteTime": {
     "end_time": "2020-03-09T03:34:39.739349Z",
     "start_time": "2020-03-09T03:34:15.560982Z"
    }
   },
   "outputs": [],
   "source": [
    "tfidf_tsne_data = tsne.fit_transform(tfidf_nmf_data)"
   ]
  },
  {
   "cell_type": "code",
   "execution_count": null,
   "metadata": {
    "ExecuteTime": {
     "end_time": "2020-03-09T03:34:47.046154Z",
     "start_time": "2020-03-09T03:34:46.533097Z"
    }
   },
   "outputs": [],
   "source": [
    "plt.rcParams.update({'figure.figsize': (10, 10)})\n",
    "sns.scatterplot(tfidf_tsne_data[:, 0], tfidf_tsne_data[:, 1],\n",
    "                size = 2, palette = 'coolwarm', alpha = 'auto', \n",
    "               markers = '.')"
   ]
  },
  {
   "cell_type": "code",
   "execution_count": null,
   "metadata": {
    "ExecuteTime": {
     "end_time": "2020-03-09T03:37:23.577383Z",
     "start_time": "2020-03-09T03:37:23.572679Z"
    }
   },
   "outputs": [],
   "source": [
    "feature_columns = tfidf_nmf_weights.columns"
   ]
  },
  {
   "cell_type": "code",
   "execution_count": null,
   "metadata": {
    "ExecuteTime": {
     "end_time": "2020-03-09T03:40:18.899504Z",
     "start_time": "2020-03-09T03:40:13.526679Z"
    },
    "scrolled": false
   },
   "outputs": [],
   "source": [
    "plt.rcParams.update({'figure.figsize': (10, 120)})\n",
    "for i in range(len(feature_columns)):\n",
    "    plt.subplot(len(feature_columns), 1, i+1)\n",
    "    sns.scatterplot(tfidf_tsne_data[:, 0], tfidf_tsne_data[:, 1]\n",
    "                    ,hue=tfidf_nmf_weights[feature_columns[i]]\n",
    "                , size = 2, palette = 'coolwarm', alpha = 'auto', \n",
    "               markers = '.')\n",
    "    plt.title(f'Feature: {feature_columns[i]}');"
   ]
  },
  {
   "cell_type": "markdown",
   "metadata": {},
   "source": [
    "## it would be interesting to know the distribution of topics and the relationship with the predetermined topics from myhealthed"
   ]
  },
  {
   "cell_type": "markdown",
   "metadata": {},
   "source": [
    "## How many clusters can i find to see if this works for topic modeling"
   ]
  },
  {
   "cell_type": "code",
   "execution_count": null,
   "metadata": {
    "ExecuteTime": {
     "end_time": "2020-03-07T18:50:05.014339Z",
     "start_time": "2020-03-07T18:50:05.005328Z"
    }
   },
   "outputs": [],
   "source": [
    "from sklearn.decomposition import SparsePCA, TruncatedSVD\n",
    "\n",
    "from sklearn.utils.extmath import randomized_svd\n",
    "\n",
    "# U, Sigma, VT = randomized_svd"
   ]
  },
  {
   "cell_type": "code",
   "execution_count": null,
   "metadata": {
    "ExecuteTime": {
     "end_time": "2020-03-07T18:50:05.040318Z",
     "start_time": "2020-03-07T18:50:05.023839Z"
    }
   },
   "outputs": [],
   "source": [
    "# need to reduce the dimensions\n",
    "random_state=42\n",
    "svd = TruncatedSVD(random_state=random_state, n_components=2)"
   ]
  },
  {
   "cell_type": "code",
   "execution_count": null,
   "metadata": {
    "ExecuteTime": {
     "end_time": "2020-03-07T18:50:05.109817Z",
     "start_time": "2020-03-07T18:50:05.043933Z"
    }
   },
   "outputs": [],
   "source": [
    "svd_results = svd.fit_transform(X=tfidf_dtm)"
   ]
  },
  {
   "cell_type": "code",
   "execution_count": null,
   "metadata": {
    "ExecuteTime": {
     "end_time": "2020-03-07T18:50:05.134516Z",
     "start_time": "2020-03-07T18:50:05.112636Z"
    }
   },
   "outputs": [],
   "source": [
    "svd_results"
   ]
  },
  {
   "cell_type": "code",
   "execution_count": null,
   "metadata": {
    "ExecuteTime": {
     "end_time": "2020-03-07T18:50:05.160039Z",
     "start_time": "2020-03-07T18:50:05.138913Z"
    }
   },
   "outputs": [],
   "source": [
    "len(svd_results)"
   ]
  },
  {
   "cell_type": "code",
   "execution_count": null,
   "metadata": {
    "ExecuteTime": {
     "end_time": "2020-03-07T18:51:36.115759Z",
     "start_time": "2020-03-07T18:51:36.009174Z"
    }
   },
   "outputs": [],
   "source": [
    "stories_data[['svd_component_1', 'svd_component_2']] =pd.DataFrame(svd_results)\n",
    "\n",
    "stories_data.head()"
   ]
  },
  {
   "cell_type": "code",
   "execution_count": null,
   "metadata": {
    "ExecuteTime": {
     "end_time": "2020-03-07T18:50:39.912602Z",
     "start_time": "2020-03-07T18:50:39.493411Z"
    }
   },
   "outputs": [],
   "source": [
    "sns.scatterplot(data=stories_data\n",
    "                , x=stories_data.svd_component_1, y=stories_data.svd_component_2, hue='topic')"
   ]
  },
  {
   "cell_type": "markdown",
   "metadata": {},
   "source": [
    "## what if we try to reduce the dimensions and cluster and compare the centroids to identify themes in the clusters as a way of topic modeling? \n",
    "\n",
    "so far im not getting a lot of progress with topic modeling so i want to try something different"
   ]
  },
  {
   "cell_type": "code",
   "execution_count": null,
   "metadata": {
    "ExecuteTime": {
     "end_time": "2020-03-08T18:59:33.823646Z",
     "start_time": "2020-03-08T18:59:33.812746Z"
    }
   },
   "outputs": [],
   "source": [
    "tfidf_dtm.shape # over 18k parameters that i need to reduce"
   ]
  },
  {
   "cell_type": "code",
   "execution_count": null,
   "metadata": {
    "ExecuteTime": {
     "end_time": "2020-03-08T19:02:35.076479Z",
     "start_time": "2020-03-08T19:01:33.280555Z"
    }
   },
   "outputs": [],
   "source": [
    "svd = TruncatedSVD(n_components=5000 # this is still a lot of parameters to fit a model....\n",
    "                , random_state=random_state)\n",
    "\n",
    "svd_fitted = svd.fit_transform(tfidf_dtm)"
   ]
  },
  {
   "cell_type": "code",
   "execution_count": null,
   "metadata": {
    "ExecuteTime": {
     "end_time": "2020-03-08T19:06:51.738136Z",
     "start_time": "2020-03-08T19:06:51.718949Z"
    }
   },
   "outputs": [],
   "source": [
    "np.cumsum(svd.explained_variance_ratio_)"
   ]
  },
  {
   "cell_type": "code",
   "execution_count": null,
   "metadata": {
    "ExecuteTime": {
     "end_time": "2020-03-08T19:02:40.034895Z",
     "start_time": "2020-03-08T19:02:39.853846Z"
    }
   },
   "outputs": [],
   "source": [
    "plt.plot(np.cumsum(svd.explained_variance_ratio_)) # i want to achieve \n",
    "# this can be used to find the elbow of the plot to find the optimal number of components"
   ]
  },
  {
   "cell_type": "code",
   "execution_count": null,
   "metadata": {},
   "outputs": [],
   "source": []
  },
  {
   "cell_type": "code",
   "execution_count": null,
   "metadata": {},
   "outputs": [],
   "source": []
  },
  {
   "cell_type": "code",
   "execution_count": null,
   "metadata": {
    "ExecuteTime": {
     "end_time": "2020-03-07T02:14:13.643823Z",
     "start_time": "2020-03-07T02:14:13.632993Z"
    }
   },
   "outputs": [],
   "source": [
    "tfidf_dtm.shape"
   ]
  },
  {
   "cell_type": "code",
   "execution_count": null,
   "metadata": {
    "ExecuteTime": {
     "end_time": "2020-03-07T02:12:43.486669Z",
     "start_time": "2020-03-07T02:12:43.169584Z"
    }
   },
   "outputs": [],
   "source": [
    "import matplotlib.pyplot as plt\n",
    "%matplotlib inline\n",
    "\n",
    "plt.plot(np.cumsum(svd.explained_variance_ratio_))"
   ]
  },
  {
   "cell_type": "code",
   "execution_count": null,
   "metadata": {
    "ExecuteTime": {
     "end_time": "2020-03-07T02:13:48.273612Z",
     "start_time": "2020-03-07T02:13:48.262789Z"
    }
   },
   "outputs": [],
   "source": [
    "svd.explained_variance_ratio_.sum()"
   ]
  },
  {
   "cell_type": "code",
   "execution_count": null,
   "metadata": {
    "ExecuteTime": {
     "end_time": "2020-03-07T02:16:19.036598Z",
     "start_time": "2020-03-07T02:16:19.029815Z"
    }
   },
   "outputs": [],
   "source": [
    "print(len(np.cumsum(svd.explained_variance_ratio_)))"
   ]
  },
  {
   "cell_type": "code",
   "execution_count": null,
   "metadata": {},
   "outputs": [],
   "source": []
  },
  {
   "cell_type": "code",
   "execution_count": null,
   "metadata": {},
   "outputs": [],
   "source": []
  },
  {
   "cell_type": "code",
   "execution_count": null,
   "metadata": {
    "ExecuteTime": {
     "end_time": "2020-03-07T01:49:41.428274Z",
     "start_time": "2020-03-07T01:49:41.420160Z"
    }
   },
   "outputs": [],
   "source": [
    "svd.components_."
   ]
  },
  {
   "cell_type": "code",
   "execution_count": null,
   "metadata": {
    "ExecuteTime": {
     "end_time": "2020-03-07T01:50:45.038197Z",
     "start_time": "2020-03-07T01:50:45.027604Z"
    }
   },
   "outputs": [],
   "source": [
    "svd.explained_variance_ratio_"
   ]
  },
  {
   "cell_type": "code",
   "execution_count": null,
   "metadata": {},
   "outputs": [],
   "source": []
  }
 ],
 "metadata": {
  "kernelspec": {
   "display_name": "delta_env",
   "language": "python",
   "name": "delta_env"
  },
  "language_info": {
   "codemirror_mode": {
    "name": "ipython",
    "version": 3
   },
   "file_extension": ".py",
   "mimetype": "text/x-python",
   "name": "python",
   "nbconvert_exporter": "python",
   "pygments_lexer": "ipython3",
   "version": "3.7.4"
  },
  "varInspector": {
   "cols": {
    "lenName": 16,
    "lenType": 16,
    "lenVar": 40
   },
   "kernels_config": {
    "python": {
     "delete_cmd_postfix": "",
     "delete_cmd_prefix": "del ",
     "library": "var_list.py",
     "varRefreshCmd": "print(var_dic_list())"
    },
    "r": {
     "delete_cmd_postfix": ") ",
     "delete_cmd_prefix": "rm(",
     "library": "var_list.r",
     "varRefreshCmd": "cat(var_dic_list()) "
    }
   },
   "types_to_exclude": [
    "module",
    "function",
    "builtin_function_or_method",
    "instance",
    "_Feature"
   ],
   "window_display": false
  }
 },
 "nbformat": 4,
 "nbformat_minor": 2
}
