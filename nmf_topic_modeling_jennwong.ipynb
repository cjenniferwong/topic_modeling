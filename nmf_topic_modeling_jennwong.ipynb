{
 "cells": [
  {
   "cell_type": "markdown",
   "metadata": {},
   "source": [
    "# Topic Modeling and Recommending Similar Stories"
   ]
  },
  {
   "cell_type": "code",
   "execution_count": 23,
   "metadata": {
    "ExecuteTime": {
     "end_time": "2020-03-10T21:50:18.104423Z",
     "start_time": "2020-03-10T21:50:18.095469Z"
    }
   },
   "outputs": [],
   "source": [
    "import pandas as pd\n",
    "import numpy as np\n",
    "import seaborn as sns\n",
    "import matplotlib.pyplot as plt\n",
    "%matplotlib inline\n",
    "\n",
    "random_state=42 # to make sure its reproducible\n",
    "\n",
    "from glob import glob\n",
    "datafiles = glob('data/*')"
   ]
  },
  {
   "cell_type": "code",
   "execution_count": 24,
   "metadata": {
    "ExecuteTime": {
     "end_time": "2020-03-10T21:50:18.116708Z",
     "start_time": "2020-03-10T21:50:18.110503Z"
    }
   },
   "outputs": [],
   "source": [
    "# packages for preprocessing text\n",
    "from nltk.tokenize import word_tokenize\n",
    "from nltk import pos_tag\n",
    "from nltk.stem import WordNetLemmatizer\n",
    "import string\n",
    "from nltk.corpus import stopwords\n",
    "\n",
    "# packages for topic modeling\n",
    "from sklearn.feature_extraction.text import TfidfVectorizer\n",
    "from sklearn.decomposition import NMF\n",
    "from sklearn.metrics.pairwise import cosine_similarity"
   ]
  },
  {
   "cell_type": "code",
   "execution_count": 25,
   "metadata": {
    "ExecuteTime": {
     "end_time": "2020-03-10T21:50:18.177733Z",
     "start_time": "2020-03-10T21:50:18.126347Z"
    }
   },
   "outputs": [],
   "source": [
    "# loading the data\n",
    "stories_data = pd.read_csv(datafiles[0])"
   ]
  },
  {
   "cell_type": "markdown",
   "metadata": {},
   "source": [
    "## Cleaning the column names to make it easier to work with"
   ]
  },
  {
   "cell_type": "code",
   "execution_count": 26,
   "metadata": {
    "ExecuteTime": {
     "end_time": "2020-03-10T21:50:18.210531Z",
     "start_time": "2020-03-10T21:50:18.181537Z"
    }
   },
   "outputs": [
    {
     "name": "stdout",
     "output_type": "stream",
     "text": [
      "<class 'pandas.core.frame.DataFrame'>\n",
      "Int64Index: 2014 entries, 0 to 2060\n",
      "Data columns (total 8 columns):\n",
      "story_id        2014 non-null int64\n",
      "perspective     2014 non-null object\n",
      "age             1548 non-null float64\n",
      "lgbtq           1548 non-null object\n",
      "race            1548 non-null object\n",
      "topic           2014 non-null object\n",
      "published_at    819 non-null object\n",
      "story_texts     2013 non-null object\n",
      "dtypes: float64(1), int64(1), object(6)\n",
      "memory usage: 141.6+ KB\n"
     ]
    }
   ],
   "source": [
    "# dropping duplicates if the text are the same\n",
    "stories_data.drop_duplicates(subset=['Story texts'], inplace=True)\n",
    "\n",
    "# renaming columns to make them easier to work with\n",
    "drop_columns = [column for column in stories_data.columns if 'link' in column.lower()]\n",
    "drop_columns.extend([ 'Title', 'Lede', 'Cringey', 'Haha', 'Me too', 'Interesting', 'Phone', 'Like'])\n",
    "stories_data.drop(columns=drop_columns, inplace=True, errors='ignore')\n",
    "\n",
    "stories_data.columns = [column.lower().replace(' ', '_') for column in stories_data.columns]\n",
    "stories_data.rename(columns={\n",
    "    'id':'story_id'\n",
    "}, inplace=True)\n",
    "stories_data.info()"
   ]
  },
  {
   "cell_type": "code",
   "execution_count": 27,
   "metadata": {
    "ExecuteTime": {
     "end_time": "2020-03-10T21:50:18.230834Z",
     "start_time": "2020-03-10T21:50:18.221666Z"
    }
   },
   "outputs": [
    {
     "data": {
      "text/plain": [
       "story_id           0\n",
       "perspective        0\n",
       "age              466\n",
       "lgbtq            466\n",
       "race             466\n",
       "topic              0\n",
       "published_at    1195\n",
       "story_texts        1\n",
       "dtype: int64"
      ]
     },
     "execution_count": 27,
     "metadata": {},
     "output_type": "execute_result"
    }
   ],
   "source": [
    "# how many are missing data\n",
    "stories_data.isna().sum()"
   ]
  },
  {
   "cell_type": "code",
   "execution_count": 28,
   "metadata": {
    "ExecuteTime": {
     "end_time": "2020-03-10T21:50:18.254465Z",
     "start_time": "2020-03-10T21:50:18.243578Z"
    }
   },
   "outputs": [],
   "source": [
    "# dropping the row that doenst have data for the text column since we're using the text column heavily\n",
    "stories_data.dropna(subset=['story_texts'], inplace=True)\n",
    "\n",
    "# resetting index since i dropped rows earlier\n",
    "stories_data.reset_index(inplace=True)\n",
    "stories_data.drop('index', axis=1, inplace=True)"
   ]
  },
  {
   "cell_type": "markdown",
   "metadata": {},
   "source": [
    "## Cleaning the Text\n",
    "\n",
    "1. lemmatizing the text\n",
    "2. removing stop words\n",
    "4. create n_grams\n",
    "3. vectorizing the words to feed to the algorithm"
   ]
  },
  {
   "cell_type": "code",
   "execution_count": 29,
   "metadata": {
    "ExecuteTime": {
     "end_time": "2020-03-10T21:50:24.941514Z",
     "start_time": "2020-03-10T21:50:18.257282Z"
    },
    "scrolled": true
   },
   "outputs": [],
   "source": [
    "stories_data['cleaned'] = stories_data.story_texts.str.replace('[^\\w\\s]','')\n",
    "\n",
    "# getting the POS tags to feed to the lem\n",
    "stories_data['pos_tagged'] = stories_data.cleaned.map(word_tokenize).map(pos_tag)"
   ]
  },
  {
   "cell_type": "code",
   "execution_count": 30,
   "metadata": {
    "ExecuteTime": {
     "end_time": "2020-03-10T21:50:25.295352Z",
     "start_time": "2020-03-10T21:50:24.944073Z"
    }
   },
   "outputs": [],
   "source": [
    "lem = WordNetLemmatizer()\n",
    "stories_data['lemmed'] = stories_data['pos_tagged'].map(lambda x: [lem.lemmatize(word, tag[0].lower()) for word, tag in x if tag[0].lower() in ['a', 'v', 'r', 'n']])\n",
    "stories_data.lemmed = stories_data.lemmed.map(lambda x: ' '.join(word for word in x))"
   ]
  },
  {
   "cell_type": "markdown",
   "metadata": {},
   "source": [
    "## Topic Modeling with different algorithms"
   ]
  },
  {
   "cell_type": "code",
   "execution_count": 31,
   "metadata": {
    "ExecuteTime": {
     "end_time": "2020-03-10T21:50:25.306273Z",
     "start_time": "2020-03-10T21:50:25.297868Z"
    }
   },
   "outputs": [],
   "source": [
    "# transforming the stop words in the same pattern that the text is being processed as \n",
    "stop_words = stopwords.words('english')\n",
    "stop_words = [s.translate(str.maketrans('', '', string.punctuation)) for s in stop_words]\n",
    "\n",
    "# additional stop words removing from corpus\n",
    "additional_stop_words = ['im', 'idk', 'friend', 'nothing', 'meh'\n",
    "                         , 'ha', 'hey', 'hi', 'ive', 'vjfjfjfc', 'umm']"
   ]
  },
  {
   "cell_type": "code",
   "execution_count": 32,
   "metadata": {
    "ExecuteTime": {
     "end_time": "2020-03-10T21:50:25.547078Z",
     "start_time": "2020-03-10T21:50:25.309865Z"
    }
   },
   "outputs": [],
   "source": [
    "#tfidf vectorizer\n",
    "tfidf = TfidfVectorizer(stop_words=stop_words + additional_stop_words\n",
    "                        , lowercase=True\n",
    "                       , ngram_range=(1,2))\n",
    "\n",
    "# document term matrix \n",
    "tfidf_dtm = tfidf.fit_transform(stories_data.lemmed)"
   ]
  },
  {
   "cell_type": "code",
   "execution_count": 33,
   "metadata": {
    "ExecuteTime": {
     "end_time": "2020-03-10T21:50:25.558145Z",
     "start_time": "2020-03-10T21:50:25.550080Z"
    }
   },
   "outputs": [],
   "source": [
    "# tfidf_nmf.components_ # an array like a dictionary with words and values aka the h component matrix lol "
   ]
  },
  {
   "cell_type": "code",
   "execution_count": 34,
   "metadata": {
    "ExecuteTime": {
     "end_time": "2020-03-10T21:50:25.579621Z",
     "start_time": "2020-03-10T21:50:25.560956Z"
    }
   },
   "outputs": [],
   "source": [
    "def display_topics(model, feature_names, no_top_words=10, topic_names=None):\n",
    "    for index, topic in enumerate(model.components_):\n",
    "        if not topic_names or not topic_names[index]:\n",
    "            print(\"\\nTopic \", index)\n",
    "        else:\n",
    "            print(\"\\nTopic: '\",topic_names[index],\"'\")\n",
    "        print(\", \".join([feature_names[i] for i in topic.argsort()[:-no_top_words - 1:-1]])) # reversed"
   ]
  },
  {
   "cell_type": "code",
   "execution_count": 35,
   "metadata": {
    "ExecuteTime": {
     "end_time": "2020-03-10T21:50:27.010907Z",
     "start_time": "2020-03-10T21:50:25.582668Z"
    }
   },
   "outputs": [],
   "source": [
    "n_components=9\n",
    "tfidf_nmf = NMF(n_components=n_components\n",
    "            , random_state=random_state)\n",
    "tfidf_nmf_data = tfidf_nmf.fit_transform(tfidf_dtm)"
   ]
  },
  {
   "cell_type": "code",
   "execution_count": 36,
   "metadata": {
    "ExecuteTime": {
     "end_time": "2020-03-10T21:50:27.097561Z",
     "start_time": "2020-03-10T21:50:27.013129Z"
    }
   },
   "outputs": [
    {
     "name": "stdout",
     "output_type": "stream",
     "text": [
      "\n",
      "Topic  0\n",
      "tell, say, want, go, school, mom, tell tell, come, day, anyone\n",
      "\n",
      "Topic  1\n",
      "sex, sex sex, want, want sex, boyfriend, sex want, sex say, sexy, bad, keyon\n",
      "\n",
      "Topic  2\n",
      "good, good girl, room good, room, girl good, good act, dick, hello, home good, good guy\n",
      "\n",
      "Topic  3\n",
      "get, period, go, start, puberty, get period, mom, go puberty, hair, bathroom\n",
      "\n",
      "Topic  4\n",
      "make, feel, felt, people, make feel, really, well, think, look, way\n",
      "\n",
      "Topic  5\n",
      "know, know know, want, want know, know feel, know relationship, know say, feel, bye, really know\n",
      "\n",
      "Topic  6\n",
      "ask, say, consent, ask consent, yes, fuck, say yes, boyfriend, question, ask say\n",
      "\n",
      "Topic  7\n",
      "girl, like, like girl, girl school, gender, boy, dress, question, good girl, act\n",
      "\n",
      "Topic  8\n",
      "date, talk, like, love, guy, start, break, relationship, want, still\n"
     ]
    }
   ],
   "source": [
    "# note to self: it seems like stop words are removed before n grams are created\n",
    "# need to check source code to make sure\n",
    "# i wonder if you can modifer the sihoette score for topic modeling\n",
    "\n",
    "display_topics(tfidf_nmf, tfidf.get_feature_names())"
   ]
  },
  {
   "cell_type": "code",
   "execution_count": 37,
   "metadata": {
    "ExecuteTime": {
     "end_time": "2020-03-10T21:50:27.115912Z",
     "start_time": "2020-03-10T21:50:27.100326Z"
    }
   },
   "outputs": [
    {
     "data": {
      "text/plain": [
       "2     74\n",
       "1     95\n",
       "5    144\n",
       "7    154\n",
       "6    224\n",
       "0    224\n",
       "8    327\n",
       "3    328\n",
       "4    443\n",
       "Name: max_topic, dtype: int64"
      ]
     },
     "execution_count": 37,
     "metadata": {},
     "output_type": "execute_result"
    }
   ],
   "source": [
    "m, n = tfidf_nmf_data.shape\n",
    "tfidf_nmf_df = pd.DataFrame(tfidf_nmf_data, columns=[f'topic_{num}' for num in range(n)])\n",
    "tfidf_nmf_df['max_topic'] = tfidf_nmf_data.argmax(axis=1)\n",
    "tfidf_nmf_df['max_topic'].value_counts().sort_values()"
   ]
  },
  {
   "cell_type": "code",
   "execution_count": 38,
   "metadata": {
    "ExecuteTime": {
     "end_time": "2020-03-10T21:50:27.141826Z",
     "start_time": "2020-03-10T21:50:27.122342Z"
    }
   },
   "outputs": [],
   "source": [
    "combined = pd.merge(stories_data, tfidf_nmf_df, left_index=True, right_index=True)"
   ]
  },
  {
   "cell_type": "markdown",
   "metadata": {},
   "source": [
    "## Figuring out what the topics actually mean by looking at the stories\n",
    "\n",
    "sorting the stories by the highest ranking to figure out what the topics mean"
   ]
  },
  {
   "cell_type": "code",
   "execution_count": 39,
   "metadata": {
    "ExecuteTime": {
     "end_time": "2020-03-10T21:50:27.248486Z",
     "start_time": "2020-03-10T21:50:27.148923Z"
    }
   },
   "outputs": [
    {
     "name": "stdout",
     "output_type": "stream",
     "text": [
      "\n",
      "Topic  0\n",
      "tell, say, want, go, school, mom, tell tell, come, day, anyone\n",
      "\n",
      "Topic  1\n",
      "sex, sex sex, want, want sex, boyfriend, sex want, sex say, sexy, bad, keyon\n",
      "\n",
      "Topic  2\n",
      "good, good girl, room good, room, girl good, good act, dick, hello, home good, good guy\n",
      "\n",
      "Topic  3\n",
      "get, period, go, start, puberty, get period, mom, go puberty, hair, bathroom\n",
      "\n",
      "Topic  4\n",
      "make, feel, felt, people, make feel, really, well, think, look, way\n",
      "\n",
      "Topic  5\n",
      "know, know know, want, want know, know feel, know relationship, know say, feel, bye, really know\n",
      "\n",
      "Topic  6\n",
      "ask, say, consent, ask consent, yes, fuck, say yes, boyfriend, question, ask say\n",
      "\n",
      "Topic  7\n",
      "girl, like, like girl, girl school, gender, boy, dress, question, good girl, act\n",
      "\n",
      "Topic  8\n",
      "date, talk, like, love, guy, start, break, relationship, want, still\n"
     ]
    }
   ],
   "source": [
    "display_topics(tfidf_nmf, tfidf.get_feature_names())"
   ]
  },
  {
   "cell_type": "code",
   "execution_count": 40,
   "metadata": {
    "ExecuteTime": {
     "end_time": "2020-03-10T21:50:27.265940Z",
     "start_time": "2020-03-10T21:50:27.252745Z"
    }
   },
   "outputs": [
    {
     "data": {
      "text/plain": [
       "[\"I was really close with this boy and he was like my best friend; Then one day he told me he liked me and I didn't like him back; So I didn't know how to tell him so I told one of my other friends to tell him; Now we are not close anymore\",\n",
       " 'My friendship was ruined because of a boy. I told my best friend that this boy is not right for you but you can still like him.. I just gave her my opinion. ; A week later he told me to tell my best friend that he doesn’t like her. I tried to tell my best friend that he doesn’t like her and she just blocked me out. I should’ve not been in there business but I was.; I kept texting telling her that I’m sorry and I want to be BEST FRIENDS again. She says yes every single time.; But in the next day of school she blocks me out again. She told me \"I just want to be friends\". I told her that I can’t be just friends after all she did to me. ; I told her about how many times she hurt my feeling called me fat, told me my pants were ugly and more. So I hurt her feelings ONCE and she takes the advantage of that.; I kept asking to be her best friend again but she just left me alone. On the last day of school she says will you be my friend again. I said no',\n",
       " 'I came out to a girl in my class and we weren’t even friends. I told one of my friends I was pansextual because I was scared to admit I was a lesbian and she told a couple of her friends including the girl I had a crush on. I told her she can’t tell anyone and then I didn’t say anything so we are basically forced friends even thought I want it to be more.; I wanted to because I couldn’t help myself I relly liked her I I thought she was going to find out one way or another ; I didn’t say anything I was going to but when the time came I couldn’t. All of her friends knew because someone told them  and I asked them and they all say she will react badly so I couldn’t I didn’t want to make her upset.; All of them said she would most probably run away and tell a teacher which I can’t do because they will tell my parents and even they don’t know yet.; When I get back to school I will get my closest fried since she already knows I will tell her what happened and ask her what to do because she had gotten me over one crush so what’s so different to another. If u don’t agree with her I will tell the girl and risk everything ',\n",
       " \"My brother told his friend that I'm lesbian on social media; He told his friend I'm lesbian; Upset because I'm not; I told him to not say that anymore ; I told my mom ; She didn't do anything\",\n",
       " 'Idk; Not go tell you; Idk what that is']"
      ]
     },
     "execution_count": 40,
     "metadata": {},
     "output_type": "execute_result"
    }
   ],
   "source": [
    "# dictionary to map the topics numbers and the defined topic names\n",
    "topics = {}\n",
    "combined.sort_values(by='topic_0', ascending=False).head()['story_texts'].tolist()"
   ]
  },
  {
   "cell_type": "code",
   "execution_count": 41,
   "metadata": {
    "ExecuteTime": {
     "end_time": "2020-03-10T21:50:27.282152Z",
     "start_time": "2020-03-10T21:50:27.270148Z"
    }
   },
   "outputs": [
    {
     "data": {
      "text/plain": [
       "['I will sex; 0; 0; 0',\n",
       " 'Me ; Sex ; Sex; Sex',\n",
       " 'Can we have sex; I want to have sex; I love sex; About sex; Good ; No body ',\n",
       " 'Sex; Sex; Sex; Sex; Sex',\n",
       " 'Idk; Because sex is fun and good; How big is your 🍆; Sex; Good; Keyon']"
      ]
     },
     "execution_count": 41,
     "metadata": {},
     "output_type": "execute_result"
    }
   ],
   "source": [
    "topics['topic_0'] = 'interpersonal_relationships_conversations' # venting and advice\n",
    "\n",
    "combined.sort_values(by='topic_1', ascending=False).head()['story_texts'].tolist()"
   ]
  },
  {
   "cell_type": "code",
   "execution_count": 42,
   "metadata": {
    "ExecuteTime": {
     "end_time": "2020-03-10T21:50:27.304693Z",
     "start_time": "2020-03-10T21:50:27.286330Z"
    }
   },
   "outputs": [
    {
     "data": {
      "text/plain": [
       "['Because ; 17; Idk; Good ',\n",
       " 'Hey; Who is this; Who is this; My ass; Good ; 💍',\n",
       " 'Idk; Idk; Idk; Idk; Idk; Good',\n",
       " 'I was 7 ; nothing; good; a girl ; umm',\n",
       " 'My room; 😂😂; Good ']"
      ]
     },
     "execution_count": 42,
     "metadata": {},
     "output_type": "execute_result"
    }
   ],
   "source": [
    "topics['topic_1'] = 'the word sex'\n",
    "combined.sort_values(by='topic_2', ascending=False).head()['story_texts'].tolist()"
   ]
  },
  {
   "cell_type": "code",
   "execution_count": 43,
   "metadata": {
    "ExecuteTime": {
     "end_time": "2020-03-10T21:50:27.329919Z",
     "start_time": "2020-03-10T21:50:27.312921Z"
    }
   },
   "outputs": [
    {
     "data": {
      "text/plain": [
       "[\"I first realized I was going through puberty when I started getting acne, at first I thought it was going to go away in a few weeks and I didn't care to wash my face because I didn't think to much of it.; I was about ten years old at the time, which was 5th grade for me. We were starting to watch puberty videos and learning about our health more around that time.; I could tell I was going through puberty because I had to get new bras and I started buying razors for the future and I was going through major mood swings. Pubic hair was starting to grow and my acne was getting worse.; I felt nervous, I didn't know when it would happen and I really didn't want to, but at the same time all my friends were bragging how they got their periods while I had still been waiting, which made me impatient. \",\n",
       " \"When I first got my period, I thought I was bleeding because something was wrong; But it turned out to be my period; My first official period started on the last day of school when I was in 6th grade ; I never had cramps the first couple of years of having my period, but when I got to high school, it started happening occasionally; Eventually I started to get bad cramps every time I have my period and now I'm 15 years old; I have to take pain medicine for my cramps\",\n",
       " 'I got my period at only 8 years old; Only one other girl Gabriella got her period at 8 years old; But it feels so Annoying ; My mother says it was because I was a Pre me and that’s why I get it so early; But I remember when I got my period in front of my friends at Summer Camp in 4th grade; It was so embarrassing ',\n",
       " 'I realized I was going through puberty when I started to get pubic hair ; I was about 9; I could tell I was going through puberty when I started developing breasts; It felt awkward ',\n",
       " 'I first realized I was going through puberty when I saw my first hair down there. At first I was thinking it was weird but I looked it up and saw it was normal.; I was about 9 3/4 when I realized that ; So after this experience I started realizing new things. First I realized my breasts started budding and poking through my shirts. My mom took me bra shopping a few days later. Next I started realizing creamy smelly stuff in my underwear aka discharge. More hair came and I started sweating more. Now though I still haven’t started my period I get a lot of discharge. So much that I need liners. I also get constant mood swings ang have a lot more hair.; I felt at first confused. But I latter knew what was happening because my mom bought me the American Girl How to Keep Care of You 2 which I strongly recommend. This book helped me and answered all of my questions. So now I am excited and actually anxious to get my period and feel like a woman ']"
      ]
     },
     "execution_count": 43,
     "metadata": {},
     "output_type": "execute_result"
    }
   ],
   "source": [
    "topics['topic_2'] = 'app_confusion'\n",
    "combined.sort_values(by='topic_3', ascending=False).head()['story_texts'].tolist()"
   ]
  },
  {
   "cell_type": "code",
   "execution_count": 44,
   "metadata": {
    "ExecuteTime": {
     "end_time": "2020-03-10T21:50:27.357017Z",
     "start_time": "2020-03-10T21:50:27.340147Z"
    },
    "scrolled": false
   },
   "outputs": [
    {
     "data": {
      "text/plain": [
       "['I was attracted to someone that I gotten the opportunity to know and after awhile of us being friends I realized that what I felt for them was bigger than what we were.; I think what I found myself attracted to most was the fact that they listened to me. They didn’t belittle how I felt or tell me I was being stupid for question things. They were patient and understanding, and the fact that they genuinely cared made me feel like I was worth something; even if it was just to them.; I never felt physical attraction to them. That always confused me at first, and I wasn’t sure if that was because I didn’t actually like them more than a friend or if I was just attracted to the characteristics that make them who they are; minus their physical appearance. Then, I researched and researched and found out that I’m asexual and the lack of sexual or physical attraction to them made sense.; People started to notice how I acted around them before they did. They would drop subtle hints or make jokes but they never picked up on it. Apart of me felt like that was an indirect rejection that they couldn’t see what was right in front of them. Yet, I was too nervous and insecure to approach them with the subject because I didn’t know where we would go from, if they accepted or rejected how I felt. ; People would make sexual comments around me after finding out I like him. It always made me feel more insecure because they weren’t ugly—there’s no way someone so beautiful on the inside could ever be ugly. Although, I never felt sexual or physical attracted to them regardless. No sexual urges occurred within my body when I was in their presence or felt turn on by things that an average person would find sexy 😶; I feel like my feelings are an inconvenience to them because if they do feel the same way what can I offer to them?',\n",
       " 'I felt really judged when someone I was talking to romantically asked me about my previous romantic experiences and responded condescendingly, belittling, and degradingly to my answer. The person who judged me was an acquaintance I had recently met.; I responded to their question of how experienced I was/how many people I had previously been romantically involved with, and the person made me feel lesser for the way that I responded, and it made me feel like I was inadequate.; The person was laughing and using words that were condescending.; I think they felt this way about me because I haven’t been romantically involved with a lot of people, while this person was rather experienced.; I felt really insecure about myself.; It made me feel better to talk to me friends about it.',\n",
       " 'My mother judged me when I told her that I was dropping a class that was on my premed track. I had to drop the class because it was no longer good for my mental health. I felt like I didn’t have time to breathe. She thought it was me giving up on my goals In life. She didn’t go to college so she doesn’t really understand how everything works. I had my brother explain it to her and now things are better. ; It made me feel like I was disappointing her but after conversing with my brother and father I realized that there are things that won’t align with other people’s goals for me and at the end of the day I need to do what is best for me at that point in time.  ; I felt like I was being judged because she legitimately told me that I was making a mistake and giving up.; Looking back I think she’s worried that I will get discouraged/distracted because she didn’t end up going to school and she really just wants the best for me. Since she doesn’t understand the school system I think she thinks this would put me behind or something. ; I felt hurt. I don’t like feeling like I’m failing people or disappointing them. ; Talking to my other family made me feel better. And not having to cry over that midterm made me feel extraordinary. ',\n",
       " 'I felt judged by my friends when I didn’t do well on a test. ; We were all taking a test in a class I was really struggling with. ; They made me feel bad for not understanding the material. ; They thought they were better than me and smarter than me because they understood the material. ; It made me feel sad because I know I am smart but they were making me feel like I wasn’t. ; After I talked to some of my other friends about it, they helped me with the class ',\n",
       " 'The people that I think judge me are my friends. ; I am 13 years old and still haven’t gotten my period when all of my friends have. I also haven’t gotten a boyfriend when all of my friends have. I feel different and judged. I am also white when all of my friends are either mixed, Mexican, or black. They judge me for being white and I feel so different from them. I always feel insecure around them too. I think that they feel like I am annoying and innocent and small when I’m just trying to be heard.; My friends sometimes make me feel like they don’t like me by never giving me any attention or including me in anything. They also never give me hugs willingly which sounds silly but I love hugs. ; I think they feel this way about me because I’m different from them. ; It’s wasn’t just one time either, it’s all the time.; I have a separate friend group from them. They make me feel accepted and loved even though I’m younger then them. I can’t even just drop my other friends because those friends go to my school and the nicer friends don’t. If I don’t have my school friends I will feel even more lonely and depressed and even more of a loser.']"
      ]
     },
     "execution_count": 44,
     "metadata": {},
     "output_type": "execute_result"
    }
   ],
   "source": [
    "topics['topic_3'] = 'puberty' # first period\n",
    "combined.sort_values(by='topic_4', ascending=False).head()['story_texts'].tolist()"
   ]
  },
  {
   "cell_type": "code",
   "execution_count": 45,
   "metadata": {
    "ExecuteTime": {
     "end_time": "2020-03-10T21:50:27.381049Z",
     "start_time": "2020-03-10T21:50:27.360258Z"
    }
   },
   "outputs": [
    {
     "data": {
      "text/plain": [
       "[\"No; 12; I don't know ; Good 🌟 😍🌞\",\n",
       " 'Why ; ???; I don’t know ; No; I don’t know ',\n",
       " 'I don’t know ; I don’t know ; I don’t know ; I don’t know ',\n",
       " 'I don’t know ; I don’t know ; I don’t know ; I would say I’m a female ; Girl',\n",
       " 'Hi; Who are you; Good; Well don’t know; Stop why do u want to know?']"
      ]
     },
     "execution_count": 45,
     "metadata": {},
     "output_type": "execute_result"
    }
   ],
   "source": [
    "topics['topic_4'] = 'feeling_judged' # social relationships\n",
    "combined.sort_values(by='topic_5', ascending=False).head()['story_texts'].tolist()"
   ]
  },
  {
   "cell_type": "code",
   "execution_count": 46,
   "metadata": {
    "ExecuteTime": {
     "end_time": "2020-03-10T21:50:27.403393Z",
     "start_time": "2020-03-10T21:50:27.386277Z"
    }
   },
   "outputs": [
    {
     "data": {
      "text/plain": [
       "['How old are you; 13; Why are you asking!; Idk',\n",
       " 'I didn’t, I didn’t even do anything; Nothing; I didn’t ask for consent; They said yes.; Confused. Because I didn’t ask for consent.; I didn’t ask for consent. I don’t even know what I am asking consent for.',\n",
       " 'So I had a huge crush on my (now) boyfriend I asked him out as a dare but he said no at first but we got closer and he asked me out 🙂; What; So I had a huge crush on my (now) boyfriend.I asked him out at first he said no.but we got closer and he asked me out.; He said no but then he asked me out; Happy; Really suppressed ',\n",
       " 'My girlfriend was the one asking for consent ; She asked if we were ok to kiss ; She got her friend to ask me ; I got a bonner and said it was ok ; We kissed in the end ; I felt happy and got a huge boner ',\n",
       " 'my best friend asked me for consent; i am currently in the closet as bisexual so she asked me for consent to talk to our friend group about me being queer; she texted me saying that my friend group thought i was gay (i only had come out to her) and she asked me if it was ok to tell them the truth; i didn’t like that my friends were talking about my sexuality without me however i was happy that my best friend asked me before spreading any rumors ; i said yes and she video-called me so i can come out to them face-to-face; i felt glad that i can trust my friend to keep my secrets ']"
      ]
     },
     "execution_count": 46,
     "metadata": {},
     "output_type": "execute_result"
    }
   ],
   "source": [
    "topics['topic_5'] = 'i_dont_know'\n",
    "combined.sort_values(by='topic_6', ascending=False).head()['story_texts'].tolist()"
   ]
  },
  {
   "cell_type": "code",
   "execution_count": 47,
   "metadata": {
    "ExecuteTime": {
     "end_time": "2020-03-10T21:50:27.417838Z",
     "start_time": "2020-03-10T21:50:27.406564Z"
    }
   },
   "outputs": [
    {
     "data": {
      "text/plain": [
       "[\"Hi; Girl ; I'm ok x; How old are ix; U\",\n",
       " '9; Because I liked this girl in my school ; Ok; I’m straight ; Like a girl ',\n",
       " 'I was born a girl man ; Nothing I was born a girl man; I am a girl ; I am a girl and I was born a girl use your noggin ayy ; I am a girl and I dress like a girl thank you next',\n",
       " \"I questioned my gender identity at 11. i was born a girl some times I wish I was a boy but I'm a girl😔; What made me question my gender was that being a girl is harder then being a boy. Theres so much girlS have to do that boys don't       ; I felt mad and depressed I hated life and I still hate It  ; I identify as a girl. I was born a girl I'm still a girl now ; I don't know what I look like or dress or act\",\n",
       " '26; I.... i..... likes basketball 🥴; Good because I am a girl and I feel like it and I always have been.🤗; Girl. DURH; Nothing I am a girl']"
      ]
     },
     "execution_count": 47,
     "metadata": {},
     "output_type": "execute_result"
    }
   ],
   "source": [
    "topics['topic_6'] = 'consent_and_sex'\n",
    "combined.sort_values(by='topic_7', ascending=False).head()['story_texts'].tolist()"
   ]
  },
  {
   "cell_type": "code",
   "execution_count": 48,
   "metadata": {
    "ExecuteTime": {
     "end_time": "2020-03-10T21:50:27.438821Z",
     "start_time": "2020-03-10T21:50:27.422089Z"
    }
   },
   "outputs": [
    {
     "data": {
      "text/plain": [
       "[\"So I had this boyfriend. I started dating him in October and he broke up with me in may. I was kinda fine with it like we were falling out; So then in October of the next year we started doing cross country together again and he started regretting breaking up with me; So then he was talking to my best friend about how he liked me and he kept trying to FaceTime me; And then he started dating my enemy who is my best friend's other best friend; And I like his best friend and he found out some how. But the guy I like doesn’t even know me but damnnnnn he’s so hot.\",\n",
       " 'So I really like this guy and he really likes me, but he wants to date me and I’m not ready.; But I’m not sure if it’s because I’m not ready or if it’s because my best friend who also likes this guy isn’t ready; She never likes talking about him, and is jealous, but she’s such a good friend; I just don’t know if I should date him, or listen to my bestie and just be his friend',\n",
       " \"So I had this boyfriend. I started dating him in October and he broke up with me in May. I was kinda fine with it - like we were falling out.; So then in October of the next year we started doing XC together again and he started regretting breaking up with me; So then he was talking to my best friend about how he liked me and he kept trying to FaceTime me. And then he started dating my enemy who is my best friend's other best friend; . And then he started dating my enemy who is my best friend's other best friend. And I like his best friend and he found out some how. But the guy I like doesn’t even know me but damnnnnn he’s so hot.\",\n",
       " 'There was this boy, and we both knew that I liked him and he liked me. ; We started spending time together during school and people started shipping us, so we started dating.; I told them that I would be interested in dating him.; They reacted well and said that they would like to date me too.; It was a healthy reaction and we had a healthy relationship for a few months before breaking up.',\n",
       " 'When I was in 7th grade I met this guy Bob. We first met when we were in band class together.; And one day my friend said \"An 8th grader likes you!\" I was thinking it was the guy and he said \"yes\".; So later I was talking to Bob and he said \"I really like you but I have a girlfriend.\" I stopped talking to him after that. ; 3 months go by and they break up so we start talking. Next year he went to highschool and I was in middle school still.; We were on and off talked but I \"loved\" him.; So I get o high school and we start talking again. Then we finally go out after 3 years... only for it to end in 4 days!']"
      ]
     },
     "execution_count": 48,
     "metadata": {},
     "output_type": "execute_result"
    }
   ],
   "source": [
    "topics['topic_7'] = 'being_a_girl'\n",
    "combined.sort_values(by='topic_8', ascending=False).head()['story_texts'].tolist()"
   ]
  },
  {
   "cell_type": "code",
   "execution_count": 49,
   "metadata": {
    "ExecuteTime": {
     "end_time": "2020-03-10T21:50:27.454819Z",
     "start_time": "2020-03-10T21:50:27.442264Z"
    }
   },
   "outputs": [],
   "source": [
    "topics['topic_8'] = 'dating_and_relationships'\n",
    "\n",
    "# renaming the columns to make more intuitive sense \n",
    "combined.rename(columns=topics, inplace=True)"
   ]
  },
  {
   "cell_type": "markdown",
   "metadata": {},
   "source": [
    "## Recommending similar stories based on their topic modeling scores\n",
    "\n",
    "Now that we have different features to compare the stories along different dimensions, can we generate recommendations based on how similar stories are to each other?"
   ]
  },
  {
   "cell_type": "code",
   "execution_count": 50,
   "metadata": {
    "ExecuteTime": {
     "end_time": "2020-03-10T21:50:27.768005Z",
     "start_time": "2020-03-10T21:50:27.461352Z"
    }
   },
   "outputs": [],
   "source": [
    "cosine_scores = cosine_similarity(tfidf_nmf_data, tfidf_nmf_data)\n",
    "\n",
    "# have to get the second most similar since the most similar would be with itself and we dont want that lol\n",
    "combined['most_similar_index'] = cosine_scores.argsort()[:, -2] \n",
    "# combined.head()"
   ]
  },
  {
   "cell_type": "code",
   "execution_count": 51,
   "metadata": {
    "ExecuteTime": {
     "end_time": "2020-03-10T21:50:27.802671Z",
     "start_time": "2020-03-10T21:50:27.787066Z"
    }
   },
   "outputs": [],
   "source": [
    "# wow a self join have the most similar story in the same row to make it easier to compare\n",
    "self_joined = pd.merge(combined, combined['story_texts'], left_on='most_similar_index', right_index=True)"
   ]
  },
  {
   "cell_type": "code",
   "execution_count": 52,
   "metadata": {
    "ExecuteTime": {
     "end_time": "2020-03-10T21:50:28.173131Z",
     "start_time": "2020-03-10T21:50:27.822944Z"
    }
   },
   "outputs": [
    {
     "data": {
      "image/png": "[encoded data removed]",
      "text/plain": [
       "<Figure size 432x288 with 1 Axes>"
      ]
     },
     "metadata": {
      "needs_background": "light"
     },
     "output_type": "display_data"
    }
   ],
   "source": [
    "# there are a few stories that are deemed to be most similar to lots of other stories\n",
    "sns.distplot(combined.most_similar_index.value_counts());"
   ]
  },
  {
   "cell_type": "code",
   "execution_count": 53,
   "metadata": {
    "ExecuteTime": {
     "end_time": "2020-03-10T21:50:28.408895Z",
     "start_time": "2020-03-10T21:50:28.178808Z"
    }
   },
   "outputs": [
    {
     "data": {
      "text/html": [
       "<div>\n",
       "<style scoped>\n",
       "    .dataframe tbody tr th:only-of-type {\n",
       "        vertical-align: middle;\n",
       "    }\n",
       "\n",
       "    .dataframe tbody tr th {\n",
       "        vertical-align: top;\n",
       "    }\n",
       "\n",
       "    .dataframe thead th {\n",
       "        text-align: right;\n",
       "    }\n",
       "</style>\n",
       "<table border=\"1\" class=\"dataframe\">\n",
       "  <thead>\n",
       "    <tr style=\"text-align: right;\">\n",
       "      <th></th>\n",
       "      <th>story_id</th>\n",
       "      <th>perspective</th>\n",
       "      <th>age</th>\n",
       "      <th>lgbtq</th>\n",
       "      <th>race</th>\n",
       "      <th>topic</th>\n",
       "      <th>published_at</th>\n",
       "      <th>story_texts_x</th>\n",
       "      <th>cleaned</th>\n",
       "      <th>pos_tagged</th>\n",
       "      <th>...</th>\n",
       "      <th>app_confusion</th>\n",
       "      <th>puberty</th>\n",
       "      <th>feeling_judged</th>\n",
       "      <th>i_dont_know</th>\n",
       "      <th>consent_and_sex</th>\n",
       "      <th>being_a_girl</th>\n",
       "      <th>dating_and_relationships</th>\n",
       "      <th>max_topic</th>\n",
       "      <th>most_similar_index</th>\n",
       "      <th>story_texts_y</th>\n",
       "    </tr>\n",
       "  </thead>\n",
       "  <tbody>\n",
       "    <tr>\n",
       "      <th>139</th>\n",
       "      <td>2123</td>\n",
       "      <td>female</td>\n",
       "      <td>19.0</td>\n",
       "      <td>no</td>\n",
       "      <td>latinx</td>\n",
       "      <td>bullying</td>\n",
       "      <td>2020-02-10 00:00:00 UTC</td>\n",
       "      <td>The person that judged me was a girl that I di...</td>\n",
       "      <td>The person that judged me was a girl that I di...</td>\n",
       "      <td>[(The, DT), (person, NN), (that, WDT), (judged...</td>\n",
       "      <td>...</td>\n",
       "      <td>0.000000</td>\n",
       "      <td>0.000000</td>\n",
       "      <td>0.110474</td>\n",
       "      <td>0.000000</td>\n",
       "      <td>0.033840</td>\n",
       "      <td>0.033476</td>\n",
       "      <td>0.000000</td>\n",
       "      <td>4</td>\n",
       "      <td>801</td>\n",
       "      <td>My fiend was spreading rumors about me being l...</td>\n",
       "    </tr>\n",
       "    <tr>\n",
       "      <th>1082</th>\n",
       "      <td>1021</td>\n",
       "      <td>female</td>\n",
       "      <td>18.0</td>\n",
       "      <td>yes</td>\n",
       "      <td>black</td>\n",
       "      <td>relationships</td>\n",
       "      <td>2019-09-14 00:00:00 UTC</td>\n",
       "      <td>I came out to my mom; If I get married I want ...</td>\n",
       "      <td>I came out to my mom If I get married I want h...</td>\n",
       "      <td>[(I, PRP), (came, VBD), (out, RB), (to, TO), (...</td>\n",
       "      <td>...</td>\n",
       "      <td>0.001791</td>\n",
       "      <td>0.045776</td>\n",
       "      <td>0.007663</td>\n",
       "      <td>0.004353</td>\n",
       "      <td>0.028407</td>\n",
       "      <td>0.000000</td>\n",
       "      <td>0.021749</td>\n",
       "      <td>3</td>\n",
       "      <td>461</td>\n",
       "      <td>I was walking on the streets with my mom; When...</td>\n",
       "    </tr>\n",
       "    <tr>\n",
       "      <th>1963</th>\n",
       "      <td>57</td>\n",
       "      <td>other</td>\n",
       "      <td>NaN</td>\n",
       "      <td>NaN</td>\n",
       "      <td>NaN</td>\n",
       "      <td>relationships</td>\n",
       "      <td>2017-09-30 00:00:00 UTC</td>\n",
       "      <td>My best friend is a pansexual gender fluid and...</td>\n",
       "      <td>My best friend is a pansexual gender fluid and...</td>\n",
       "      <td>[(My, PRP$), (best, JJS), (friend, NN), (is, V...</td>\n",
       "      <td>...</td>\n",
       "      <td>0.002544</td>\n",
       "      <td>0.000000</td>\n",
       "      <td>0.043333</td>\n",
       "      <td>0.067388</td>\n",
       "      <td>0.009000</td>\n",
       "      <td>0.003101</td>\n",
       "      <td>0.053182</td>\n",
       "      <td>5</td>\n",
       "      <td>1794</td>\n",
       "      <td>I feel like I'm falling in love with my best f...</td>\n",
       "    </tr>\n",
       "    <tr>\n",
       "      <th>1033</th>\n",
       "      <td>1072</td>\n",
       "      <td>female</td>\n",
       "      <td>13.0</td>\n",
       "      <td>no</td>\n",
       "      <td>white</td>\n",
       "      <td>relationships</td>\n",
       "      <td>2019-03-03 00:00:00 UTC</td>\n",
       "      <td>Omg so this one guy I was talking to on Snapch...</td>\n",
       "      <td>Omg so this one guy I was talking to on Snapch...</td>\n",
       "      <td>[(Omg, NNP), (so, RB), (this, DT), (one, CD), ...</td>\n",
       "      <td>...</td>\n",
       "      <td>0.000000</td>\n",
       "      <td>0.003277</td>\n",
       "      <td>0.015797</td>\n",
       "      <td>0.000000</td>\n",
       "      <td>0.104116</td>\n",
       "      <td>0.000000</td>\n",
       "      <td>0.042309</td>\n",
       "      <td>6</td>\n",
       "      <td>1829</td>\n",
       "      <td>My ex-boyfriend never actually asked me out; I...</td>\n",
       "    </tr>\n",
       "    <tr>\n",
       "      <th>1700</th>\n",
       "      <td>322</td>\n",
       "      <td>female</td>\n",
       "      <td>NaN</td>\n",
       "      <td>NaN</td>\n",
       "      <td>NaN</td>\n",
       "      <td>relationships</td>\n",
       "      <td>2019-09-30 00:00:00 UTC</td>\n",
       "      <td>Ok..... so literally this guy is PERFECT; We w...</td>\n",
       "      <td>Ok so literally this guy is PERFECT We went on...</td>\n",
       "      <td>[(Ok, NNP), (so, RB), (literally, RB), (this, ...</td>\n",
       "      <td>...</td>\n",
       "      <td>0.000663</td>\n",
       "      <td>0.000000</td>\n",
       "      <td>0.000000</td>\n",
       "      <td>0.025119</td>\n",
       "      <td>0.000000</td>\n",
       "      <td>0.000000</td>\n",
       "      <td>0.073542</td>\n",
       "      <td>8</td>\n",
       "      <td>1715</td>\n",
       "      <td>I had a thing with this guy and so did my frie...</td>\n",
       "    </tr>\n",
       "    <tr>\n",
       "      <th>1735</th>\n",
       "      <td>287</td>\n",
       "      <td>female</td>\n",
       "      <td>NaN</td>\n",
       "      <td>NaN</td>\n",
       "      <td>NaN</td>\n",
       "      <td>puberty</td>\n",
       "      <td>2019-03-06 00:00:00 UTC</td>\n",
       "      <td>I turn 14 in march and I still haven't started...</td>\n",
       "      <td>I turn 14 in march and I still havent started ...</td>\n",
       "      <td>[(I, PRP), (turn, VBP), (14, CD), (in, IN), (m...</td>\n",
       "      <td>...</td>\n",
       "      <td>0.000000</td>\n",
       "      <td>0.081647</td>\n",
       "      <td>0.000000</td>\n",
       "      <td>0.000000</td>\n",
       "      <td>0.000000</td>\n",
       "      <td>0.000000</td>\n",
       "      <td>0.027400</td>\n",
       "      <td>3</td>\n",
       "      <td>1636</td>\n",
       "      <td>I hate having pubic hair sm!; When I touch my ...</td>\n",
       "    </tr>\n",
       "    <tr>\n",
       "      <th>1577</th>\n",
       "      <td>445</td>\n",
       "      <td>female</td>\n",
       "      <td>NaN</td>\n",
       "      <td>NaN</td>\n",
       "      <td>NaN</td>\n",
       "      <td>puberty</td>\n",
       "      <td>2019-09-11 00:00:00 UTC</td>\n",
       "      <td>When I started puberty I felt sooo awkward lik...</td>\n",
       "      <td>When I started puberty I felt sooo awkward lik...</td>\n",
       "      <td>[(When, WRB), (I, PRP), (started, VBD), (puber...</td>\n",
       "      <td>...</td>\n",
       "      <td>0.000009</td>\n",
       "      <td>0.066827</td>\n",
       "      <td>0.037579</td>\n",
       "      <td>0.000000</td>\n",
       "      <td>0.000000</td>\n",
       "      <td>0.000000</td>\n",
       "      <td>0.018402</td>\n",
       "      <td>3</td>\n",
       "      <td>1840</td>\n",
       "      <td>Every time I go to the gymnasium we do fun thi...</td>\n",
       "    </tr>\n",
       "    <tr>\n",
       "      <th>1889</th>\n",
       "      <td>131</td>\n",
       "      <td>female</td>\n",
       "      <td>NaN</td>\n",
       "      <td>NaN</td>\n",
       "      <td>NaN</td>\n",
       "      <td>relationships</td>\n",
       "      <td>2018-11-24 00:00:00 UTC</td>\n",
       "      <td>I once liked a girl that was really pretty and...</td>\n",
       "      <td>I once liked a girl that was really pretty and...</td>\n",
       "      <td>[(I, PRP), (once, RB), (liked, VBD), (a, DT), ...</td>\n",
       "      <td>...</td>\n",
       "      <td>0.000000</td>\n",
       "      <td>0.000000</td>\n",
       "      <td>0.021960</td>\n",
       "      <td>0.000000</td>\n",
       "      <td>0.000000</td>\n",
       "      <td>0.095166</td>\n",
       "      <td>0.062605</td>\n",
       "      <td>7</td>\n",
       "      <td>1962</td>\n",
       "      <td>Disney is fake; I watched twilight and I thot ...</td>\n",
       "    </tr>\n",
       "    <tr>\n",
       "      <th>314</th>\n",
       "      <td>1911</td>\n",
       "      <td>female</td>\n",
       "      <td>19.0</td>\n",
       "      <td>no</td>\n",
       "      <td>black</td>\n",
       "      <td>bullying</td>\n",
       "      <td>2020-02-13 00:00:00 UTC</td>\n",
       "      <td>They didn’t say it to my face but when we were...</td>\n",
       "      <td>They didnt say it to my face but when we were ...</td>\n",
       "      <td>[(They, PRP), (didnt, VBP), (say, VBP), (it, P...</td>\n",
       "      <td>...</td>\n",
       "      <td>0.000000</td>\n",
       "      <td>0.045956</td>\n",
       "      <td>0.019579</td>\n",
       "      <td>0.000000</td>\n",
       "      <td>0.011504</td>\n",
       "      <td>0.000600</td>\n",
       "      <td>0.000000</td>\n",
       "      <td>3</td>\n",
       "      <td>1468</td>\n",
       "      <td>I first realised when i was nine is that bad I...</td>\n",
       "    </tr>\n",
       "    <tr>\n",
       "      <th>1423</th>\n",
       "      <td>641</td>\n",
       "      <td>female</td>\n",
       "      <td>14.0</td>\n",
       "      <td>no</td>\n",
       "      <td>white</td>\n",
       "      <td>relationships</td>\n",
       "      <td>2019-10-14 00:00:00 UTC</td>\n",
       "      <td>I liked a boy as a friend but he liked me more...</td>\n",
       "      <td>I liked a boy as a friend but he liked me more...</td>\n",
       "      <td>[(I, PRP), (liked, VBD), (a, DT), (boy, NN), (...</td>\n",
       "      <td>...</td>\n",
       "      <td>0.000000</td>\n",
       "      <td>0.010161</td>\n",
       "      <td>0.029219</td>\n",
       "      <td>0.000000</td>\n",
       "      <td>0.050864</td>\n",
       "      <td>0.020845</td>\n",
       "      <td>0.055105</td>\n",
       "      <td>8</td>\n",
       "      <td>325</td>\n",
       "      <td>my ex boyfriend ; for physical contact and cud...</td>\n",
       "    </tr>\n",
       "  </tbody>\n",
       "</table>\n",
       "<p>10 rows × 23 columns</p>\n",
       "</div>"
      ],
      "text/plain": [
       "      story_id perspective   age lgbtq    race          topic  \\\n",
       "139       2123      female  19.0    no  latinx       bullying   \n",
       "1082      1021      female  18.0   yes   black  relationships   \n",
       "1963        57       other   NaN   NaN     NaN  relationships   \n",
       "1033      1072      female  13.0    no   white  relationships   \n",
       "1700       322      female   NaN   NaN     NaN  relationships   \n",
       "1735       287      female   NaN   NaN     NaN        puberty   \n",
       "1577       445      female   NaN   NaN     NaN        puberty   \n",
       "1889       131      female   NaN   NaN     NaN  relationships   \n",
       "314       1911      female  19.0    no   black       bullying   \n",
       "1423       641      female  14.0    no   white  relationships   \n",
       "\n",
       "                 published_at  \\\n",
       "139   2020-02-10 00:00:00 UTC   \n",
       "1082  2019-09-14 00:00:00 UTC   \n",
       "1963  2017-09-30 00:00:00 UTC   \n",
       "1033  2019-03-03 00:00:00 UTC   \n",
       "1700  2019-09-30 00:00:00 UTC   \n",
       "1735  2019-03-06 00:00:00 UTC   \n",
       "1577  2019-09-11 00:00:00 UTC   \n",
       "1889  2018-11-24 00:00:00 UTC   \n",
       "314   2020-02-13 00:00:00 UTC   \n",
       "1423  2019-10-14 00:00:00 UTC   \n",
       "\n",
       "                                          story_texts_x  \\\n",
       "139   The person that judged me was a girl that I di...   \n",
       "1082  I came out to my mom; If I get married I want ...   \n",
       "1963  My best friend is a pansexual gender fluid and...   \n",
       "1033  Omg so this one guy I was talking to on Snapch...   \n",
       "1700  Ok..... so literally this guy is PERFECT; We w...   \n",
       "1735  I turn 14 in march and I still haven't started...   \n",
       "1577  When I started puberty I felt sooo awkward lik...   \n",
       "1889  I once liked a girl that was really pretty and...   \n",
       "314   They didn’t say it to my face but when we were...   \n",
       "1423  I liked a boy as a friend but he liked me more...   \n",
       "\n",
       "                                                cleaned  \\\n",
       "139   The person that judged me was a girl that I di...   \n",
       "1082  I came out to my mom If I get married I want h...   \n",
       "1963  My best friend is a pansexual gender fluid and...   \n",
       "1033  Omg so this one guy I was talking to on Snapch...   \n",
       "1700  Ok so literally this guy is PERFECT We went on...   \n",
       "1735  I turn 14 in march and I still havent started ...   \n",
       "1577  When I started puberty I felt sooo awkward lik...   \n",
       "1889  I once liked a girl that was really pretty and...   \n",
       "314   They didnt say it to my face but when we were ...   \n",
       "1423  I liked a boy as a friend but he liked me more...   \n",
       "\n",
       "                                             pos_tagged  ... app_confusion  \\\n",
       "139   [(The, DT), (person, NN), (that, WDT), (judged...  ...      0.000000   \n",
       "1082  [(I, PRP), (came, VBD), (out, RB), (to, TO), (...  ...      0.001791   \n",
       "1963  [(My, PRP$), (best, JJS), (friend, NN), (is, V...  ...      0.002544   \n",
       "1033  [(Omg, NNP), (so, RB), (this, DT), (one, CD), ...  ...      0.000000   \n",
       "1700  [(Ok, NNP), (so, RB), (literally, RB), (this, ...  ...      0.000663   \n",
       "1735  [(I, PRP), (turn, VBP), (14, CD), (in, IN), (m...  ...      0.000000   \n",
       "1577  [(When, WRB), (I, PRP), (started, VBD), (puber...  ...      0.000009   \n",
       "1889  [(I, PRP), (once, RB), (liked, VBD), (a, DT), ...  ...      0.000000   \n",
       "314   [(They, PRP), (didnt, VBP), (say, VBP), (it, P...  ...      0.000000   \n",
       "1423  [(I, PRP), (liked, VBD), (a, DT), (boy, NN), (...  ...      0.000000   \n",
       "\n",
       "       puberty  feeling_judged  i_dont_know  consent_and_sex  being_a_girl  \\\n",
       "139   0.000000        0.110474     0.000000         0.033840      0.033476   \n",
       "1082  0.045776        0.007663     0.004353         0.028407      0.000000   \n",
       "1963  0.000000        0.043333     0.067388         0.009000      0.003101   \n",
       "1033  0.003277        0.015797     0.000000         0.104116      0.000000   \n",
       "1700  0.000000        0.000000     0.025119         0.000000      0.000000   \n",
       "1735  0.081647        0.000000     0.000000         0.000000      0.000000   \n",
       "1577  0.066827        0.037579     0.000000         0.000000      0.000000   \n",
       "1889  0.000000        0.021960     0.000000         0.000000      0.095166   \n",
       "314   0.045956        0.019579     0.000000         0.011504      0.000600   \n",
       "1423  0.010161        0.029219     0.000000         0.050864      0.020845   \n",
       "\n",
       "      dating_and_relationships  max_topic  most_similar_index  \\\n",
       "139                   0.000000          4                 801   \n",
       "1082                  0.021749          3                 461   \n",
       "1963                  0.053182          5                1794   \n",
       "1033                  0.042309          6                1829   \n",
       "1700                  0.073542          8                1715   \n",
       "1735                  0.027400          3                1636   \n",
       "1577                  0.018402          3                1840   \n",
       "1889                  0.062605          7                1962   \n",
       "314                   0.000000          3                1468   \n",
       "1423                  0.055105          8                 325   \n",
       "\n",
       "                                          story_texts_y  \n",
       "139   My fiend was spreading rumors about me being l...  \n",
       "1082  I was walking on the streets with my mom; When...  \n",
       "1963  I feel like I'm falling in love with my best f...  \n",
       "1033  My ex-boyfriend never actually asked me out; I...  \n",
       "1700  I had a thing with this guy and so did my frie...  \n",
       "1735  I hate having pubic hair sm!; When I touch my ...  \n",
       "1577  Every time I go to the gymnasium we do fun thi...  \n",
       "1889  Disney is fake; I watched twilight and I thot ...  \n",
       "314   I first realised when i was nine is that bad I...  \n",
       "1423  my ex boyfriend ; for physical contact and cud...  \n",
       "\n",
       "[10 rows x 23 columns]"
      ]
     },
     "execution_count": 53,
     "metadata": {},
     "output_type": "execute_result"
    }
   ],
   "source": [
    "random_sample = self_joined[~self_joined.published_at.isna()].sample(n=10\n",
    "                   , random_state=random_state)\n",
    "random_sample"
   ]
  },
  {
   "cell_type": "code",
   "execution_count": 54,
   "metadata": {
    "ExecuteTime": {
     "end_time": "2020-03-10T21:50:28.439239Z",
     "start_time": "2020-03-10T21:50:28.417996Z"
    }
   },
   "outputs": [
    {
     "data": {
      "text/plain": [
       "array([['The person that judged me was a girl that I didn’t know very well at the time. ; I was going to recruitment of joining a sorority and we were having a conversation.; The questions I was being asked were not completely indicative of who I am as a person but rather of superficial aspects. ; We weren’t connecting about many things so it felt that she was looking down on me for being different. ; I felt sad and embarrased. ; It made me feel better to remind myself that being different is a good thing. ',\n",
       "        'My fiend was spreading rumors about me being lesbian; The fact that she said it in such a way made me feel derogatory ; They thought I was weird ; I felt upset and betrayed ; Later they said it was a joke and shut the rumors down; She was one of my best friends, still is']],\n",
       "      dtype=object)"
      ]
     },
     "execution_count": 54,
     "metadata": {},
     "output_type": "execute_result"
    }
   ],
   "source": [
    "# checking a recommended story\n",
    "random_sample[['story_texts_x', 'story_texts_y']].head(1).values"
   ]
  },
  {
   "cell_type": "markdown",
   "metadata": {},
   "source": [
    "## Are there patterns with these topics?"
   ]
  },
  {
   "cell_type": "code",
   "execution_count": null,
   "metadata": {
    "ExecuteTime": {
     "start_time": "2020-03-10T21:50:18.218Z"
    }
   },
   "outputs": [],
   "source": [
    "# correlation with different topics in the docs\n",
    "sns.pairplot(data=tfidf_nmf_df)"
   ]
  },
  {
   "cell_type": "markdown",
   "metadata": {},
   "source": [
    "There seems to be some correlation between topic 7 with topic 2, and topic 2 with topic 8. It would be interesting to see why"
   ]
  },
  {
   "cell_type": "code",
   "execution_count": null,
   "metadata": {
    "ExecuteTime": {
     "end_time": "2020-03-10T00:36:38.122560Z",
     "start_time": "2020-03-10T00:36:37.640246Z"
    }
   },
   "outputs": [],
   "source": [
    "sns.catplot(x='crushes_on_guys', y='perspective', kind='box', data=combined)"
   ]
  },
  {
   "cell_type": "code",
   "execution_count": null,
   "metadata": {
    "ExecuteTime": {
     "end_time": "2020-03-10T00:37:44.746464Z",
     "start_time": "2020-03-10T00:37:44.419171Z"
    }
   },
   "outputs": [],
   "source": [
    "sns.catplot(x='crushes_on_guys', y='topic', kind='box', data=combined) \n",
    "# proves that there are better ways to categorize stories"
   ]
  },
  {
   "cell_type": "code",
   "execution_count": null,
   "metadata": {
    "ExecuteTime": {
     "end_time": "2020-03-10T00:38:37.097444Z",
     "start_time": "2020-03-10T00:38:36.789714Z"
    }
   },
   "outputs": [],
   "source": [
    "sns.catplot(x='crushes_on_guys', y='lgbtq', kind='box', data=combined) "
   ]
  },
  {
   "cell_type": "code",
   "execution_count": null,
   "metadata": {
    "ExecuteTime": {
     "end_time": "2020-03-10T00:44:56.641579Z",
     "start_time": "2020-03-10T00:44:56.358734Z"
    }
   },
   "outputs": [],
   "source": [
    "# are kids talking about sex more than any other topic?\n",
    "# i dont think scatter plot is the best way to visualize this interaction....\n",
    "sns.scatterplot(x='age', y='sex', data=combined[combined.age<100]) # removed the obvious bad answers"
   ]
  },
  {
   "cell_type": "code",
   "execution_count": null,
   "metadata": {
    "ExecuteTime": {
     "end_time": "2020-03-10T00:45:47.929543Z",
     "start_time": "2020-03-10T00:45:47.625527Z"
    }
   },
   "outputs": [],
   "source": [
    "sns.scatterplot(x='age', y='female_sexuality', data=combined[combined.age<100])"
   ]
  },
  {
   "cell_type": "code",
   "execution_count": null,
   "metadata": {
    "ExecuteTime": {
     "end_time": "2020-03-10T02:17:24.339337Z",
     "start_time": "2020-03-10T02:17:24.319826Z"
    }
   },
   "outputs": [],
   "source": [
    "topics.values()"
   ]
  },
  {
   "cell_type": "code",
   "execution_count": null,
   "metadata": {
    "ExecuteTime": {
     "end_time": "2020-03-10T02:17:37.345445Z",
     "start_time": "2020-03-10T02:17:37.034153Z"
    }
   },
   "outputs": [],
   "source": [
    "sns.scatterplot(x='age', y='social_situations_at_school', data=combined[combined.age<100])"
   ]
  },
  {
   "cell_type": "code",
   "execution_count": null,
   "metadata": {
    "ExecuteTime": {
     "end_time": "2020-03-10T02:17:55.817915Z",
     "start_time": "2020-03-10T02:17:55.518372Z"
    }
   },
   "outputs": [],
   "source": [
    "sns.scatterplot(x='age', y='puberty_first_period', data=combined[combined.age<100])"
   ]
  },
  {
   "cell_type": "code",
   "execution_count": null,
   "metadata": {
    "ExecuteTime": {
     "end_time": "2020-03-10T02:17:11.364345Z",
     "start_time": "2020-03-10T02:17:11.031198Z"
    }
   },
   "outputs": [],
   "source": [
    "sns.scatterplot(x='age', y='crushes_on_guys', data=combined[combined.age<100])"
   ]
  },
  {
   "cell_type": "code",
   "execution_count": null,
   "metadata": {
    "ExecuteTime": {
     "end_time": "2020-03-10T00:33:17.369617Z",
     "start_time": "2020-03-10T00:33:17.350353Z"
    },
    "scrolled": true
   },
   "outputs": [],
   "source": [
    "combined.info()"
   ]
  },
  {
   "cell_type": "code",
   "execution_count": null,
   "metadata": {
    "ExecuteTime": {
     "end_time": "2020-03-10T00:33:01.239431Z",
     "start_time": "2020-03-10T00:33:01.003381Z"
    }
   },
   "outputs": [],
   "source": [
    "sns.boxplot(combined.age)"
   ]
  },
  {
   "cell_type": "code",
   "execution_count": null,
   "metadata": {
    "ExecuteTime": {
     "end_time": "2020-03-09T21:44:00.564689Z",
     "start_time": "2020-03-09T21:44:00.546490Z"
    }
   },
   "outputs": [],
   "source": [
    "combined.iloc[0]"
   ]
  },
  {
   "cell_type": "code",
   "execution_count": null,
   "metadata": {
    "ExecuteTime": {
     "end_time": "2020-03-09T21:44:10.778824Z",
     "start_time": "2020-03-09T21:44:10.760233Z"
    }
   },
   "outputs": [],
   "source": [
    "combined.iloc[156]"
   ]
  },
  {
   "cell_type": "code",
   "execution_count": null,
   "metadata": {
    "ExecuteTime": {
     "end_time": "2020-03-09T21:44:38.559872Z",
     "start_time": "2020-03-09T21:44:38.545830Z"
    }
   },
   "outputs": [],
   "source": [
    "combined.iloc[2012]"
   ]
  },
  {
   "cell_type": "code",
   "execution_count": null,
   "metadata": {
    "ExecuteTime": {
     "end_time": "2020-03-09T21:46:39.561264Z",
     "start_time": "2020-03-09T21:46:39.544635Z"
    }
   },
   "outputs": [],
   "source": [
    "combined.iloc[1577]"
   ]
  },
  {
   "cell_type": "code",
   "execution_count": null,
   "metadata": {},
   "outputs": [],
   "source": []
  },
  {
   "cell_type": "code",
   "execution_count": null,
   "metadata": {},
   "outputs": [],
   "source": []
  },
  {
   "cell_type": "code",
   "execution_count": null,
   "metadata": {},
   "outputs": [],
   "source": []
  },
  {
   "cell_type": "code",
   "execution_count": null,
   "metadata": {},
   "outputs": [],
   "source": []
  },
  {
   "cell_type": "code",
   "execution_count": null,
   "metadata": {},
   "outputs": [],
   "source": []
  },
  {
   "cell_type": "code",
   "execution_count": null,
   "metadata": {},
   "outputs": [],
   "source": []
  },
  {
   "cell_type": "code",
   "execution_count": null,
   "metadata": {},
   "outputs": [],
   "source": []
  },
  {
   "cell_type": "code",
   "execution_count": null,
   "metadata": {},
   "outputs": [],
   "source": []
  },
  {
   "cell_type": "code",
   "execution_count": null,
   "metadata": {},
   "outputs": [],
   "source": []
  },
  {
   "cell_type": "code",
   "execution_count": null,
   "metadata": {
    "ExecuteTime": {
     "end_time": "2020-03-09T21:44:27.579486Z",
     "start_time": "2020-03-09T21:44:27.568255Z"
    }
   },
   "outputs": [],
   "source": [
    "combined.shape"
   ]
  },
  {
   "cell_type": "code",
   "execution_count": null,
   "metadata": {
    "ExecuteTime": {
     "end_time": "2020-03-09T21:39:07.389600Z",
     "start_time": "2020-03-09T21:39:07.369462Z"
    }
   },
   "outputs": [],
   "source": [
    "combined.iloc[0]"
   ]
  },
  {
   "cell_type": "code",
   "execution_count": null,
   "metadata": {},
   "outputs": [],
   "source": []
  },
  {
   "cell_type": "code",
   "execution_count": null,
   "metadata": {
    "ExecuteTime": {
     "end_time": "2020-03-09T03:10:32.171017Z",
     "start_time": "2020-03-09T03:10:32.164605Z"
    }
   },
   "outputs": [],
   "source": [
    "from sklearn.manifold import TSNE"
   ]
  },
  {
   "cell_type": "code",
   "execution_count": null,
   "metadata": {
    "ExecuteTime": {
     "end_time": "2020-03-09T03:34:08.401616Z",
     "start_time": "2020-03-09T03:34:08.369251Z"
    }
   },
   "outputs": [],
   "source": [
    "tsne = TSNE(n_components=2\n",
    "            , verbose=1\n",
    "            , perplexity=500\n",
    "            , n_iter=400\n",
    "            , random_state=random_state)"
   ]
  },
  {
   "cell_type": "code",
   "execution_count": null,
   "metadata": {
    "ExecuteTime": {
     "end_time": "2020-03-09T03:34:39.739349Z",
     "start_time": "2020-03-09T03:34:15.560982Z"
    }
   },
   "outputs": [],
   "source": [
    "tfidf_tsne_data = tsne.fit_transform(tfidf_nmf_data)"
   ]
  },
  {
   "cell_type": "code",
   "execution_count": null,
   "metadata": {
    "ExecuteTime": {
     "end_time": "2020-03-09T03:34:47.046154Z",
     "start_time": "2020-03-09T03:34:46.533097Z"
    }
   },
   "outputs": [],
   "source": [
    "plt.rcParams.update({'figure.figsize': (10, 10)})\n",
    "sns.scatterplot(tfidf_tsne_data[:, 0], tfidf_tsne_data[:, 1],\n",
    "                size = 2, palette = 'coolwarm', alpha = 'auto', \n",
    "               markers = '.')"
   ]
  },
  {
   "cell_type": "code",
   "execution_count": null,
   "metadata": {
    "ExecuteTime": {
     "end_time": "2020-03-09T03:37:23.577383Z",
     "start_time": "2020-03-09T03:37:23.572679Z"
    }
   },
   "outputs": [],
   "source": [
    "feature_columns = tfidf_nmf_weights.columns"
   ]
  },
  {
   "cell_type": "code",
   "execution_count": null,
   "metadata": {
    "ExecuteTime": {
     "end_time": "2020-03-09T03:40:18.899504Z",
     "start_time": "2020-03-09T03:40:13.526679Z"
    },
    "scrolled": false
   },
   "outputs": [],
   "source": [
    "plt.rcParams.update({'figure.figsize': (10, 120)})\n",
    "for i in range(len(feature_columns)):\n",
    "    plt.subplot(len(feature_columns), 1, i+1)\n",
    "    sns.scatterplot(tfidf_tsne_data[:, 0], tfidf_tsne_data[:, 1]\n",
    "                    ,hue=tfidf_nmf_weights[feature_columns[i]]\n",
    "                , size = 2, palette = 'coolwarm', alpha = 'auto', \n",
    "               markers = '.')\n",
    "    plt.title(f'Feature: {feature_columns[i]}');"
   ]
  },
  {
   "cell_type": "markdown",
   "metadata": {},
   "source": [
    "## it would be interesting to know the distribution of topics and the relationship with the predetermined topics from myhealthed"
   ]
  },
  {
   "cell_type": "markdown",
   "metadata": {},
   "source": [
    "## How many clusters can i find to see if this works for topic modeling"
   ]
  },
  {
   "cell_type": "code",
   "execution_count": null,
   "metadata": {
    "ExecuteTime": {
     "end_time": "2020-03-07T18:50:05.014339Z",
     "start_time": "2020-03-07T18:50:05.005328Z"
    }
   },
   "outputs": [],
   "source": [
    "from sklearn.decomposition import SparsePCA, TruncatedSVD\n",
    "\n",
    "from sklearn.utils.extmath import randomized_svd\n",
    "\n",
    "# U, Sigma, VT = randomized_svd"
   ]
  },
  {
   "cell_type": "code",
   "execution_count": null,
   "metadata": {
    "ExecuteTime": {
     "end_time": "2020-03-07T18:50:05.040318Z",
     "start_time": "2020-03-07T18:50:05.023839Z"
    }
   },
   "outputs": [],
   "source": [
    "# need to reduce the dimensions\n",
    "random_state=42\n",
    "svd = TruncatedSVD(random_state=random_state, n_components=2)"
   ]
  },
  {
   "cell_type": "code",
   "execution_count": null,
   "metadata": {
    "ExecuteTime": {
     "end_time": "2020-03-07T18:50:05.109817Z",
     "start_time": "2020-03-07T18:50:05.043933Z"
    }
   },
   "outputs": [],
   "source": [
    "svd_results = svd.fit_transform(X=tfidf_dtm)"
   ]
  },
  {
   "cell_type": "code",
   "execution_count": null,
   "metadata": {
    "ExecuteTime": {
     "end_time": "2020-03-07T18:50:05.134516Z",
     "start_time": "2020-03-07T18:50:05.112636Z"
    }
   },
   "outputs": [],
   "source": [
    "svd_results"
   ]
  },
  {
   "cell_type": "code",
   "execution_count": null,
   "metadata": {
    "ExecuteTime": {
     "end_time": "2020-03-07T18:50:05.160039Z",
     "start_time": "2020-03-07T18:50:05.138913Z"
    }
   },
   "outputs": [],
   "source": [
    "len(svd_results)"
   ]
  },
  {
   "cell_type": "code",
   "execution_count": null,
   "metadata": {
    "ExecuteTime": {
     "end_time": "2020-03-07T18:51:36.115759Z",
     "start_time": "2020-03-07T18:51:36.009174Z"
    }
   },
   "outputs": [],
   "source": [
    "stories_data[['svd_component_1', 'svd_component_2']] =pd.DataFrame(svd_results)\n",
    "\n",
    "stories_data.head()"
   ]
  },
  {
   "cell_type": "code",
   "execution_count": null,
   "metadata": {
    "ExecuteTime": {
     "end_time": "2020-03-07T18:50:39.912602Z",
     "start_time": "2020-03-07T18:50:39.493411Z"
    }
   },
   "outputs": [],
   "source": [
    "sns.scatterplot(data=stories_data\n",
    "                , x=stories_data.svd_component_1, y=stories_data.svd_component_2, hue='topic')"
   ]
  },
  {
   "cell_type": "markdown",
   "metadata": {},
   "source": [
    "## what if we try to reduce the dimensions and cluster and compare the centroids to identify themes in the clusters as a way of topic modeling? \n",
    "\n",
    "so far im not getting a lot of progress with topic modeling so i want to try something different"
   ]
  },
  {
   "cell_type": "code",
   "execution_count": null,
   "metadata": {
    "ExecuteTime": {
     "end_time": "2020-03-08T18:59:33.823646Z",
     "start_time": "2020-03-08T18:59:33.812746Z"
    }
   },
   "outputs": [],
   "source": [
    "tfidf_dtm.shape # over 18k parameters that i need to reduce"
   ]
  },
  {
   "cell_type": "code",
   "execution_count": null,
   "metadata": {
    "ExecuteTime": {
     "end_time": "2020-03-08T19:02:35.076479Z",
     "start_time": "2020-03-08T19:01:33.280555Z"
    }
   },
   "outputs": [],
   "source": [
    "svd = TruncatedSVD(n_components=5000 # this is still a lot of parameters to fit a model....\n",
    "                , random_state=random_state)\n",
    "\n",
    "svd_fitted = svd.fit_transform(tfidf_dtm)"
   ]
  },
  {
   "cell_type": "code",
   "execution_count": null,
   "metadata": {
    "ExecuteTime": {
     "end_time": "2020-03-08T19:06:51.738136Z",
     "start_time": "2020-03-08T19:06:51.718949Z"
    }
   },
   "outputs": [],
   "source": [
    "np.cumsum(svd.explained_variance_ratio_)"
   ]
  },
  {
   "cell_type": "code",
   "execution_count": null,
   "metadata": {
    "ExecuteTime": {
     "end_time": "2020-03-08T19:02:40.034895Z",
     "start_time": "2020-03-08T19:02:39.853846Z"
    }
   },
   "outputs": [],
   "source": [
    "plt.plot(np.cumsum(svd.explained_variance_ratio_)) # i want to achieve \n",
    "# this can be used to find the elbow of the plot to find the optimal number of components"
   ]
  },
  {
   "cell_type": "code",
   "execution_count": null,
   "metadata": {},
   "outputs": [],
   "source": []
  },
  {
   "cell_type": "code",
   "execution_count": null,
   "metadata": {},
   "outputs": [],
   "source": []
  },
  {
   "cell_type": "code",
   "execution_count": null,
   "metadata": {
    "ExecuteTime": {
     "end_time": "2020-03-07T02:14:13.643823Z",
     "start_time": "2020-03-07T02:14:13.632993Z"
    }
   },
   "outputs": [],
   "source": [
    "tfidf_dtm.shape"
   ]
  },
  {
   "cell_type": "code",
   "execution_count": null,
   "metadata": {
    "ExecuteTime": {
     "end_time": "2020-03-07T02:12:43.486669Z",
     "start_time": "2020-03-07T02:12:43.169584Z"
    }
   },
   "outputs": [],
   "source": [
    "import matplotlib.pyplot as plt\n",
    "%matplotlib inline\n",
    "\n",
    "plt.plot(np.cumsum(svd.explained_variance_ratio_))"
   ]
  },
  {
   "cell_type": "code",
   "execution_count": null,
   "metadata": {
    "ExecuteTime": {
     "end_time": "2020-03-07T02:13:48.273612Z",
     "start_time": "2020-03-07T02:13:48.262789Z"
    }
   },
   "outputs": [],
   "source": [
    "svd.explained_variance_ratio_.sum()"
   ]
  },
  {
   "cell_type": "code",
   "execution_count": null,
   "metadata": {
    "ExecuteTime": {
     "end_time": "2020-03-07T02:16:19.036598Z",
     "start_time": "2020-03-07T02:16:19.029815Z"
    }
   },
   "outputs": [],
   "source": [
    "print(len(np.cumsum(svd.explained_variance_ratio_)))"
   ]
  },
  {
   "cell_type": "code",
   "execution_count": null,
   "metadata": {},
   "outputs": [],
   "source": []
  },
  {
   "cell_type": "code",
   "execution_count": null,
   "metadata": {},
   "outputs": [],
   "source": []
  },
  {
   "cell_type": "code",
   "execution_count": null,
   "metadata": {
    "ExecuteTime": {
     "end_time": "2020-03-07T01:49:41.428274Z",
     "start_time": "2020-03-07T01:49:41.420160Z"
    }
   },
   "outputs": [],
   "source": [
    "svd.components_."
   ]
  },
  {
   "cell_type": "code",
   "execution_count": null,
   "metadata": {
    "ExecuteTime": {
     "end_time": "2020-03-07T01:50:45.038197Z",
     "start_time": "2020-03-07T01:50:45.027604Z"
    }
   },
   "outputs": [],
   "source": [
    "svd.explained_variance_ratio_"
   ]
  },
  {
   "cell_type": "code",
   "execution_count": null,
   "metadata": {},
   "outputs": [],
   "source": []
  }
 ],
 "metadata": {
  "kernelspec": {
   "display_name": "delta_env",
   "language": "python",
   "name": "delta_env"
  },
  "language_info": {
   "codemirror_mode": {
    "name": "ipython",
    "version": 3
   },
   "file_extension": ".py",
   "mimetype": "text/x-python",
   "name": "python",
   "nbconvert_exporter": "python",
   "pygments_lexer": "ipython3",
   "version": "3.7.4"
  },
  "varInspector": {
   "cols": {
    "lenName": 16,
    "lenType": 16,
    "lenVar": 40
   },
   "kernels_config": {
    "python": {
     "delete_cmd_postfix": "",
     "delete_cmd_prefix": "del ",
     "library": "var_list.py",
     "varRefreshCmd": "print(var_dic_list())"
    },
    "r": {
     "delete_cmd_postfix": ") ",
     "delete_cmd_prefix": "rm(",
     "library": "var_list.r",
     "varRefreshCmd": "cat(var_dic_list()) "
    }
   },
   "types_to_exclude": [
    "module",
    "function",
    "builtin_function_or_method",
    "instance",
    "_Feature"
   ],
   "window_display": false
  }
 },
 "nbformat": 4,
 "nbformat_minor": 2
}
