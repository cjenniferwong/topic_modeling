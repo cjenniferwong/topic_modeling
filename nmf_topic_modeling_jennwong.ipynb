{
 "cells": [
  {
   "cell_type": "markdown",
   "metadata": {},
   "source": [
    "# Topic Modeling and Recommending Similar Stories\n",
    "\n",
    "\n",
    "Using unstructured text data, we are able to extract topics, and utilize these topics as dimensions to evaluate how similar stories are to each other to make better recommendations than random."
   ]
  },
  {
   "cell_type": "code",
   "execution_count": 5,
   "metadata": {
    "ExecuteTime": {
     "end_time": "2020-03-18T17:51:27.052224Z",
     "start_time": "2020-03-18T17:51:27.042830Z"
    }
   },
   "outputs": [],
   "source": [
    "import pandas as pd\n",
    "import numpy as np\n",
    "import seaborn as sns\n",
    "import matplotlib.pyplot as plt\n",
    "%matplotlib inline\n",
    "jennwong_color = '#240FAB'\n",
    "\n",
    "random_state=42 # to make sure its reproducible\n",
    "\n",
    "from glob import glob\n",
    "datafiles = glob('data/*')"
   ]
  },
  {
   "cell_type": "code",
   "execution_count": 6,
   "metadata": {
    "ExecuteTime": {
     "end_time": "2020-03-18T17:51:27.096091Z",
     "start_time": "2020-03-18T17:51:27.067179Z"
    }
   },
   "outputs": [],
   "source": [
    "# packages for preprocessing text\n",
    "from nltk.tokenize import word_tokenize\n",
    "from nltk import pos_tag\n",
    "from nltk.stem import WordNetLemmatizer\n",
    "import string\n",
    "from nltk.corpus import stopwords\n",
    "\n",
    "# packages for topic modeling\n",
    "from sklearn.model_selection import train_test_split\n",
    "from sklearn.feature_extraction.text import TfidfVectorizer\n",
    "from sklearn.decomposition import NMF\n",
    "from sklearn.metrics.pairwise import cosine_similarity\n",
    "\n",
    "# loading custom function to display topic vocab\n",
    "from custom_functions import display_topics"
   ]
  },
  {
   "cell_type": "code",
   "execution_count": 7,
   "metadata": {
    "ExecuteTime": {
     "end_time": "2020-03-18T17:51:27.188344Z",
     "start_time": "2020-03-18T17:51:27.103392Z"
    }
   },
   "outputs": [],
   "source": [
    "# loading the data\n",
    "stories_data = pd.read_csv(datafiles[0])"
   ]
  },
  {
   "cell_type": "code",
   "execution_count": 8,
   "metadata": {
    "ExecuteTime": {
     "end_time": "2020-03-18T17:51:27.267004Z",
     "start_time": "2020-03-18T17:51:27.227167Z"
    }
   },
   "outputs": [],
   "source": [
    "trainset, testset = train_test_split(stories_data\n",
    "                                     , random_state=random_state\n",
    "                                    , test_size=0.1)\n",
    "\n",
    "testset.to_csv('testset_jennwong.csv', index=False)"
   ]
  },
  {
   "cell_type": "markdown",
   "metadata": {},
   "source": [
    "## Cleaning the column names to make it easier to work with"
   ]
  },
  {
   "cell_type": "code",
   "execution_count": 9,
   "metadata": {
    "ExecuteTime": {
     "end_time": "2020-03-18T17:51:27.303263Z",
     "start_time": "2020-03-18T17:51:27.287723Z"
    }
   },
   "outputs": [],
   "source": [
    "stories_data = trainset.copy(deep=True) # makes it easier to work with"
   ]
  },
  {
   "cell_type": "code",
   "execution_count": 10,
   "metadata": {
    "ExecuteTime": {
     "end_time": "2020-03-18T17:51:27.381672Z",
     "start_time": "2020-03-18T17:51:27.331484Z"
    }
   },
   "outputs": [
    {
     "name": "stdout",
     "output_type": "stream",
     "text": [
      "<class 'pandas.core.frame.DataFrame'>\n",
      "Int64Index: 1809 entries, 1501 to 860\n",
      "Data columns (total 8 columns):\n",
      "story_id        1809 non-null int64\n",
      "perspective     1809 non-null object\n",
      "age             1384 non-null float64\n",
      "lgbtq           1384 non-null object\n",
      "race            1384 non-null object\n",
      "topic           1809 non-null object\n",
      "published_at    741 non-null object\n",
      "story_texts     1809 non-null object\n",
      "dtypes: float64(1), int64(1), object(6)\n",
      "memory usage: 127.2+ KB\n"
     ]
    }
   ],
   "source": [
    "# dropping duplicates if the text are the same\n",
    "stories_data.drop_duplicates(subset=['Story texts'], inplace=True)\n",
    "\n",
    "# renaming columns to make them easier to work with\n",
    "drop_columns = [column for column in stories_data.columns if 'link' in column.lower()]\n",
    "drop_columns.extend([ 'Title', 'Lede', 'Cringey', 'Haha', 'Me too', 'Interesting', 'Phone', 'Like'])\n",
    "stories_data.drop(columns=drop_columns, inplace=True, errors='ignore')\n",
    "\n",
    "stories_data.columns = [column.lower().replace(' ', '_') for column in stories_data.columns]\n",
    "stories_data.rename(columns={\n",
    "    'id':'story_id'\n",
    "}, inplace=True)\n",
    "stories_data.info()"
   ]
  },
  {
   "cell_type": "code",
   "execution_count": 11,
   "metadata": {
    "ExecuteTime": {
     "end_time": "2020-03-18T17:51:27.411531Z",
     "start_time": "2020-03-18T17:51:27.387977Z"
    }
   },
   "outputs": [
    {
     "data": {
      "text/plain": [
       "story_id           0\n",
       "perspective        0\n",
       "age              425\n",
       "lgbtq            425\n",
       "race             425\n",
       "topic              0\n",
       "published_at    1068\n",
       "story_texts        0\n",
       "dtype: int64"
      ]
     },
     "execution_count": 11,
     "metadata": {},
     "output_type": "execute_result"
    }
   ],
   "source": [
    "# how many are missing data\n",
    "stories_data.isna().sum()"
   ]
  },
  {
   "cell_type": "code",
   "execution_count": 12,
   "metadata": {
    "ExecuteTime": {
     "end_time": "2020-03-18T17:51:27.438955Z",
     "start_time": "2020-03-18T17:51:27.415317Z"
    }
   },
   "outputs": [],
   "source": [
    "# dropping the row that doenst have data for the text column since we're using the text column heavily\n",
    "stories_data.dropna(subset=['story_texts'], inplace=True)\n",
    "\n",
    "# resetting index since i dropped rows earlier\n",
    "stories_data.reset_index(inplace=True)\n",
    "stories_data.drop('index', axis=1, inplace=True)"
   ]
  },
  {
   "cell_type": "markdown",
   "metadata": {},
   "source": [
    "## Cleaning the Text\n",
    "\n",
    "1. lemmatizing the text\n",
    "2. removing stop words\n",
    "4. create n_grams\n",
    "3. vectorizing the words to feed to the algorithm"
   ]
  },
  {
   "cell_type": "code",
   "execution_count": 13,
   "metadata": {
    "ExecuteTime": {
     "end_time": "2020-03-18T17:51:35.479329Z",
     "start_time": "2020-03-18T17:51:27.446749Z"
    },
    "scrolled": true
   },
   "outputs": [],
   "source": [
    "stories_data['cleaned'] = stories_data.story_texts.str.replace('[^\\w\\s]','')\n",
    "\n",
    "# getting the POS tags to feed to the lem\n",
    "stories_data['pos_tagged'] = stories_data.cleaned.map(word_tokenize).map(pos_tag)"
   ]
  },
  {
   "cell_type": "code",
   "execution_count": 14,
   "metadata": {
    "ExecuteTime": {
     "end_time": "2020-03-18T17:51:39.638425Z",
     "start_time": "2020-03-18T17:51:35.481615Z"
    }
   },
   "outputs": [],
   "source": [
    "lem = WordNetLemmatizer()\n",
    "stories_data['lemmed'] = stories_data['pos_tagged'].map(lambda x: [lem.lemmatize(word, tag[0].lower()) for word\n",
    "                                                                   , tag in x if tag[0].lower() in ['n', 'a', 'r', 'v']])\n",
    "stories_data.lemmed = stories_data.lemmed.map(lambda x: ' '.join(word for word in x))"
   ]
  },
  {
   "cell_type": "markdown",
   "metadata": {},
   "source": [
    "## Topic Modeling with different algorithms"
   ]
  },
  {
   "cell_type": "code",
   "execution_count": 15,
   "metadata": {
    "ExecuteTime": {
     "end_time": "2020-03-18T17:51:39.731851Z",
     "start_time": "2020-03-18T17:51:39.694716Z"
    }
   },
   "outputs": [],
   "source": [
    "# transforming the stop words in the same pattern that the text is being processed as \n",
    "stop_words = stopwords.words('english')\n",
    "stop_words = [s.translate(str.maketrans('', '', string.punctuation)) for s in stop_words]\n",
    "\n",
    "# additional stop words removing from corpus\n",
    "additional_stop_words = ['im', 'idk', 'friend', 'nothing', 'meh'\n",
    "                         , 'ha', 'hey', 'hi', 'ive', 'vjfjfjfc', 'umm', 'wan'\n",
    "                        , 'na', 'hello', 'wyd']"
   ]
  },
  {
   "cell_type": "code",
   "execution_count": 16,
   "metadata": {
    "ExecuteTime": {
     "end_time": "2020-03-18T17:51:40.431653Z",
     "start_time": "2020-03-18T17:51:39.752795Z"
    }
   },
   "outputs": [
    {
     "data": {
      "text/plain": [
       "(1809, 33355)"
      ]
     },
     "execution_count": 16,
     "metadata": {},
     "output_type": "execute_result"
    }
   ],
   "source": [
    "#tfidf vectorizer\n",
    "tfidf = TfidfVectorizer(stop_words=stop_words + additional_stop_words\n",
    "                        , lowercase=True\n",
    "                       , ngram_range=(1,2))\n",
    "\n",
    "# document term matrix \n",
    "tfidf_dtm = tfidf.fit_transform(stories_data.lemmed)\n",
    "tfidf_dtm.shape"
   ]
  },
  {
   "cell_type": "code",
   "execution_count": 17,
   "metadata": {
    "ExecuteTime": {
     "end_time": "2020-03-18T17:51:40.458519Z",
     "start_time": "2020-03-18T17:51:40.449077Z"
    }
   },
   "outputs": [],
   "source": [
    "# tfidf_nmf.components_ # an array like a dictionary with words and values aka the h component matrix lol "
   ]
  },
  {
   "cell_type": "code",
   "execution_count": 18,
   "metadata": {
    "ExecuteTime": {
     "end_time": "2020-03-18T17:51:40.894441Z",
     "start_time": "2020-03-18T17:51:40.472273Z"
    }
   },
   "outputs": [],
   "source": [
    "n_components=3\n",
    "tfidf_nmf = NMF(n_components=n_components\n",
    "            , random_state=random_state)\n",
    "tfidf_nmf_data = tfidf_nmf.fit_transform(tfidf_dtm)\n",
    "# tfidf_nmf_data.shape"
   ]
  },
  {
   "cell_type": "markdown",
   "metadata": {},
   "source": [
    "## Finding the optimal number of topics for the corpus"
   ]
  },
  {
   "cell_type": "code",
   "execution_count": 19,
   "metadata": {
    "ExecuteTime": {
     "end_time": "2020-03-18T17:52:16.903777Z",
     "start_time": "2020-03-18T17:51:40.897102Z"
    }
   },
   "outputs": [],
   "source": [
    "n_components = 20\n",
    "scores = {}\n",
    "for num in range(1, n_components): # note that this is polynomial o\n",
    "    tfidf_nmf = NMF(n_components=num\n",
    "                , random_state=random_state)\n",
    "    tfidf_nmf_data = tfidf_nmf.fit_transform(tfidf_dtm)\n",
    "    scores[num] = tfidf_nmf.reconstruction_err_\n",
    "\n",
    "# rec_error.rec_err.plot()"
   ]
  },
  {
   "cell_type": "code",
   "execution_count": 20,
   "metadata": {
    "ExecuteTime": {
     "end_time": "2020-03-18T17:52:17.291897Z",
     "start_time": "2020-03-18T17:52:16.909301Z"
    }
   },
   "outputs": [
    {
     "data": {
      "text/plain": [
       "<matplotlib.axes._subplots.AxesSubplot at 0x1274de310>"
      ]
     },
     "execution_count": 20,
     "metadata": {},
     "output_type": "execute_result"
    },
    {
     "data": {
      "image/png": "[encoded data removed]",
      "text/plain": [
       "<Figure size 432x288 with 1 Axes>"
      ]
     },
     "metadata": {
      "needs_background": "light"
     },
     "output_type": "display_data"
    }
   ],
   "source": [
    "rec_error = pd.DataFrame(scores.items(), columns = ['n_topics', 'rec_err'])\n",
    "rec_error.rec_err.plot()"
   ]
  },
  {
   "cell_type": "code",
   "execution_count": 23,
   "metadata": {
    "ExecuteTime": {
     "end_time": "2020-03-18T17:53:44.623528Z",
     "start_time": "2020-03-18T17:53:44.285115Z"
    }
   },
   "outputs": [
    {
     "data": {
      "image/png": "[encoded data removed]",
      "text/plain": [
       "<Figure size 432x288 with 1 Axes>"
      ]
     },
     "metadata": {
      "needs_background": "light"
     },
     "output_type": "display_data"
    }
   ],
   "source": [
    "# taking the derivative to find the elbow\n",
    "rec_error['delta_err'] = rec_error.rec_err.diff()\n",
    "rec_error['delta_topic'] = rec_error.n_topics.diff()\n",
    "rec_error['marginal_err_decrease'] = rec_error.delta_err / rec_error.delta_topic * -1\n",
    "\n",
    "# rec_error.set_index('n_topics', inplace=True)\n",
    "sns.lineplot(data=rec_error\n",
    "             , x='n_topics'\n",
    "             , y='marginal_err_decrease'\n",
    "             , color=jennwong_color)\n",
    "plt.ylabel('Reconstruction Error Gradient')\n",
    "plt.xlabel('Number of Topics')\n",
    "plt.xticks(rec_error.n_topics)\n",
    "\n",
    "plt.title('Reconstruction Error Elbow Plot')\n",
    "plt.vlines(x=11, ymin=0.04, ymax=.08)\n",
    "\n",
    "plt.savefig('/Users/jennwong/Documents/GitHub/cjenniferwong.github.io/assets/Topic_Modeling_NMF.svg')\n",
    "plt.show();"
   ]
  },
  {
   "cell_type": "markdown",
   "metadata": {},
   "source": [
    "## Figuring out what the topics actually mean by looking at the stories\n",
    "\n",
    "sorting the stories by the highest ranking to figure out what the topics mean"
   ]
  },
  {
   "cell_type": "code",
   "execution_count": 24,
   "metadata": {
    "ExecuteTime": {
     "end_time": "2020-03-18T17:54:01.904832Z",
     "start_time": "2020-03-18T17:54:00.818858Z"
    }
   },
   "outputs": [],
   "source": [
    "tfidf_nmf = NMF(n_components=11\n",
    "            , random_state=random_state)\n",
    "tfidf_nmf_data = tfidf_nmf.fit_transform(tfidf_dtm)"
   ]
  },
  {
   "cell_type": "code",
   "execution_count": 25,
   "metadata": {
    "ExecuteTime": {
     "end_time": "2020-03-18T17:54:02.904540Z",
     "start_time": "2020-03-18T17:54:02.833038Z"
    }
   },
   "outputs": [
    {
     "name": "stdout",
     "output_type": "stream",
     "text": [
      "\n",
      "Topic  0\n",
      "make, feel, felt, make feel, really, people, well, think, judge, time\n",
      "\n",
      "Topic  1\n",
      "good, good girl, room good, room, girl good, good act, dick, home good, wym good, mad good\n",
      "\n",
      "Topic  2\n",
      "sex, sex sex, want, boyfriend, sex say, want sex, sexy, bad, forget sex, condom\n",
      "\n",
      "Topic  3\n",
      "tell, say, want, mom, tell tell, come, go, school, tell mom, anyone\n",
      "\n",
      "Topic  4\n",
      "know, know know, want know, want, know relationship, know say, really know, know feel, great, feel\n",
      "\n",
      "Topic  5\n",
      "get, period, go, puberty, start, get period, mom, go puberty, hair, bathroom\n",
      "\n",
      "Topic  6\n",
      "girl, like girl, like, good girl, girl school, gender, question, boy, say, dress\n",
      "\n",
      "Topic  7\n",
      "ask, say, consent, ask consent, yes, fuck, say yes, want, question, kiss\n",
      "\n",
      "Topic  8\n",
      "date, like, guy, start, break, really, relationship, together, month, start date\n",
      "\n",
      "Topic  9\n",
      "love, say, say love, love say, tell love, say crush, love tell, boyfriend, always, love shake\n",
      "\n",
      "Topic  10\n",
      "talk, sad, say, stop, get, back, never, fight, start talk, always\n"
     ]
    }
   ],
   "source": [
    "# note to self: it seems like stop words are removed before n grams are created\n",
    "# need to check source code to make sure\n",
    "# i wonder if you can modifer the sihoette score for topic modeling\n",
    "\n",
    "display_topics(tfidf_nmf, tfidf.get_feature_names())"
   ]
  },
  {
   "cell_type": "code",
   "execution_count": 26,
   "metadata": {
    "ExecuteTime": {
     "end_time": "2020-03-18T17:54:03.832491Z",
     "start_time": "2020-03-18T17:54:03.822203Z"
    }
   },
   "outputs": [],
   "source": [
    "m, n = tfidf_nmf_data.shape\n",
    "tfidf_nmf_df = pd.DataFrame(tfidf_nmf_data, columns=[f'topic_{num}' for num in range(n)])\n",
    "tfidf_nmf_df['max_topic'] = tfidf_nmf_data.argmax(axis=1)\n",
    "# tfidf_nmf_df['max_topic'].value_counts().sort_values()"
   ]
  },
  {
   "cell_type": "code",
   "execution_count": 27,
   "metadata": {
    "ExecuteTime": {
     "end_time": "2020-03-18T17:54:05.986433Z",
     "start_time": "2020-03-18T17:54:05.972788Z"
    }
   },
   "outputs": [],
   "source": [
    "combined = pd.merge(stories_data, tfidf_nmf_df, left_index=True, right_index=True)"
   ]
  },
  {
   "cell_type": "code",
   "execution_count": 28,
   "metadata": {
    "ExecuteTime": {
     "end_time": "2020-03-18T17:54:07.779304Z",
     "start_time": "2020-03-18T17:54:07.757502Z"
    }
   },
   "outputs": [
    {
     "data": {
      "text/plain": [
       "['I was attracted to someone that I gotten the opportunity to know and after awhile of us being friends I realized that what I felt for them was bigger than what we were.; I think what I found myself attracted to most was the fact that they listened to me. They didn’t belittle how I felt or tell me I was being stupid for question things. They were patient and understanding, and the fact that they genuinely cared made me feel like I was worth something; even if it was just to them.; I never felt physical attraction to them. That always confused me at first, and I wasn’t sure if that was because I didn’t actually like them more than a friend or if I was just attracted to the characteristics that make them who they are; minus their physical appearance. Then, I researched and researched and found out that I’m asexual and the lack of sexual or physical attraction to them made sense.; People started to notice how I acted around them before they did. They would drop subtle hints or make jokes but they never picked up on it. Apart of me felt like that was an indirect rejection that they couldn’t see what was right in front of them. Yet, I was too nervous and insecure to approach them with the subject because I didn’t know where we would go from, if they accepted or rejected how I felt. ; People would make sexual comments around me after finding out I like him. It always made me feel more insecure because they weren’t ugly—there’s no way someone so beautiful on the inside could ever be ugly. Although, I never felt sexual or physical attracted to them regardless. No sexual urges occurred within my body when I was in their presence or felt turn on by things that an average person would find sexy 😶; I feel like my feelings are an inconvenience to them because if they do feel the same way what can I offer to them?',\n",
       " 'My mother judged me when I told her that I was dropping a class that was on my premed track. I had to drop the class because it was no longer good for my mental health. I felt like I didn’t have time to breathe. She thought it was me giving up on my goals In life. She didn’t go to college so she doesn’t really understand how everything works. I had my brother explain it to her and now things are better. ; It made me feel like I was disappointing her but after conversing with my brother and father I realized that there are things that won’t align with other people’s goals for me and at the end of the day I need to do what is best for me at that point in time.  ; I felt like I was being judged because she legitimately told me that I was making a mistake and giving up.; Looking back I think she’s worried that I will get discouraged/distracted because she didn’t end up going to school and she really just wants the best for me. Since she doesn’t understand the school system I think she thinks this would put me behind or something. ; I felt hurt. I don’t like feeling like I’m failing people or disappointing them. ; Talking to my other family made me feel better. And not having to cry over that midterm made me feel extraordinary. ',\n",
       " 'The people that I think judge me are my friends. ; I am 13 years old and still haven’t gotten my period when all of my friends have. I also haven’t gotten a boyfriend when all of my friends have. I feel different and judged. I am also white when all of my friends are either mixed, Mexican, or black. They judge me for being white and I feel so different from them. I always feel insecure around them too. I think that they feel like I am annoying and innocent and small when I’m just trying to be heard.; My friends sometimes make me feel like they don’t like me by never giving me any attention or including me in anything. They also never give me hugs willingly which sounds silly but I love hugs. ; I think they feel this way about me because I’m different from them. ; It’s wasn’t just one time either, it’s all the time.; I have a separate friend group from them. They make me feel accepted and loved even though I’m younger then them. I can’t even just drop my other friends because those friends go to my school and the nicer friends don’t. If I don’t have my school friends I will feel even more lonely and depressed and even more of a loser.',\n",
       " 'I felt judged by my friends when I didn’t do well on a test. ; We were all taking a test in a class I was really struggling with. ; They made me feel bad for not understanding the material. ; They thought they were better than me and smarter than me because they understood the material. ; It made me feel sad because I know I am smart but they were making me feel like I wasn’t. ; After I talked to some of my other friends about it, they helped me with the class ',\n",
       " 'I felt really judged when someone I was talking to romantically asked me about my previous romantic experiences and responded condescendingly, belittling, and degradingly to my answer. The person who judged me was an acquaintance I had recently met.; I responded to their question of how experienced I was/how many people I had previously been romantically involved with, and the person made me feel lesser for the way that I responded, and it made me feel like I was inadequate.; The person was laughing and using words that were condescending.; I think they felt this way about me because I haven’t been romantically involved with a lot of people, while this person was rather experienced.; I felt really insecure about myself.; It made me feel better to talk to me friends about it.']"
      ]
     },
     "execution_count": 28,
     "metadata": {},
     "output_type": "execute_result"
    }
   ],
   "source": [
    "# dictionary to map the topics numbers and the defined topic names\n",
    "n_top = 5\n",
    "topics = {}\n",
    "combined.sort_values(by='topic_0', ascending=False).head(n_top)['story_texts'].tolist()"
   ]
  },
  {
   "cell_type": "code",
   "execution_count": 29,
   "metadata": {
    "ExecuteTime": {
     "end_time": "2020-03-18T17:54:09.681282Z",
     "start_time": "2020-03-18T17:54:09.676154Z"
    }
   },
   "outputs": [],
   "source": [
    "# creating a function instead of just copying and pasting code\n",
    "def top_n_docs(df, sorting_column, text_column, n_top=1):\n",
    "    '''\n",
    "    pass in the dataframe, the column that you're sorting values by, the number of top docs to print\n",
    "    , and the column name that has the text values\n",
    "    \n",
    "    returns a list of values that follow these parameters\n",
    "    '''\n",
    "    return df.sort_values(by=sorting_column, ascending=False).head(n_top)[text_column].tolist()"
   ]
  },
  {
   "cell_type": "code",
   "execution_count": 30,
   "metadata": {
    "ExecuteTime": {
     "end_time": "2020-03-18T17:54:11.577924Z",
     "start_time": "2020-03-18T17:54:11.566554Z"
    }
   },
   "outputs": [
    {
     "data": {
      "text/plain": [
       "['Idk; Idk; Idk; Idk; Idk; Good']"
      ]
     },
     "execution_count": 30,
     "metadata": {},
     "output_type": "execute_result"
    }
   ],
   "source": [
    "topics['topic_0'] = 'interpersonal_relationships_conversations' # venting and advice\n",
    "\n",
    "top_n_docs(combined, 'topic_1', 'story_texts')"
   ]
  },
  {
   "cell_type": "code",
   "execution_count": 31,
   "metadata": {
    "ExecuteTime": {
     "end_time": "2020-03-18T17:54:13.332810Z",
     "start_time": "2020-03-18T17:54:13.315628Z"
    }
   },
   "outputs": [
    {
     "data": {
      "text/plain": [
       "['I will sex; 0; 0; 0']"
      ]
     },
     "execution_count": 31,
     "metadata": {},
     "output_type": "execute_result"
    }
   ],
   "source": [
    "topics['topic_1'] = 'arent taking the app seriously and just replying good'\n",
    "top_n_docs(combined, 'topic_2', 'story_texts')"
   ]
  },
  {
   "cell_type": "code",
   "execution_count": 32,
   "metadata": {
    "ExecuteTime": {
     "end_time": "2020-03-18T17:54:15.902404Z",
     "start_time": "2020-03-18T17:54:15.869610Z"
    }
   },
   "outputs": [
    {
     "data": {
      "text/plain": [
       "[\"I was really close with this boy and he was like my best friend; Then one day he told me he liked me and I didn't like him back; So I didn't know how to tell him so I told one of my other friends to tell him; Now we are not close anymore\"]"
      ]
     },
     "execution_count": 32,
     "metadata": {},
     "output_type": "execute_result"
    }
   ],
   "source": [
    "topics['topic_2'] = 'the word sex'\n",
    "top_n_docs(combined, 'topic_3', 'story_texts')"
   ]
  },
  {
   "cell_type": "code",
   "execution_count": 33,
   "metadata": {
    "ExecuteTime": {
     "end_time": "2020-03-18T17:54:17.998435Z",
     "start_time": "2020-03-18T17:54:17.975047Z"
    },
    "scrolled": false
   },
   "outputs": [
    {
     "data": {
      "text/plain": [
       "['Why ; ???; I don’t know ; No; I don’t know ']"
      ]
     },
     "execution_count": 33,
     "metadata": {},
     "output_type": "execute_result"
    }
   ],
   "source": [
    "topics['topic_3'] = 'literally i dont know ' # first period\n",
    "top_n_docs(combined, 'topic_4', 'story_texts')"
   ]
  },
  {
   "cell_type": "code",
   "execution_count": 34,
   "metadata": {
    "ExecuteTime": {
     "end_time": "2020-03-18T17:54:19.747718Z",
     "start_time": "2020-03-18T17:54:19.690304Z"
    }
   },
   "outputs": [
    {
     "data": {
      "text/plain": [
       "[\"I first realized I was going through puberty when I started getting acne, at first I thought it was going to go away in a few weeks and I didn't care to wash my face because I didn't think to much of it.; I was about ten years old at the time, which was 5th grade for me. We were starting to watch puberty videos and learning about our health more around that time.; I could tell I was going through puberty because I had to get new bras and I started buying razors for the future and I was going through major mood swings. Pubic hair was starting to grow and my acne was getting worse.; I felt nervous, I didn't know when it would happen and I really didn't want to, but at the same time all my friends were bragging how they got their periods while I had still been waiting, which made me impatient. \"]"
      ]
     },
     "execution_count": 34,
     "metadata": {},
     "output_type": "execute_result"
    }
   ],
   "source": [
    "topics['topic_4'] = 'conversations and friendships' # social relationships\n",
    "top_n_docs(combined, 'topic_5', 'story_texts')"
   ]
  },
  {
   "cell_type": "code",
   "execution_count": 35,
   "metadata": {
    "ExecuteTime": {
     "end_time": "2020-03-18T17:54:21.467128Z",
     "start_time": "2020-03-18T17:54:21.455003Z"
    }
   },
   "outputs": [
    {
     "data": {
      "text/plain": [
       "[\"Hi; Girl ; I'm ok x; How old are ix; U\",\n",
       " 'I was born a girl man ; Nothing I was born a girl man; I am a girl ; I am a girl and I was born a girl use your noggin ayy ; I am a girl and I dress like a girl thank you next',\n",
       " '9; Because I liked this girl in my school ; Ok; I’m straight ; Like a girl ',\n",
       " \"I questioned my gender identity at 11. i was born a girl some times I wish I was a boy but I'm a girl😔; What made me question my gender was that being a girl is harder then being a boy. Theres so much girlS have to do that boys don't       ; I felt mad and depressed I hated life and I still hate It  ; I identify as a girl. I was born a girl I'm still a girl now ; I don't know what I look like or dress or act\",\n",
       " '26; I.... i..... likes basketball 🥴; Good because I am a girl and I feel like it and I always have been.🤗; Girl. DURH; Nothing I am a girl',\n",
       " '11; My mum; Weird; A girl; I act,look,dress like a bad girl ',\n",
       " 'Yesterday I was at a game and girls from the other school liked me; Another girl from my school said \"watch yourself because those girls like you and you go with Salome.\"; But I know that I don\\'t and everyone keeps saying that we do.',\n",
       " '9; Idk; Good ; I am a girl; Hello ',\n",
       " 'I was 7 ; nothing; good; a girl ; umm',\n",
       " 'I questioned my gender when I was 12; I kinda liked the way girls looked; I didn’t want to tell anyone and I was so scared; I am figuring it out but I think I’m bi 😕; I look like a girl and eat like and girl and I just like both genders🤪']"
      ]
     },
     "execution_count": 35,
     "metadata": {},
     "output_type": "execute_result"
    }
   ],
   "source": [
    "topics['topic_5'] = 'puberty and first period'\n",
    "top_n_docs(combined, 'topic_6', 'story_texts', n_top=10)"
   ]
  },
  {
   "cell_type": "code",
   "execution_count": 36,
   "metadata": {
    "ExecuteTime": {
     "end_time": "2020-03-18T17:54:23.113010Z",
     "start_time": "2020-03-18T17:54:23.098311Z"
    }
   },
   "outputs": [
    {
     "data": {
      "text/plain": [
       "['How old are you; 13; Why are you asking!; Idk']"
      ]
     },
     "execution_count": 36,
     "metadata": {},
     "output_type": "execute_result"
    }
   ],
   "source": [
    "topics['topic_6'] = 'consent_and_sex'\n",
    "top_n_docs(combined, 'topic_7', 'story_texts')"
   ]
  },
  {
   "cell_type": "code",
   "execution_count": 37,
   "metadata": {
    "ExecuteTime": {
     "end_time": "2020-03-18T17:54:25.411565Z",
     "start_time": "2020-03-18T17:54:25.391257Z"
    }
   },
   "outputs": [
    {
     "data": {
      "text/plain": [
       "['There was this boy, and we both knew that I liked him and he liked me. ; We started spending time together during school and people started shipping us, so we started dating.; I told them that I would be interested in dating him.; They reacted well and said that they would like to date me too.; It was a healthy reaction and we had a healthy relationship for a few months before breaking up.',\n",
       " \"So I had this boyfriend. I started dating him in October and he broke up with me in may. I was kinda fine with it like we were falling out; So then in October of the next year we started doing cross country together again and he started regretting breaking up with me; So then he was talking to my best friend about how he liked me and he kept trying to FaceTime me; And then he started dating my enemy who is my best friend's other best friend; And I like his best friend and he found out some how. But the guy I like doesn’t even know me but damnnnnn he’s so hot.\",\n",
       " \"So I had this boyfriend. I started dating him in October and he broke up with me in May. I was kinda fine with it - like we were falling out.; So then in October of the next year we started doing XC together again and he started regretting breaking up with me; So then he was talking to my best friend about how he liked me and he kept trying to FaceTime me. And then he started dating my enemy who is my best friend's other best friend; . And then he started dating my enemy who is my best friend's other best friend. And I like his best friend and he found out some how. But the guy I like doesn’t even know me but damnnnnn he’s so hot.\",\n",
       " 'Right after I turned 13 my best friend told me she liked me; I had just started dating my boyfriend and I didn’t know what to do; A couple months later I realized I liked her back but I did not do anything about it...until the next school year; I broke up with my bf and we’ve been dating ever since',\n",
       " 'In 7th grade, I was at a new school but I made friends pretty quick. Soon I had a crush on one of my friends, and soon we became best friends; My crush on him got bigger and bigger, but I knew he didn’t like me back. 8th grade we were still really close and then I started dating other people; Soon my friends started hinting that my best friend liked me. I ended the relationship I was in; And then after awhile, I told my best friend we should “pretend to date” since so many people thought we would be cute together.; We “dated” for around 18 days, and on New Years he told me he had feelings for me. We’ve been dating for a year and two months ever since, and he’s still my best friend ❤️']"
      ]
     },
     "execution_count": 37,
     "metadata": {},
     "output_type": "execute_result"
    }
   ],
   "source": [
    "topics['topic_7'] = 'feeling judged'\n",
    "top_n_docs(combined, 'topic_8', 'story_texts', n_top=5)"
   ]
  },
  {
   "cell_type": "code",
   "execution_count": 38,
   "metadata": {
    "ExecuteTime": {
     "end_time": "2020-03-18T17:54:28.512592Z",
     "start_time": "2020-03-18T17:54:28.479194Z"
    }
   },
   "outputs": [],
   "source": [
    "topics['topic_8'] = 'being a girl'"
   ]
  },
  {
   "cell_type": "code",
   "execution_count": 39,
   "metadata": {
    "ExecuteTime": {
     "end_time": "2020-03-18T17:54:31.335182Z",
     "start_time": "2020-03-18T17:54:31.315884Z"
    }
   },
   "outputs": [
    {
     "data": {
      "text/plain": [
       "['Hi; Love you; 💋💋💋💋; 💋; 😍🦄',\n",
       " 'One day I was ready to say to my crush i love and i was so nervous ; I was shaking ; He said to me I love you too; I was happy with him; I was happy because he told me I love u too',\n",
       " 'I dint; I didn’t ; I love you; They said I love you back; Bad',\n",
       " 'What do u do wen the person u love tells u u love em to much or they don’t want u to love them; It’s was always good times and vibe she was my god; Wen she said I loved here to much which was tru I loved her more than myself ; That I was crazy bout her which I was truly was; I was heart broken I couldn’t believe or thought that u could love someone to much; I went missing for lik two weeks and she came to see me at my job today and it made happy to see and touch her and smell her it made catch the same feelings all over again ',\n",
       " 'I was with my now ex bf ; We were texting and talking about our day and stuff; He said that he loved me.  And i said i loved him too.  The he said, \" 😑 if you really love me then show me.\".; I responded by saying \" i dont want to send you nudes.\"; He got mad ; He said \" send me the damn nudes you bitch!!!🤬\"']"
      ]
     },
     "execution_count": 39,
     "metadata": {},
     "output_type": "execute_result"
    }
   ],
   "source": [
    "top_n_docs(combined, 'topic_9', 'story_texts', n_top=5)"
   ]
  },
  {
   "cell_type": "code",
   "execution_count": 40,
   "metadata": {
    "ExecuteTime": {
     "end_time": "2020-03-18T17:54:33.103806Z",
     "start_time": "2020-03-18T17:54:33.087364Z"
    }
   },
   "outputs": [
    {
     "data": {
      "text/plain": [
       "['Hi; Nothing; What are you talking about ; Idk; About what; Idk',\n",
       " 'My friends talked about my boyfriend behind my back ; They said he was a bad boyfriend and talked shit about him ; Sad; I killed them; No; They died',\n",
       " 'Well my cousin told me that my best friend was being a fake friend and talking behind my back; Well she was talking trash about me and being mean and ignoring me; Well I just said ; Hit me, be mean, ignore me, talk behind my back; I was sad and mad because we have been friends for like 4 years; Well we stopped being friends for a while',\n",
       " 'My friend, I prefer to not say her name.; I was eating takis lol; I was like “ so I have to talk to you” she was like “okay; “Okay”..; I was proud because she actually said okay, so I was finna start talking; I was about to start getting into my conversation, like about to talk',\n",
       " 'When I was in 7th grade I met this guy Bob. We first met when we were in band class together.; And one day my friend said \"An 8th grader likes you!\" I was thinking it was the guy and he said \"yes\".; So later I was talking to Bob and he said \"I really like you but I have a girlfriend.\" I stopped talking to him after that. ; 3 months go by and they break up so we start talking. Next year he went to highschool and I was in middle school still.; We were on and off talked but I \"loved\" him.; So I get o high school and we start talking again. Then we finally go out after 3 years... only for it to end in 4 days!']"
      ]
     },
     "execution_count": 40,
     "metadata": {},
     "output_type": "execute_result"
    }
   ],
   "source": [
    "topics['topic_9'] = 'relationships'\n",
    "top_n_docs(combined, 'topic_10', 'story_texts', n_top=5)"
   ]
  },
  {
   "cell_type": "code",
   "execution_count": 41,
   "metadata": {
    "ExecuteTime": {
     "end_time": "2020-03-18T17:54:35.583742Z",
     "start_time": "2020-03-18T17:54:35.559955Z"
    }
   },
   "outputs": [],
   "source": [
    "topics['topic_10'] = 'dating'"
   ]
  },
  {
   "cell_type": "code",
   "execution_count": 42,
   "metadata": {
    "ExecuteTime": {
     "end_time": "2020-03-18T17:54:37.391273Z",
     "start_time": "2020-03-18T17:54:37.379008Z"
    }
   },
   "outputs": [],
   "source": [
    "# renaming the columns to make more intuitive sense \n",
    "combined.rename(columns=topics, inplace=True)"
   ]
  },
  {
   "cell_type": "markdown",
   "metadata": {},
   "source": [
    "## Recommending similar stories based on their topic modeling scores\n",
    "\n",
    "Now that we have different features to compare the stories along different dimensions, can we generate recommendations based on how similar stories are to each other?"
   ]
  },
  {
   "cell_type": "code",
   "execution_count": 43,
   "metadata": {
    "ExecuteTime": {
     "end_time": "2020-03-18T17:54:39.602259Z",
     "start_time": "2020-03-18T17:54:39.318422Z"
    }
   },
   "outputs": [],
   "source": [
    "cosine_scores = cosine_similarity(tfidf_nmf_data, tfidf_nmf_data)\n",
    "\n",
    "# have to get the second most similar since the most similar would be with itself and we dont want that lol\n",
    "combined['most_similar_index'] = cosine_scores.argsort()[:, -2] \n",
    "# combined.head()"
   ]
  },
  {
   "cell_type": "code",
   "execution_count": 44,
   "metadata": {
    "ExecuteTime": {
     "end_time": "2020-03-18T17:54:41.531207Z",
     "start_time": "2020-03-18T17:54:41.512254Z"
    }
   },
   "outputs": [],
   "source": [
    "# wow a self join have the most similar story in the same row to make it easier to compare\n",
    "self_joined = pd.merge(combined, combined['story_texts'], left_on='most_similar_index', right_index=True)"
   ]
  },
  {
   "cell_type": "code",
   "execution_count": 45,
   "metadata": {
    "ExecuteTime": {
     "end_time": "2020-03-18T17:54:44.252131Z",
     "start_time": "2020-03-18T17:54:43.951952Z"
    }
   },
   "outputs": [
    {
     "data": {
      "image/png": "[encoded data removed]",
      "text/plain": [
       "<Figure size 432x288 with 1 Axes>"
      ]
     },
     "metadata": {
      "needs_background": "light"
     },
     "output_type": "display_data"
    }
   ],
   "source": [
    "# there are a few stories that are deemed to be most similar to lots of other stories\n",
    "sns.distplot(combined.most_similar_index.value_counts());"
   ]
  },
  {
   "cell_type": "code",
   "execution_count": 46,
   "metadata": {
    "ExecuteTime": {
     "end_time": "2020-03-18T17:54:46.929001Z",
     "start_time": "2020-03-18T17:54:46.900876Z"
    }
   },
   "outputs": [],
   "source": [
    "random_sample = self_joined[~self_joined.published_at.isna()].sample(n=10\n",
    "                   , random_state=random_state)\n",
    "# random_sample"
   ]
  },
  {
   "cell_type": "code",
   "execution_count": 47,
   "metadata": {
    "ExecuteTime": {
     "end_time": "2020-03-18T17:54:49.501324Z",
     "start_time": "2020-03-18T17:54:49.484932Z"
    }
   },
   "outputs": [
    {
     "data": {
      "text/plain": [
       "array([[\"Well, my period cramps are so severe I have to get medication from the doctor.; It makes me break out all along my forehead.; i am going through puberty a little later, but for the most part I am on track; Everyone seems so on top of their health and routines and I am DEFINITELY not; The cramps suck because they make me cry but the acne on my forehead makes me extremely self-conscious; I've heard that there are face washes that I'll try to make my skin less oily so imma gonna try that\",\n",
       "        \"My curves are getting bigger, and while that is great, I'm getting noticed for it and I'm more of a shy person.; I think I am going through puberty at the same time as my friends, which helps because everyone else is changing too.; Because it helps me go trough puberty when everyone else is so that you don't feel alone.; They make me feel confident about myself,  like I'm coming out of my shell a little more each week.\"]],\n",
       "      dtype=object)"
      ]
     },
     "execution_count": 47,
     "metadata": {},
     "output_type": "execute_result"
    }
   ],
   "source": [
    "# checking a recommended story\n",
    "random_sample[['story_texts_x', 'story_texts_y']].head(1).values"
   ]
  },
  {
   "cell_type": "markdown",
   "metadata": {},
   "source": [
    "## Are there patterns with these topics?"
   ]
  },
  {
   "cell_type": "code",
   "execution_count": null,
   "metadata": {
    "ExecuteTime": {
     "end_time": "2020-03-16T19:01:46.971147Z",
     "start_time": "2020-03-16T19:01:24.770343Z"
    }
   },
   "outputs": [],
   "source": [
    "# correlation with different topics in the docs\n",
    "sns.pairplot(data=tfidf_nmf_df)"
   ]
  }
 ],
 "metadata": {
  "kernelspec": {
   "display_name": "delta_env",
   "language": "python",
   "name": "delta_env"
  },
  "language_info": {
   "codemirror_mode": {
    "name": "ipython",
    "version": 3
   },
   "file_extension": ".py",
   "mimetype": "text/x-python",
   "name": "python",
   "nbconvert_exporter": "python",
   "pygments_lexer": "ipython3",
   "version": "3.7.4"
  },
  "varInspector": {
   "cols": {
    "lenName": 16,
    "lenType": 16,
    "lenVar": 40
   },
   "kernels_config": {
    "python": {
     "delete_cmd_postfix": "",
     "delete_cmd_prefix": "del ",
     "library": "var_list.py",
     "varRefreshCmd": "print(var_dic_list())"
    },
    "r": {
     "delete_cmd_postfix": ") ",
     "delete_cmd_prefix": "rm(",
     "library": "var_list.r",
     "varRefreshCmd": "cat(var_dic_list()) "
    }
   },
   "types_to_exclude": [
    "module",
    "function",
    "builtin_function_or_method",
    "instance",
    "_Feature"
   ],
   "window_display": false
  }
 },
 "nbformat": 4,
 "nbformat_minor": 2
}
